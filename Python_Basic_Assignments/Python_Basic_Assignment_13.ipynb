{
 "cells": [
  {
   "cell_type": "markdown",
   "id": "d59aba30",
   "metadata": {},
   "source": [
    "1. What advantages do Excel spreadsheets have over CSV spreadsheets?\n",
    "Ans. In Excel spreadsheets can have values of data types other than strings.\n",
    "Cells can have different fonts, sizes, or color settings; cells can have varying widths and heights\n",
    "Adjacent cells can be merged and you can embed images and charts."
   ]
  },
  {
   "cell_type": "markdown",
   "id": "2f2edb41",
   "metadata": {},
   "source": [
    "2.What do you pass to csv.reader() and csv.writer() to create reader and writer objects?\n",
    "Ans. File object"
   ]
  },
  {
   "cell_type": "markdown",
   "id": "69c8f3a0",
   "metadata": {},
   "source": [
    "3. What modes do File objects for reader and writer objects need to be opened in?\n",
    "Ans. read bianry('rb') and write binary('wb')"
   ]
  },
  {
   "cell_type": "markdown",
   "id": "ed6681d0",
   "metadata": {},
   "source": [
    "4. What method takes a list argument and writes it to a CSV file?\n",
    "Ans. Writerow method. \n",
    "\n",
    "example :\n",
    "\n",
    "import csv\n",
    "nms = [[1, 2, 3, 4, 5, 6], [7, 8, 9, 10, 11, 12]]\n",
    "f = open('numbers2.csv', 'w')\n",
    "with f:\n",
    "    writer = csv.writer(f)\n",
    "        for row in nms:\n",
    "        writer.writerow(row)\n",
    "To write all data use writerows        "
   ]
  },
  {
   "cell_type": "markdown",
   "id": "16234a1c",
   "metadata": {},
   "source": [
    "5. What do the keyword arguments delimiter and line terminator do?\n",
    "Ans. delimiter changes the string used to seperate cells in a row.\n",
    "line terminator changes the string that is used to separte the rows.\n"
   ]
  },
  {
   "cell_type": "markdown",
   "id": "0b398afa",
   "metadata": {},
   "source": [
    "6. What function takes a string of JSON data and returns a Python data structure?\n",
    "Ans. json.loads()\n",
    "example :\n",
    "\n",
    "import json \n",
    "employee ='{\"id\":\"06661\", \"name\": \"Mounika\", \"department\":\"Industrial\"}'\n",
    "employee_dict = json.loads(employee) "
   ]
  },
  {
   "cell_type": "markdown",
   "id": "4e124128",
   "metadata": {},
   "source": [
    "7. What function takes a Python data structure and returns a string of JSON data?\n",
    "Ans. json.dumps()\n",
    "just like above program"
   ]
  }
 ],
 "metadata": {
  "kernelspec": {
   "display_name": "Python 3",
   "language": "python",
   "name": "python3"
  },
  "language_info": {
   "codemirror_mode": {
    "name": "ipython",
    "version": 3
   },
   "file_extension": ".py",
   "mimetype": "text/x-python",
   "name": "python",
   "nbconvert_exporter": "python",
   "pygments_lexer": "ipython3",
   "version": "3.8.8"
  }
 },
 "nbformat": 4,
 "nbformat_minor": 5
}
