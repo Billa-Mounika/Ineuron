{
 "cells": [
  {
   "cell_type": "markdown",
   "id": "63e90572",
   "metadata": {},
   "source": [
    "1. What are the two values of the Boolean data type? How do you write them?\n",
    "Ans. True and False, using capital T and F."
   ]
  },
  {
   "cell_type": "markdown",
   "id": "e43e82c2",
   "metadata": {},
   "source": [
    "2.What are the three different types of Boolean operators?\n",
    "Ans. and, or, and not."
   ]
  },
  {
   "cell_type": "markdown",
   "id": "eb8e30e2",
   "metadata": {},
   "source": [
    "3. Make a list of each Boolean operator&#39;s truth tables (i.e. every possible combination of Boolean\n",
    "values for the operator and what it evaluate ).\n",
    "\n",
    "Ans. True and True is True.\n",
    "True and False is False.\n",
    "False and True is False.\n",
    "False and False is False.\n",
    "True or True is True.\n",
    "True or False is True.\n",
    "False or True is True.\n",
    "False or False is False.\n",
    "not True is False.\n",
    "not False is True."
   ]
  },
  {
   "cell_type": "markdown",
   "id": "4a717178",
   "metadata": {},
   "source": [
    "4. What are the values of the following expressions? \n",
    "(5 > 4) and (3 == 5)\n",
    "not (5 > 4)\n",
    "(5 > 4) or (3 == 5)\n",
    "not ((5 > 4) or (3 == 5))\n",
    "(True and True) and (True == False)\n",
    "(not False) or (not True)\n",
    "\n",
    "Ans. False, False, True, False, False, True"
   ]
  },
  {
   "cell_type": "markdown",
   "id": "6e44671a",
   "metadata": {},
   "source": [
    "5. What are the six comparison operators?\n",
    "Ans. ==, !=, <, >, <=, and >=."
   ]
  },
  {
   "cell_type": "markdown",
   "id": "17665e12",
   "metadata": {},
   "source": [
    "6. How do you tell the difference between the equal to and assignment operators?Describe a\n",
    "condition and when you would use one.\n",
    "Ans. == is the equal to operator that compares two values and evaluates to a Boolean, while = is the assignment operator that stores a value in a variable."
   ]
  },
  {
   "cell_type": "markdown",
   "id": "b080f9c3",
   "metadata": {},
   "source": [
    "7. Identify the three blocks in this code:\n",
    "spam = 0\n",
    "if spam == 10:\n",
    "print('eggs')\n",
    "if spam > 5:\n",
    "print('bacon')\n",
    "else:\n",
    "print('ham')\n",
    "print('spam')\n",
    "print('spam')\n",
    "\n",
    "Ans.The three blocks are everything inside the if statement and the lines print('bacon') and print('ham')."
   ]
  },
  {
   "cell_type": "markdown",
   "id": "94bcf9e7",
   "metadata": {},
   "source": [
    "8. Write code that prints Hello if 1 is stored in spam, prints Howdy if 2 is stored in spam, and prints\n",
    "Greetings! if anything else is stored in spam.\n",
    "Ans. if spam == 1:\n",
    "        print(\"Hello\")\n",
    "     elif spam == 2:   \n",
    "         print(\"Howdy\")\n",
    "     else:\n",
    "         print(\"Greetings!\")"
   ]
  },
  {
   "cell_type": "markdown",
   "id": "9a964c43",
   "metadata": {},
   "source": [
    "9.If your programme is stuck in an endless loop, what keys you’ll press?\n",
    "Ans. press CTRL + C"
   ]
  },
  {
   "cell_type": "markdown",
   "id": "aee16daf",
   "metadata": {},
   "source": [
    "10.How can you tell the difference between break and continue?\n",
    "Ans. **Break** : Terminates the smallest enclosing loop (i.e. while, do-while, for loop, or switch statement). \n",
    "Ex :  for val in “string”:\n",
    "           if val==”i”:\n",
    "           break\n",
    "            print(val)\n",
    "        print(“The end”)\n",
    "**continue** : Skips the rest of the loop statement and starts the next iteration of the loop to take place\n",
    "Ex : for val in “string”:\n",
    "        if val==”i”:\n",
    "        continue\n",
    "        print(val)\n",
    "        print(“The end”)\n",
    "        "
   ]
  },
  {
   "cell_type": "markdown",
   "id": "f4cbddf2",
   "metadata": {},
   "source": [
    "11. In a for loop, what is the difference between range(10), range(0, 10), and range(0, 10, 1)?\n",
    "Ans. range(start(OPTIONAL), stop, step(OPTIONAL))\n",
    "**range(10)** - Starts from 0 and stops at 10. Here 1st and last arguments are not passed as they are optional. Step = 1 is taken as default here.\n",
    "Output is 0 1 2 3 4 5 6 7 8 9.\n",
    "\n",
    "**range(0, 10)** - Starts from 0 and stops at 10. Here 1st and 2nd arguments are only passed. Step = 1 is taken as default here.\n",
    "Output is 0 1 2 3 4 5 6 7 8 9.\n",
    "\n",
    "**range(0, 10, 1)** - Starts from 0 and stops at 10. Here all parameters are passed. Step is 1 i.e the diff between one number and next will be the 1 number\n",
    "Output is 0 1 2 3 4 5 6 7 8 9."
   ]
  },
  {
   "cell_type": "markdown",
   "id": "b9079d7e",
   "metadata": {},
   "source": [
    "12.Write a short program that prints the numbers 1 to 10 using a for loop. Then write an equivalent\n",
    "program that prints the numbers 1 to 10 using a while loop.\n",
    "Ans. **using for** : \n",
    "    for i in range(1,11):\n",
    "        print(i)\n",
    "     **using while** :    \n",
    "     i = 1\n",
    "     while(i<=10):\n",
    "         print(i)\n",
    "        i += 1   "
   ]
  },
  {
   "cell_type": "markdown",
   "id": "a958d348",
   "metadata": {},
   "source": [
    "13. If you had a function named bacon() inside a module named spam, how would you call it after\n",
    "importing spam?\n",
    "Ans. spam.bacon()."
   ]
  },
  {
   "cell_type": "code",
   "execution_count": null,
   "id": "50439d82",
   "metadata": {},
   "outputs": [],
   "source": []
  }
 ],
 "metadata": {
  "kernelspec": {
   "display_name": "Python 3 (ipykernel)",
   "language": "python",
   "name": "python3"
  },
  "language_info": {
   "codemirror_mode": {
    "name": "ipython",
    "version": 3
   },
   "file_extension": ".py",
   "mimetype": "text/x-python",
   "name": "python",
   "nbconvert_exporter": "python",
   "pygments_lexer": "ipython3",
   "version": "3.9.6"
  }
 },
 "nbformat": 4,
 "nbformat_minor": 5
}
