{
 "cells": [
  {
   "cell_type": "markdown",
   "id": "df54de60",
   "metadata": {},
   "source": [
    "1. Create a list called years_list, starting with the year of your birth, and each year thereafter until\n",
    "the year of your fifth birthday. For example, if you were born in 1980. the list would be years_list =\n",
    "[1980, 1981, 1982, 1983, 1984, 1985].\n",
    "Ans. years_list = [1993,1994,1995,1996,1997,1998]"
   ]
  },
  {
   "cell_type": "markdown",
   "id": "81fbc5e9",
   "metadata": {},
   "source": [
    "2. In which year in years_list was your third birthday? Remember, you were 0 years of age for your\n",
    "first year.\n",
    "Ans.years_list[2]"
   ]
  },
  {
   "cell_type": "markdown",
   "id": "d95c9101",
   "metadata": {},
   "source": [
    "3.In the years list, which year were you the oldest?\n",
    "Ans. years_list[5] or years_list[-1]"
   ]
  },
  {
   "cell_type": "markdown",
   "id": "1650a4c2",
   "metadata": {},
   "source": [
    "4. Make a list called things with these three strings as elements: 'mozzarella', 'cinderella','salmonella'.\n",
    "Ans. things = ['mozzarella', 'cinderella','salmonella']\n",
    "type(things)"
   ]
  },
  {
   "cell_type": "markdown",
   "id": "0dc50505",
   "metadata": {},
   "source": [
    "5. Capitalize the element in things that refers to a person and then print the list. Did it change the\n",
    "element in the list?\n",
    "Ans. Problem in below cell."
   ]
  },
  {
   "cell_type": "code",
   "execution_count": 1,
   "id": "3f7a5d16",
   "metadata": {},
   "outputs": [
    {
     "name": "stdout",
     "output_type": "stream",
     "text": [
      "['mozzarella', 'Cinderella', 'salmonella']\n"
     ]
    }
   ],
   "source": [
    "things = ['mozzarella', 'cinderella', 'salmonella']\n",
    "\n",
    "result = []\n",
    "for thing in things:\n",
    "    if thing == 'cinderella':\n",
    "        thing = thing.capitalize()\n",
    "    result.append(thing)\n",
    "print(result)"
   ]
  },
  {
   "cell_type": "markdown",
   "id": "fc33baf9",
   "metadata": {},
   "source": [
    "6. Make a surprise list with the elements 'Groucho,' 'Chico,' and 'Harpo.'\n",
    "Ans. surprise_list = [\"Groucho\", \"Chico\", \"Harpo\"]"
   ]
  },
  {
   "cell_type": "markdown",
   "id": "9d02e3c2",
   "metadata": {},
   "source": [
    "7. Lowercase the last element of the surprise list, reverse it, and then capitalize it.\n",
    "Ans. Program in below cell."
   ]
  },
  {
   "cell_type": "code",
   "execution_count": 2,
   "id": "6b543355",
   "metadata": {},
   "outputs": [
    {
     "name": "stdout",
     "output_type": "stream",
     "text": [
      "lower : harpo, reverse : opraH, capitalize the reverse : Harpo\n"
     ]
    }
   ],
   "source": [
    "#lowering the last element\n",
    "def suprise_list_to_lower(surprise_list):\n",
    "    return surprise_list[-1].lower()\n",
    "\n",
    "#reversing the last element\n",
    "def suprise_list_to_reverse(s):\n",
    "    str=''\n",
    "    for i in  s:\n",
    "        str = i + str\n",
    "    return str\n",
    "\n",
    "#capitalizing the last element\n",
    "def suprise_list_to_capitalize(surprise_list):\n",
    "    return surprise_list.capitalize()\n",
    "\n",
    "surprise_list = [\"Groucho\", \"Chico\", \"Harpo\"]\n",
    "print(\"lower : {}, reverse : {}, capitalize the reverse : {}\".format(suprise_list_to_lower(surprise_list),\n",
    "suprise_list_to_reverse(surprise_list[-1]),\n",
    "suprise_list_to_capitalize(surprise_list[-1])))"
   ]
  },
  {
   "cell_type": "code",
   "execution_count": 3,
   "id": "bdc11b24",
   "metadata": {},
   "outputs": [
    {
     "data": {
      "text/plain": [
       "dict"
      ]
     },
     "execution_count": 3,
     "metadata": {},
     "output_type": "execute_result"
    }
   ],
   "source": [
    "#8. Make an English-to-French dictionary called e2f and print it. Here are your starter words: dog is chien, cat is chat, and walrus is morse.\n",
    "#Ans\n",
    "e2f = {'dog':'chien', 'cat':'chat', 'walrus' : 'morse'}\n",
    "type(e2f)"
   ]
  },
  {
   "cell_type": "code",
   "execution_count": 6,
   "id": "ea08bb16",
   "metadata": {},
   "outputs": [
    {
     "name": "stdout",
     "output_type": "stream",
     "text": [
      "morse\n"
     ]
    }
   ],
   "source": [
    "#9. Write the French word for walrus in your three-word dictionary e2f.\n",
    "#Ans. \n",
    "for i in e2f:\n",
    "    if i == 'walrus':\n",
    "        french_word = e2f[i]\n",
    "        print(french_word)"
   ]
  },
  {
   "cell_type": "code",
   "execution_count": 2,
   "id": "54c409de",
   "metadata": {},
   "outputs": [
    {
     "name": "stdout",
     "output_type": "stream",
     "text": [
      "Original dictionary is : \n",
      "{'dog': 'chien', 'cat': 'chat', 'walrus': 'morse'}\n",
      "New Dictionary\n",
      "{'chien': 'dog', 'chat': 'cat', 'morse': 'walrus'}\n"
     ]
    }
   ],
   "source": [
    "#10. Make a French-to-English dictionary called f2e from e2f. Use the items method.\n",
    "#Ans.\n",
    "\n",
    "e2f = {'dog':'chien', 'cat':'chat', 'walrus' : 'morse'}\n",
    "  \n",
    "f2e = dict([(value, key) for key, value in e2f.items()])\n",
    "    \n",
    "print (\"Original dictionary is : \")\n",
    "print(e2f) \n",
    "\n",
    "print (\"New Dictionary\") \n",
    "print(f2e) \n"
   ]
  },
  {
   "cell_type": "code",
   "execution_count": 3,
   "id": "1a799d73",
   "metadata": {},
   "outputs": [
    {
     "name": "stdout",
     "output_type": "stream",
     "text": [
      "dog\n"
     ]
    }
   ],
   "source": [
    "#11. Print the English version of the French word chien using f2e.\n",
    "#Ans.\n",
    "\n",
    "for i in f2e:\n",
    "    if i == 'chien':\n",
    "        eng_word = f2e[i]\n",
    "        print(eng_word)"
   ]
  },
  {
   "cell_type": "code",
   "execution_count": 4,
   "id": "3481325e",
   "metadata": {},
   "outputs": [
    {
     "name": "stdout",
     "output_type": "stream",
     "text": [
      "dict_keys(['dog', 'cat', 'walrus'])\n"
     ]
    }
   ],
   "source": [
    "#12. Make and print a set of English words from the keys in e2f.\n",
    "#Ans. \n",
    "print(e2f.keys())"
   ]
  },
  {
   "cell_type": "code",
   "execution_count": 11,
   "id": "e5be8a33",
   "metadata": {},
   "outputs": [
    {
     "name": "stdout",
     "output_type": "stream",
     "text": [
      "{'animals': {'cats': ['Henri', 'Grumpy', 'Lucy'], 'emus': {}, 'octopi': {}},\n",
      " 'other': {},\n",
      " 'plants': {}}\n"
     ]
    }
   ],
   "source": [
    "#13. Make a multilevel dictionary called life. Use these strings for the topmost keys: 'animals', 'plants',\n",
    "#and 'other'. Make the 'animals' key refer to another dictionary with the keys 'cats', 'octopi', and\n",
    "#'emus'. Make the 'cats' key refer to a list of strings with the values 'Henri', 'Grumpy', and 'Lucy'.\n",
    "#Make all the other keys refer to empty dictionaries.\n",
    "#Ans. \n",
    "from pprint import pprint\n",
    "life = {\n",
    "    'animals':{'cats' :['Henri','Grumpy','Lucy'],\n",
    "              'octopi':{},\n",
    "              'emus':{}\n",
    "              },\n",
    "    'plants':{},\n",
    "    'other':{}\n",
    "}\n",
    "pprint(life)\n"
   ]
  },
  {
   "cell_type": "code",
   "execution_count": 12,
   "id": "b28af7cd",
   "metadata": {},
   "outputs": [
    {
     "name": "stdout",
     "output_type": "stream",
     "text": [
      "dict_keys(['animals', 'plants', 'other'])\n"
     ]
    }
   ],
   "source": [
    "#14. Print the top-level keys of life.\n",
    "#Ans. \n",
    "print(life.keys())"
   ]
  },
  {
   "cell_type": "code",
   "execution_count": 14,
   "id": "bc11dd19",
   "metadata": {},
   "outputs": [
    {
     "name": "stdout",
     "output_type": "stream",
     "text": [
      "dict_keys(['cats', 'octopi', 'emus'])\n"
     ]
    }
   ],
   "source": [
    "#15. Print the keys for life['animals'].\n",
    "#Ans. \n",
    "print(life['animals'].keys())"
   ]
  },
  {
   "cell_type": "code",
   "execution_count": 17,
   "id": "2b62640c",
   "metadata": {},
   "outputs": [
    {
     "name": "stdout",
     "output_type": "stream",
     "text": [
      "['Henri', 'Grumpy', 'Lucy']\n"
     ]
    }
   ],
   "source": [
    "#16. Print the values for life['animals']['cats']\n",
    "#Ans. \n",
    "print(life['animals']['cats'])"
   ]
  },
  {
   "cell_type": "code",
   "execution_count": null,
   "id": "fc94332e",
   "metadata": {},
   "outputs": [],
   "source": []
  }
 ],
 "metadata": {
  "kernelspec": {
   "display_name": "Python 3 (ipykernel)",
   "language": "python",
   "name": "python3"
  },
  "language_info": {
   "codemirror_mode": {
    "name": "ipython",
    "version": 3
   },
   "file_extension": ".py",
   "mimetype": "text/x-python",
   "name": "python",
   "nbconvert_exporter": "python",
   "pygments_lexer": "ipython3",
   "version": "3.9.6"
  }
 },
 "nbformat": 4,
 "nbformat_minor": 5
}
