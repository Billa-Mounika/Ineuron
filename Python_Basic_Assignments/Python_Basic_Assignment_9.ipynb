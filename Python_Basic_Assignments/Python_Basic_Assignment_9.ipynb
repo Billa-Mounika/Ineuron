{
 "cells": [
  {
   "cell_type": "markdown",
   "id": "9e0d6319",
   "metadata": {},
   "source": [
    "1. To what does a relative path refer?\n",
    "Ans. Relative path refers to a path relative to the location of the current webpage.\n",
    "Ex : If pictures are in C:\\Sample\\Pictures and movies in C:\\Sample\\Movies , the relative path for pictures is \"\n",
    "..\\Pictures\""
   ]
  },
  {
   "cell_type": "markdown",
   "id": "688ba0db",
   "metadata": {},
   "source": [
    "2. What does an absolute path start with your operating system?\n",
    "Ans. Absolutepath begins with a drive letter followed by a colon, such as D:."
   ]
  },
  {
   "cell_type": "markdown",
   "id": "1fc9479b",
   "metadata": {},
   "source": [
    "3. What do the functions os.getcwd() and os.chdir() do?\n",
    "Ans. 1st one returns the current working diectory and 2nd one changes the current working directory to the given path"
   ]
  },
  {
   "cell_type": "markdown",
   "id": "97573ac1",
   "metadata": {},
   "source": [
    "4. What are the . and .. folders?\n",
    "Ans.The . is the current directory and .. is the parent directory."
   ]
  },
  {
   "cell_type": "markdown",
   "id": "2a1181d9",
   "metadata": {},
   "source": [
    "5. In C:\\bacon\\eggs\\spam.txt, which part is the dir name, and which part is the base name?\n",
    "Ans. C:\\bacon\\eggs is the dir name and spam.txt is the base name."
   ]
  },
  {
   "cell_type": "markdown",
   "id": "c5c25361",
   "metadata": {},
   "source": [
    "6. What are the three “mode” arguments that can be passed to the open() function?\n",
    "Ans. reading(r), writing(w,a), reading and writing(w+,r+,a+)"
   ]
  },
  {
   "cell_type": "markdown",
   "id": "da17d51c",
   "metadata": {},
   "source": [
    "7. What happens if an existing file is opened in write mode?\n",
    "Ans. Its contents are discarded and the file is treated as a new empty file."
   ]
  },
  {
   "cell_type": "markdown",
   "id": "be2874a9",
   "metadata": {},
   "source": [
    "8. How do you tell the difference between read() and readlines()?\n",
    "Ans. read() reads all of the file's contents into a string and readline() reads just a single line from the file"
   ]
  },
  {
   "cell_type": "markdown",
   "id": "1a1696a0",
   "metadata": {},
   "source": [
    "9. What data structure does a shelf value resemble?\n",
    "Ans. dict"
   ]
  }
 ],
 "metadata": {
  "kernelspec": {
   "display_name": "Python 3",
   "language": "python",
   "name": "python3"
  },
  "language_info": {
   "codemirror_mode": {
    "name": "ipython",
    "version": 3
   },
   "file_extension": ".py",
   "mimetype": "text/x-python",
   "name": "python",
   "nbconvert_exporter": "python",
   "pygments_lexer": "ipython3",
   "version": "3.8.8"
  }
 },
 "nbformat": 4,
 "nbformat_minor": 5
}
