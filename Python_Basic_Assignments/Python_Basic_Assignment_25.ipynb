{
 "cells": [
  {
   "cell_type": "code",
   "execution_count": 1,
   "id": "6591826d",
   "metadata": {},
   "outputs": [
    {
     "data": {
      "text/plain": [
       "[0, 1, 2, 3, 4, 5, 6, 7, 8, 9]"
      ]
     },
     "execution_count": 1,
     "metadata": {},
     "output_type": "execute_result"
    }
   ],
   "source": [
    "#1) . What is the difference between enclosing a list comprehension in square brackets and\n",
    "#parentheses?\n",
    "\n",
    "lst = [i for i in range(10)]\n",
    "lst\n",
    "#List Comprehension with square brackets produces list.\n",
    "\n",
    "\n",
    "lstParanthesis = (i for i in range(10))\n",
    "lstParanthesis\n",
    "#List Comprehension with parentheses creates generators"
   ]
  },
  {
   "cell_type": "code",
   "execution_count": 2,
   "id": "17f83e5e",
   "metadata": {},
   "outputs": [
    {
     "name": "stdout",
     "output_type": "stream",
     "text": [
      "Dog\n",
      "CAt\n",
      "Bear\n"
     ]
    }
   ],
   "source": [
    "#2) What is the relationship between generators and iterators?\n",
    "#An iterator is an object which contains a countable number of values and it is used to iterate over iterable\n",
    "#objects like list, tuples etc Using an iterator- iter() keyword is used to create an iterator containing an \n",
    "#iterable object. next() keyword is used to call the next element in the iterable object.\n",
    " \n",
    "#It is another way of creating iterators in a simple way where it uses the keyword “yield” instead of returning it\n",
    "#in a defined function Generators are implemented using a function Here, the yield function returns the data \n",
    "#without affecting or exiting the function. It will return a sequence of data in an iterable format where we \n",
    "#need to iterate over the sequence to use the data as they won’t store the entire sequence in the memory By using \n",
    "#next() function we can iterate the output of generator function\n",
    "\n",
    "\n",
    "# iterator\n",
    "iter_list = iter(['Dog', 'CAt', 'Bear'])\n",
    "print(next(iter_list))\n",
    "print(next(iter_list))\n",
    "print(next(iter_list))"
   ]
  },
  {
   "cell_type": "code",
   "execution_count": 3,
   "id": "8eb04c37",
   "metadata": {},
   "outputs": [
    {
     "data": {
      "text/plain": [
       "<generator object sq at 0x0000016ADD4225F0>"
      ]
     },
     "execution_count": 3,
     "metadata": {},
     "output_type": "execute_result"
    }
   ],
   "source": [
    "# GEnerator \n",
    "def sq(n):\n",
    "    for i in range(1, n+1):\n",
    "        yield i*i\n",
    "\n",
    "lst = sq(6)\n",
    "lst\n",
    "\n"
   ]
  },
  {
   "cell_type": "code",
   "execution_count": 4,
   "id": "099e31d6",
   "metadata": {},
   "outputs": [
    {
     "name": "stdout",
     "output_type": "stream",
     "text": [
      "1\n",
      "4\n",
      "9\n",
      "16\n"
     ]
    }
   ],
   "source": [
    "print(next(lst))\n",
    "print(next(lst))\n",
    "print(next(lst))\n",
    "print(next(lst))\n"
   ]
  },
  {
   "cell_type": "markdown",
   "id": "6c47fd0d",
   "metadata": {},
   "source": [
    "#3) What are the signs that a function is a generator function?\n",
    " If a function contains at least one yield statement (it may contain other yield or return statements), it becomes a generator function. Both yield and return will return some value from a function."
   ]
  },
  {
   "cell_type": "markdown",
   "id": "ddfdb45f",
   "metadata": {},
   "source": [
    "#4) What is the purpose of a yield statement?\n",
    "A yield statement looks much like a return statement, except that instead of stopping execution of the function and returning, yield instead provides a value to the code looping over the generator and pauses execution of the generator function"
   ]
  },
  {
   "cell_type": "markdown",
   "id": "e4a8b132",
   "metadata": {},
   "source": [
    "#5) What is the relationship between map calls and list comprehensions? Make a comparison and\n",
    "#contrast between the two.\n",
    "\n",
    "\n",
    "**Map function:** Suppose we have a function and we want to compute this function for different values in a single line of code . This is where map() function plays its role. map() function returns a map object(which is an iterator) of the results after applying the given function to each item of a given iterable (list, tuple etc.)\n",
    "If we already have a function defined, it is often good to use map For example, map(sum, myLists) is more neat than [sum(x) for x in myLists]. You gain the elegance of not having to make up a dummy variable (e.g. sum(x) for x... or sum() for ... or sum(readableName) for readableName...) which you have to type twice, just to iterate.\n",
    "\n",
    "**List Comprehension:** List Comprehension is a substitute for the lambda function, map(), filter() and reduce()\n",
    "\n",
    "**Comparision :**\n",
    "List comprehension is more concise and easier to read as compared to map\n",
    "List comprehension allows filtering. In map, we have no such facility For example, to print all even numbers in range of 100, we can write [n for n in range(100) if n%2 == 0]. There is no alternate for it in map\n",
    "List comprehension are used when a list of results is required, where as map only returns a map object and does not return any list.\n",
    "List comprehension is faster than map when we need to evaluate expressions that are too long or complicated to express\n",
    "Map is faster in case of calling an already defined function (as no lambda is required)\n"
   ]
  }
 ],
 "metadata": {
  "kernelspec": {
   "display_name": "Python 3",
   "language": "python",
   "name": "python3"
  },
  "language_info": {
   "codemirror_mode": {
    "name": "ipython",
    "version": 3
   },
   "file_extension": ".py",
   "mimetype": "text/x-python",
   "name": "python",
   "nbconvert_exporter": "python",
   "pygments_lexer": "ipython3",
   "version": "3.8.8"
  }
 },
 "nbformat": 4,
 "nbformat_minor": 5
}
