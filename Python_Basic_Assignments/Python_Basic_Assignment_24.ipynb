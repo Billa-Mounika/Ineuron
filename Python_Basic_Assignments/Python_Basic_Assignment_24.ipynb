{
 "cells": [
  {
   "cell_type": "markdown",
   "id": "088c582c",
   "metadata": {},
   "source": [
    "#1. What is the relationship between def statements and lambda expressions ?\n",
    "\n",
    "In python, def defined functions are commonly used because of their simplicity. The def defined functions do not return anything if not explicitly returned whereas the lambda function does return an object. The def functions must be declared in the namespace. The def functions can perform any python task including multiple conditions, nested conditions or loops of any level, printing, importing libraries, raising Exceptions, etc.\n",
    "\n",
    "Lambdas are one-line methods without a name or we can say anonymous Func They work practically the same as any other method in Python Lambdas differ from normal Python methods because they can have only one expression, can't contain any statements and their return type is a function object\n"
   ]
  },
  {
   "cell_type": "markdown",
   "id": "36d4a01b",
   "metadata": {},
   "source": [
    "#2. What is the benefit of lambda?\n",
    "\n",
    "The lambda keyword in Python provides a shortcut for declaring small anonymous functions. Lambda functions behave just like regular functions declared with the def keyword. They can be used whenever function objects are required."
   ]
  },
  {
   "cell_type": "markdown",
   "id": "5cedcdfd",
   "metadata": {},
   "source": [
    "#3. Compare and contrast map, filter, and reduce.\n",
    "\n",
    "The **filter()** function returns an iterator were the items are filtered through a function to test if the item is accepted or not\n",
    "Example : \n",
    "ages = [5, 12, 17, 18, 24, 32]\n",
    "\n",
    "def myFunc(x):\n",
    "  if x < 18:\n",
    "    return False\n",
    "  else:\n",
    "    return True\n",
    "\n",
    "adults = filter(myFunc, ages)\n",
    "\n",
    "for x in adults:\n",
    "  print(x) \n",
    "  \n",
    "The **map()** function executes a specified function for each item in an iterable. The item is sent to the function as a parameter.\n",
    "Example :\n",
    "def myfunc(n):\n",
    "  return len(n)\n",
    "\n",
    "x = map(myfunc, ('apple', 'banana', 'cherry')) \n",
    "\n",
    "**reduce()** is useful when you need to apply a function to an iterable and reduce it to a single cumulative value."
   ]
  },
  {
   "cell_type": "markdown",
   "id": "bc4ea86c",
   "metadata": {},
   "source": [
    "4. What are function annotations, and how are they used?\n",
    "\n",
    "Function annotations are a Python 3 feature that lets you add arbitrary metadata to function arguments and return value.\n",
    "\n",
    "Here is a function foo() that takes three arguments called a, b and c and prints their sum. Note that foo() returns nothing. The first argument a is not annotated. The second argument b is annotated with the string ‘annotating b’, and the third argument c is annotated with type int. The return value is annotated with the type float. Note the “->” syntax for annotating the return value.\n",
    "def foo(a, b: 'annotating b', c: int) -> float:\n",
    "    print(a + b + c)\n",
    "The annotations have no impact whatsoever on the execution of the function. Let’s call foo() twice: once with int arguments and once with string arguments. In both cases, foo() does the right thing, and the annotations are simply ignored.\n",
    "foo('Hello', ', ', 'World!')\n",
    "Hello, World!\n",
    " \n",
    "foo(1, 2, 3)\n",
    "6\n",
    "\n",
    "You can use them as better documentation and move argument and return value documentation out of the docstring. For example, this function:\n",
    "def div(a, b):\n",
    "    \"\"\"Divide a by b  \n",
    "    args:\n",
    "        a - the dividend\n",
    "        b - the divisor (must be different than 0)\n",
    "    return:\n",
    "        the result of dividing a by b\n",
    "    \"\"\"\n",
    "    return a / b\n",
    "\n",
    "Can be converted to :\n",
    "\n",
    "def div(a: 'the dividend',\n",
    "        b: 'the divisor (must be different than 0)') -> 'the result of dividing a by b':\n",
    "    \"\"\"Divide a by b\"\"\"\n",
    "    return a / b"
   ]
  },
  {
   "cell_type": "code",
   "execution_count": null,
   "id": "8c7dee47",
   "metadata": {},
   "outputs": [],
   "source": [
    "#5. What are recursive functions, and how are they used?\n",
    "A recursive function is a function that calls itself until it doesn’t.\n",
    "def fact(x):\n",
    "    if x == 1 :\n",
    "        return 1\n",
    "    else :\n",
    "        return x * fact(x-1) # recurtion\n",
    "    \n",
    "fact(3)"
   ]
  },
  {
   "cell_type": "code",
   "execution_count": null,
   "id": "c86d0f4f",
   "metadata": {},
   "outputs": [],
   "source": [
    "#6. What are some general design guidelines for coding functions?\n",
    "\n",
    "\n",
    "Use 4-space indentation and no tabs.\n",
    "Use docstrings\n",
    "Wrap linethat they don’t exceed 79 characters\n",
    "Use of regular and updated comments are valuable to both the coders and users\n",
    "Use of trailing commas : in case of tuple -> ('good',)\n",
    "Use Python’s default UTF-8 or ASCII encodings and not any fancy encodings\n",
    "Naming Conventions 8.Characters that should not be used for identifiers : ‘l’ (lowercase letter el), ‘O’ (uppercase letter oh), ‘I’ (uppercase letter eye) as single character variable names as these are similar to the numerals one and zero.\n",
    "Don’t use non-ASCII characters in identifiers\n",
    "Name your classes and functions consistently\n",
    "While naming of function of methods always use self for the first argument\n"
   ]
  },
  {
   "cell_type": "code",
   "execution_count": null,
   "id": "b72551a0",
   "metadata": {},
   "outputs": [],
   "source": [
    "#7. Name three or more ways that functions can communicate results to a caller.\n",
    "\n",
    "\n",
    "Function can return single value\n",
    "Can return multiple values, tuple\n",
    "can return list,dictionary\n",
    "can return function object\n",
    "can return class object\n"
   ]
  }
 ],
 "metadata": {
  "kernelspec": {
   "display_name": "Python 3",
   "language": "python",
   "name": "python3"
  },
  "language_info": {
   "codemirror_mode": {
    "name": "ipython",
    "version": 3
   },
   "file_extension": ".py",
   "mimetype": "text/x-python",
   "name": "python",
   "nbconvert_exporter": "python",
   "pygments_lexer": "ipython3",
   "version": "3.8.8"
  }
 },
 "nbformat": 4,
 "nbformat_minor": 5
}
