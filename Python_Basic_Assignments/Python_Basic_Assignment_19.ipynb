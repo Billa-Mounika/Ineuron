{
 "cells": [
  {
   "cell_type": "code",
   "execution_count": 4,
   "id": "8ce08330",
   "metadata": {},
   "outputs": [
    {
     "name": "stdout",
     "output_type": "stream",
     "text": [
      "<class '__main__.Thing'>\n",
      "<__main__.Thing object at 0x0000020C2CC2DB80>\n"
     ]
    }
   ],
   "source": [
    "#1. Make a class called Thing with no contents and print it. Then, create an object called example\n",
    "#from this class and also print it. Are the printed values the same or different?\n",
    "\n",
    "class Thing():\n",
    "    pass\n",
    "print(Thing)\n",
    "\n",
    "example = Thing()\n",
    "print(example)"
   ]
  },
  {
   "cell_type": "code",
   "execution_count": 6,
   "id": "5349c3f9",
   "metadata": {},
   "outputs": [
    {
     "data": {
      "text/plain": [
       "'abc'"
      ]
     },
     "execution_count": 6,
     "metadata": {},
     "output_type": "execute_result"
    }
   ],
   "source": [
    "#2. Create a new class called Thing2 and add the value 'abc' to the letters class attribute. Letters\n",
    "#should be printed.\n",
    "\n",
    "class Thing2():\n",
    "    letters='abc'\n",
    "\n",
    "Thing2.letters    "
   ]
  },
  {
   "cell_type": "code",
   "execution_count": 11,
   "id": "9312f3a6",
   "metadata": {},
   "outputs": [
    {
     "name": "stdout",
     "output_type": "stream",
     "text": [
      "xyz\n"
     ]
    }
   ],
   "source": [
    "#3. Make yet another class called, of course, Thing3. This time, assign the value 'xyz' to an instance\n",
    "#(object) attribute called letters. Print letters. Do you need to make an object from the class to do\n",
    "#this?\n",
    "\n",
    "class Thing3():\n",
    "    def __init__(self,word):\n",
    "        self.letters = word\n",
    "    def printletters(self):\n",
    "        print(self.letters)\n",
    "\n",
    "Thing3('xyz').printletters()\n",
    "\n",
    "\n",
    "    "
   ]
  },
  {
   "cell_type": "code",
   "execution_count": 16,
   "id": "e232c4f9",
   "metadata": {},
   "outputs": [],
   "source": [
    "#4. Create an Element class with the instance attributes name, symbol, and number. Create a class\n",
    "#object with the values 'Hydrogen,' 'H,' and 1.\n",
    "\n",
    "class Element():\n",
    "    def __init__(self,name,symbol,number):\n",
    "        self.name =  name\n",
    "        self.symbol =  symbol\n",
    "        self.number =  number\n",
    "\n",
    "ob =  Element('Hydrogen','H',1)    \n"
   ]
  },
  {
   "cell_type": "code",
   "execution_count": 21,
   "id": "57984a3c",
   "metadata": {},
   "outputs": [
    {
     "data": {
      "text/plain": [
       "'Hydrogen'"
      ]
     },
     "execution_count": 21,
     "metadata": {},
     "output_type": "execute_result"
    }
   ],
   "source": [
    "#5. Make a dictionary with these keys and values: 'name': 'Hydrogen', 'symbol': 'H', 'number': 1. Then,\n",
    "#create an object called hydrogen from class Element using this dictionary.\n",
    "\n",
    "dict = {'name': 'Hydrogen', 'symbol': 'H', 'number': 1}\n",
    "\n",
    "hydrogen = Element(**dict)\n"
   ]
  },
  {
   "cell_type": "code",
   "execution_count": 23,
   "id": "edfbaaf4",
   "metadata": {},
   "outputs": [
    {
     "name": "stdout",
     "output_type": "stream",
     "text": [
      "name=Hydrogen, symbol=H, number=1\n"
     ]
    }
   ],
   "source": [
    "#6. For the Element class, define a method called dump() that prints the values of the object’s\n",
    "#attributes (name, symbol, and number). Create the hydrogen object from this new definition and\n",
    "#use dump() to print its attributes.\n",
    "class Element():\n",
    "    def __init__(self,name,symbol,number):\n",
    "        self.name =  name\n",
    "        self.symbol =  symbol\n",
    "        self.number =  number\n",
    "    def dump(self):\n",
    "        print('name=%s, symbol=%s, number=%s'% (self.name, self.symbol, self.number) )\n",
    "ob =  Element('Hydrogen','H',1)   \n",
    "ob.dump()"
   ]
  },
  {
   "cell_type": "code",
   "execution_count": 31,
   "id": "4082e32c",
   "metadata": {},
   "outputs": [
    {
     "name": "stdout",
     "output_type": "stream",
     "text": [
      "name is : Hydrogen , symbol is : H , number is : 1\n"
     ]
    }
   ],
   "source": [
    "#7. Call print(hydrogen). In the definition of Element, change the name of method dump to __str__,\n",
    "#create a new hydrogen object, and call print(hydrogen) again.\n",
    "\n",
    "class Element():\n",
    "    def __init__(self,name,symbol,number):\n",
    "        self.name =  name\n",
    "        self.symbol =  symbol\n",
    "        self.number =  number\n",
    "    def __str__(self):\n",
    "        #print('name=%s, symbol=%s, number=%s'% (self.name, self.symbol, self.number) )\n",
    "        return 'name is : ' + self.name +' , symbol is : '+self.symbol+' , number is : '+str(self.number)\n",
    "hydrogen= Element('Hydrogen','H',1)       \n",
    "print(hydrogen)"
   ]
  },
  {
   "cell_type": "code",
   "execution_count": 44,
   "id": "74340a51",
   "metadata": {},
   "outputs": [
    {
     "data": {
      "text/plain": [
       "'Hydrogen'"
      ]
     },
     "execution_count": 44,
     "metadata": {},
     "output_type": "execute_result"
    }
   ],
   "source": [
    "#8. Modify Element to make the attributes name, symbol, and number private. Define a getter\n",
    "#property for each to return its value.\n",
    "\n",
    "class Element(): \n",
    "    def __init__(self ,name,symbol,number):\n",
    "        self.__name = name\n",
    "        self.__symbol = symbol\n",
    "        self.__number = number\n",
    "    @property\n",
    "    def name(self):\n",
    "        return (self.__name)\n",
    "    @property\n",
    "    def symbol(self):\n",
    "        return (self.__symbol)\n",
    "    @property\n",
    "    def number(self):\n",
    "        return (self.__number)\n",
    "\n",
    "\n",
    "hydrogen = Element(**dict)\n",
    "#hydrogen.__name cannot access, can access with class name liek hydrogen._Element__name and like below with getter func\n",
    "hydrogen.name"
   ]
  },
  {
   "cell_type": "code",
   "execution_count": 47,
   "id": "f0a6c467",
   "metadata": {},
   "outputs": [
    {
     "data": {
      "text/plain": [
       "'campers'"
      ]
     },
     "execution_count": 47,
     "metadata": {},
     "output_type": "execute_result"
    }
   ],
   "source": [
    "#9. Define three classes: Bear, Rabbit, and Octothorpe. For each, define only one method: eats(). This\n",
    "#should return 'berries' (Bear), 'clover' (Rabbit), or 'campers' (Octothorpe). Create one object from\n",
    "#each and print what it eats.\n",
    "\n",
    "class Bear():\n",
    "    def eats(self):\n",
    "        return \"berries\"\n",
    "class Rabbit():\n",
    "    def eats(self):\n",
    "        return \"clover\"\n",
    "class Octothorpe():\n",
    "    def eats(self):\n",
    "        return \"campers\"\n",
    "\n",
    "b = Bear()\n",
    "b.eats()\n",
    "\n",
    "r = Rabbit()\n",
    "r.eats()\n",
    "\n",
    "o = Octothorpe()\n",
    "o.eats()"
   ]
  },
  {
   "cell_type": "code",
   "execution_count": 54,
   "id": "40455ee5",
   "metadata": {},
   "outputs": [
    {
     "data": {
      "text/plain": [
       "'Laser is disintegrate, Claw is crush, SmartPhone is ring'"
      ]
     },
     "execution_count": 54,
     "metadata": {},
     "output_type": "execute_result"
    }
   ],
   "source": [
    "#10. Define these classes: Laser, Claw, and SmartPhone. Each has only one method: does(). This\n",
    "#returns 'disintegrate' (Laser), 'crush' (Claw), or 'ring' (SmartPhone). Then, define the class Robot that\n",
    "#has one instance (object) of each of these. Define a does() method for the Robot that prints what its\n",
    "#component objects do.\n",
    "\n",
    "class Laser():\n",
    "    def does(self):\n",
    "        return \"disintegrate\"\n",
    "class Claw():\n",
    "    def does(self):\n",
    "        return \"crush\"\n",
    "class SmartPhone():\n",
    "    def does(self):\n",
    "        return \"ring\"\n",
    "class Robot():\n",
    "    def __init__(self):\n",
    "        self.laser = Laser()\n",
    "        self.claw = Claw()\n",
    "        self.smartphone = SmartPhone()\n",
    "    def does(self):\n",
    "         return ('Laser is %s, Claw is %s, SmartPhone is %s' % (self.laser.does(),self.claw.does(),self.smartphone.does()))\n",
    "r = Robot()  \n",
    "r.does()"
   ]
  },
  {
   "cell_type": "code",
   "execution_count": null,
   "id": "b4521f34",
   "metadata": {},
   "outputs": [],
   "source": []
  }
 ],
 "metadata": {
  "kernelspec": {
   "display_name": "Python 3",
   "language": "python",
   "name": "python3"
  },
  "language_info": {
   "codemirror_mode": {
    "name": "ipython",
    "version": 3
   },
   "file_extension": ".py",
   "mimetype": "text/x-python",
   "name": "python",
   "nbconvert_exporter": "python",
   "pygments_lexer": "ipython3",
   "version": "3.8.8"
  }
 },
 "nbformat": 4,
 "nbformat_minor": 5
}
