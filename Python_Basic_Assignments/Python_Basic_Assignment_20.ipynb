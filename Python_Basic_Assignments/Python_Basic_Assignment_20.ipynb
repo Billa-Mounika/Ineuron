{
 "cells": [
  {
   "cell_type": "code",
   "execution_count": null,
   "id": "95d8b4d6",
   "metadata": {},
   "outputs": [],
   "source": [
    "#1. Set the variable test1 to the string ,This is a test of the emergency text system,, and save test1 to a\n",
    "#file named test.txt.\n",
    "\n",
    "test.txt file is created and the line inside it is :\n",
    "\n",
    "    test1 = 'This is a test of the emergency text system'"
   ]
  },
  {
   "cell_type": "code",
   "execution_count": 2,
   "id": "3e548f33",
   "metadata": {},
   "outputs": [
    {
     "data": {
      "text/plain": [
       "\"test1 = 'This is a test of the emergency text system'\""
      ]
     },
     "execution_count": 2,
     "metadata": {},
     "output_type": "execute_result"
    }
   ],
   "source": [
    "#2. Read the contents of the file test.txt into the variable test2. Is there a difference between test 1\n",
    "#and test 2?\n",
    "\n",
    "test2=open('test.txt','r')\n",
    "test2.read()"
   ]
  },
  {
   "cell_type": "code",
   "execution_count": null,
   "id": "e2664a09",
   "metadata": {},
   "outputs": [],
   "source": [
    "'''3. Create a CSV file called books.csv by using these lines:\n",
    "title,author,year\n",
    "The Weirdstone of Brisingamen,Alan Garner,1960\n",
    "Perdido Street Station,China Miéville,2000\n",
    "Thud!,Terry Pratchett,2005\n",
    "The Spellman Files,Lisa Lutz,2007\n",
    "Small Gods,Terry Pratchett,1992'''\n",
    "\n",
    "books.csv file is created with the above lines given.\n"
   ]
  },
  {
   "cell_type": "code",
   "execution_count": 9,
   "id": "116fe37f",
   "metadata": {},
   "outputs": [
    {
     "ename": "SyntaxError",
     "evalue": "invalid syntax (<ipython-input-9-4a99b5505043>, line 4)",
     "output_type": "error",
     "traceback": [
      "\u001b[1;36m  File \u001b[1;32m\"<ipython-input-9-4a99b5505043>\"\u001b[1;36m, line \u001b[1;32m4\u001b[0m\n\u001b[1;33m    pip install zoo\u001b[0m\n\u001b[1;37m        ^\u001b[0m\n\u001b[1;31mSyntaxError\u001b[0m\u001b[1;31m:\u001b[0m invalid syntax\n"
     ]
    }
   ],
   "source": [
    "#4. Use the sqlite3 module to create a SQLite database called books.db, and a table called books with\n",
    "#these fields: title (text), author (text), and year (integer).\n",
    "\n"
   ]
  },
  {
   "cell_type": "code",
   "execution_count": 3,
   "id": "8b1e7776",
   "metadata": {},
   "outputs": [
    {
     "name": "stdout",
     "output_type": "stream",
     "text": [
      "Opened database successfully\n",
      "Table created successfully\n"
     ]
    }
   ],
   "source": [
    "import sqlite3\n",
    "conn = sqlite3.connect('books.db')\n",
    "\n",
    "print('Opened database successfully')\n",
    "cur = conn.cursor()\n",
    "cur.execute('''create table books\n",
    "         (\n",
    "         title           text,\n",
    "         author          tex,\n",
    "         year        int);''')\n",
    "print('Table created successfully')\n",
    " \n",
    "   \n",
    "conn.close()\n",
    "\n"
   ]
  },
  {
   "cell_type": "code",
   "execution_count": 26,
   "id": "540bacc0",
   "metadata": {},
   "outputs": [
    {
     "name": "stdout",
     "output_type": "stream",
     "text": [
      "Opened database successfully\n",
      "data inserted to database successfully\n"
     ]
    }
   ],
   "source": [
    "#5. Read books.csv and insert its data into the book table.\n",
    "\n",
    "import sqlite3\n",
    "\n",
    "conn = sqlite3.connect('books.db')\n",
    "\n",
    "print('Opened database successfully')\n",
    "\n",
    "cur = conn.cursor()\n",
    "cur.execute('''\n",
    "          INSERT INTO books (title, author, year)\n",
    "\n",
    "                VALUES\n",
    "                ('if its not forever, its not love','Durjoy Datta',2014),\n",
    "                ('revolution 2020','Nishitha',2016)\n",
    "                \n",
    "          ''')\n",
    "\n",
    "conn.commit()\n",
    "print('data inserted to database successfully')    \n",
    "\n"
   ]
  },
  {
   "cell_type": "code",
   "execution_count": 28,
   "id": "15dfc22c",
   "metadata": {},
   "outputs": [
    {
     "name": "stdout",
     "output_type": "stream",
     "text": [
      "('if its not forever, its not love',)\n",
      "('if its not forever, its not love',)\n",
      "('revolution 2020',)\n"
     ]
    }
   ],
   "source": [
    "#6. Select and print the title column from the book table in alphabetical order.\n",
    "\n",
    "import sqlite3\n",
    "conn = sqlite3.connect('books.db')\n",
    "cur = conn.cursor()\n",
    "for row in cur.execute('SELECT title FROM books order by title asc;'):\n",
    "    print(row)\n",
    "    \n",
    "  "
   ]
  },
  {
   "cell_type": "code",
   "execution_count": 30,
   "id": "428cb99e",
   "metadata": {},
   "outputs": [
    {
     "name": "stdout",
     "output_type": "stream",
     "text": [
      "('if its not forever, its not love', 'Durjoy Datta', 2014)\n",
      "('if its not forever, its not love', 'Durjoy Datta', 2014)\n",
      "('revolution 2020', 'Nishitha', 2016)\n"
     ]
    }
   ],
   "source": [
    "#7. From the book table, select and print all columns in the order of publication.\n",
    "\n",
    "import sqlite3\n",
    "conn = sqlite3.connect('books.db')\n",
    "cur = conn.cursor()\n",
    "for row in cur.execute('SELECT * FROM books order by year asc;'):\n",
    "    print(row)"
   ]
  },
  {
   "cell_type": "code",
   "execution_count": 34,
   "id": "b2f4ffb4",
   "metadata": {},
   "outputs": [
    {
     "data": {
      "text/html": [
       "<div>\n",
       "<style scoped>\n",
       "    .dataframe tbody tr th:only-of-type {\n",
       "        vertical-align: middle;\n",
       "    }\n",
       "\n",
       "    .dataframe tbody tr th {\n",
       "        vertical-align: top;\n",
       "    }\n",
       "\n",
       "    .dataframe thead th {\n",
       "        text-align: right;\n",
       "    }\n",
       "</style>\n",
       "<table border=\"1\" class=\"dataframe\">\n",
       "  <thead>\n",
       "    <tr style=\"text-align: right;\">\n",
       "      <th></th>\n",
       "      <th>title</th>\n",
       "      <th>author</th>\n",
       "      <th>year</th>\n",
       "    </tr>\n",
       "  </thead>\n",
       "  <tbody>\n",
       "    <tr>\n",
       "      <th>0</th>\n",
       "      <td>if its not forever, its not love</td>\n",
       "      <td>Durjoy Datta</td>\n",
       "      <td>2014</td>\n",
       "    </tr>\n",
       "    <tr>\n",
       "      <th>1</th>\n",
       "      <td>if its not forever, its not love</td>\n",
       "      <td>Durjoy Datta</td>\n",
       "      <td>2014</td>\n",
       "    </tr>\n",
       "    <tr>\n",
       "      <th>2</th>\n",
       "      <td>revolution 2020</td>\n",
       "      <td>Nishitha</td>\n",
       "      <td>2016</td>\n",
       "    </tr>\n",
       "  </tbody>\n",
       "</table>\n",
       "</div>"
      ],
      "text/plain": [
       "                              title        author  year\n",
       "0  if its not forever, its not love  Durjoy Datta  2014\n",
       "1  if its not forever, its not love  Durjoy Datta  2014\n",
       "2                   revolution 2020      Nishitha  2016"
      ]
     },
     "execution_count": 34,
     "metadata": {},
     "output_type": "execute_result"
    }
   ],
   "source": [
    "#8. Use the sqlalchemy module to connect to the sqlite3 database books.db that you just made in\n",
    "#exercise \n",
    "\n",
    "import sqlalchemy, pandas as pd\n",
    "db = sqlalchemy.create_engine('sqlite:///books.db')\n",
    "pd.read_sql('select * from books',db)"
   ]
  },
  {
   "cell_type": "code",
   "execution_count": null,
   "id": "641acd87",
   "metadata": {},
   "outputs": [],
   "source": [
    "#9. Install the Redis server and the Python redis library (pip install redis) on your computer. Create a\n",
    "#Redis hash called test with the fields count (1) and name (,Fester Bestertester,). Print all the fields for\n",
    "#test.\n",
    "\n",
    "I cannot install redis server in my laptop as im using my office laptop. But I can wirte code below\n",
    "\n",
    "pip install redis\n",
    "\n",
    "conn = redis.Redis()\n",
    "conn.hmset('test', {'count': 1, 'name': 'Fester Bestertester'})\n",
    "conn.hmget('test', 'count', 'name')\n",
    "\n",
    " HINCRBY myhash field 1"
   ]
  },
  {
   "cell_type": "code",
   "execution_count": null,
   "id": "de299483",
   "metadata": {},
   "outputs": [],
   "source": [
    "#10. Increment the count field of test and print it.\n",
    "\n",
    "\n",
    "conn.hincrby('test','count', 3)\n"
   ]
  }
 ],
 "metadata": {
  "kernelspec": {
   "display_name": "Python 3",
   "language": "python",
   "name": "python3"
  },
  "language_info": {
   "codemirror_mode": {
    "name": "ipython",
    "version": 3
   },
   "file_extension": ".py",
   "mimetype": "text/x-python",
   "name": "python",
   "nbconvert_exporter": "python",
   "pygments_lexer": "ipython3",
   "version": "3.8.8"
  }
 },
 "nbformat": 4,
 "nbformat_minor": 5
}
