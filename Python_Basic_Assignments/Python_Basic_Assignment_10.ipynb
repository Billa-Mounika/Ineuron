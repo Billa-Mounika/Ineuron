{
 "cells": [
  {
   "cell_type": "markdown",
   "id": "56edd4c7",
   "metadata": {},
   "source": [
    "1. How do you distinguish between shutil.copy() and shutil.copytree()?\n",
    "Ans. While shutil. copy() will copy a single file, shutil. copytree() will copy an entire folder and every folder and file contained in it."
   ]
  },
  {
   "cell_type": "markdown",
   "id": "1e2154eb",
   "metadata": {},
   "source": [
    "2. What function is used to rename files??\n",
    "Ans. os.rename()"
   ]
  },
  {
   "cell_type": "markdown",
   "id": "2a91d27e",
   "metadata": {},
   "source": [
    "3. What is the difference between the delete functions in the send2trash and shutil modules?\n",
    "Ans.  send2trash functions will move a file or folder to the recycle bin and shutil functions will permanently delete files and folders"
   ]
  },
  {
   "cell_type": "markdown",
   "id": "da459400",
   "metadata": {},
   "source": [
    "4.ZipFile objects have a close() method just like File objects’ close() method. What ZipFile method is\n",
    "equivalent to File objects’ open() method?\n",
    "    Ans. ZipFile.OpenRead(String) method.."
   ]
  },
  {
   "cell_type": "markdown",
   "id": "96abd6ca",
   "metadata": {},
   "source": [
    "5. Create a programme that searches a folder tree for files with a certain file extension (such as .pdf\n",
    "or .jpg). Copy these files from whatever location they are in to a new folder.\n",
    "Ans. Run this program in below cell."
   ]
  },
  {
   "cell_type": "code",
   "execution_count": 19,
   "id": "ef384380",
   "metadata": {},
   "outputs": [
    {
     "name": "stdout",
     "output_type": "stream",
     "text": [
      "Looking in C:\\Users\\bmounika\\Downloads for files with extensions  .pdf, .jpg\n",
      "Coping C:\\Users\\bmounika\\Downloads\\06661_Payslip_Aug2021.pdf to C:\\Users\\bmounika\\Downloads\\HelloFolder\n",
      "Coping C:\\Users\\bmounika\\Downloads\\06661_Payslip_Jun2021 (1).pdf to C:\\Users\\bmounika\\Downloads\\HelloFolder\n",
      "Coping C:\\Users\\bmounika\\Downloads\\06661_Payslip_Jun2021.pdf to C:\\Users\\bmounika\\Downloads\\HelloFolder\n",
      "Coping C:\\Users\\bmounika\\Downloads\\106114July.pdf to C:\\Users\\bmounika\\Downloads\\HelloFolder\n",
      "Coping C:\\Users\\bmounika\\Downloads\\115613SIS.jpg to C:\\Users\\bmounika\\Downloads\\HelloFolder\n",
      "Coping C:\\Users\\bmounika\\Downloads\\115613SISWrong.jpg to C:\\Users\\bmounika\\Downloads\\HelloFolder\n",
      "Coping C:\\Users\\bmounika\\Downloads\\11971 (11971)  - Inches Applied by Angle.pdf to C:\\Users\\bmounika\\Downloads\\HelloFolder\n",
      "Coping C:\\Users\\bmounika\\Downloads\\185791 PVT 4 camp (185791)  -  millimeters Applied by Angle.pdf to C:\\Users\\bmounika\\Downloads\\HelloFolder\n",
      "Coping C:\\Users\\bmounika\\Downloads\\185808 PVT 3 camp (185808)  -  millimeters Applied by Angle (1).pdf to C:\\Users\\bmounika\\Downloads\\HelloFolder\n",
      "Coping C:\\Users\\bmounika\\Downloads\\185808 PVT 3 camp (185808)  -  millimeters Applied by Angle (10).pdf to C:\\Users\\bmounika\\Downloads\\HelloFolder\n",
      "Coping C:\\Users\\bmounika\\Downloads\\185808 PVT 3 camp (185808)  -  millimeters Applied by Angle (11).pdf to C:\\Users\\bmounika\\Downloads\\HelloFolder\n",
      "Coping C:\\Users\\bmounika\\Downloads\\185808 PVT 3 camp (185808)  -  millimeters Applied by Angle (12).pdf to C:\\Users\\bmounika\\Downloads\\HelloFolder\n",
      "Coping C:\\Users\\bmounika\\Downloads\\185808 PVT 3 camp (185808)  -  millimeters Applied by Angle (13).pdf to C:\\Users\\bmounika\\Downloads\\HelloFolder\n",
      "Coping C:\\Users\\bmounika\\Downloads\\185808 PVT 3 camp (185808)  -  millimeters Applied by Angle (14).pdf to C:\\Users\\bmounika\\Downloads\\HelloFolder\n",
      "Coping C:\\Users\\bmounika\\Downloads\\185808 PVT 3 camp (185808)  -  millimeters Applied by Angle (15).pdf to C:\\Users\\bmounika\\Downloads\\HelloFolder\n",
      "Coping C:\\Users\\bmounika\\Downloads\\185808 PVT 3 camp (185808)  -  millimeters Applied by Angle (16).pdf to C:\\Users\\bmounika\\Downloads\\HelloFolder\n",
      "Coping C:\\Users\\bmounika\\Downloads\\185808 PVT 3 camp (185808)  -  millimeters Applied by Angle (17).pdf to C:\\Users\\bmounika\\Downloads\\HelloFolder\n",
      "Coping C:\\Users\\bmounika\\Downloads\\185808 PVT 3 camp (185808)  -  millimeters Applied by Angle (18).pdf to C:\\Users\\bmounika\\Downloads\\HelloFolder\n",
      "Coping C:\\Users\\bmounika\\Downloads\\185808 PVT 3 camp (185808)  -  millimeters Applied by Angle (19).pdf to C:\\Users\\bmounika\\Downloads\\HelloFolder\n",
      "Coping C:\\Users\\bmounika\\Downloads\\185808 PVT 3 camp (185808)  -  millimeters Applied by Angle (2).pdf to C:\\Users\\bmounika\\Downloads\\HelloFolder\n",
      "Coping C:\\Users\\bmounika\\Downloads\\185808 PVT 3 camp (185808)  -  millimeters Applied by Angle (3).pdf to C:\\Users\\bmounika\\Downloads\\HelloFolder\n",
      "Coping C:\\Users\\bmounika\\Downloads\\185808 PVT 3 camp (185808)  -  millimeters Applied by Angle (4).pdf to C:\\Users\\bmounika\\Downloads\\HelloFolder\n",
      "Coping C:\\Users\\bmounika\\Downloads\\185808 PVT 3 camp (185808)  -  millimeters Applied by Angle (5).pdf to C:\\Users\\bmounika\\Downloads\\HelloFolder\n",
      "Coping C:\\Users\\bmounika\\Downloads\\185808 PVT 3 camp (185808)  -  millimeters Applied by Angle (6).pdf to C:\\Users\\bmounika\\Downloads\\HelloFolder\n",
      "Coping C:\\Users\\bmounika\\Downloads\\185808 PVT 3 camp (185808)  -  millimeters Applied by Angle (7).pdf to C:\\Users\\bmounika\\Downloads\\HelloFolder\n",
      "Coping C:\\Users\\bmounika\\Downloads\\185808 PVT 3 camp (185808)  -  millimeters Applied by Angle (8).pdf to C:\\Users\\bmounika\\Downloads\\HelloFolder\n",
      "Coping C:\\Users\\bmounika\\Downloads\\185808 PVT 3 camp (185808)  -  millimeters Applied by Angle (9).pdf to C:\\Users\\bmounika\\Downloads\\HelloFolder\n",
      "Coping C:\\Users\\bmounika\\Downloads\\185808 PVT 3 camp (185808)  -  millimeters Applied by Angle.pdf to C:\\Users\\bmounika\\Downloads\\HelloFolder\n",
      "Coping C:\\Users\\bmounika\\Downloads\\536509598_2021_M04.pdf to C:\\Users\\bmounika\\Downloads\\HelloFolder\n",
      "Coping C:\\Users\\bmounika\\Downloads\\882109063859650.pdf to C:\\Users\\bmounika\\Downloads\\HelloFolder\n",
      "Coping C:\\Users\\bmounika\\Downloads\\apitestcases-200822060622.pdf to C:\\Users\\bmounika\\Downloads\\HelloFolder\n",
      "Coping C:\\Users\\bmounika\\Downloads\\Ayaan Aadhya.pdf to C:\\Users\\bmounika\\Downloads\\HelloFolder\n",
      "Coping C:\\Users\\bmounika\\Downloads\\Flow Summaries.pdf to C:\\Users\\bmounika\\Downloads\\HelloFolder\n",
      "Coping C:\\Users\\bmounika\\Downloads\\Intacct Timesheet Submission Instructions.pdf to C:\\Users\\bmounika\\Downloads\\HelloFolder\n",
      "Coping C:\\Users\\bmounika\\Downloads\\Notes_200729_235848_1a9.pdf to C:\\Users\\bmounika\\Downloads\\HelloFolder\n",
      "Coping C:\\Users\\bmounika\\Downloads\\Old Old Old 172838 (172838)  - Inches Applied by Angle.pdf to C:\\Users\\bmounika\\Downloads\\HelloFolder\n",
      "Coping C:\\Users\\bmounika\\Downloads\\pexels-eberhard-grossgasteiger-1624256.jpg to C:\\Users\\bmounika\\Downloads\\HelloFolder\n",
      "Coping C:\\Users\\bmounika\\Downloads\\Rain142274.jpg to C:\\Users\\bmounika\\Downloads\\HelloFolder\n",
      "Coping C:\\Users\\bmounika\\Downloads\\Rain142274readings.jpg to C:\\Users\\bmounika\\Downloads\\HelloFolder\n",
      "Coping C:\\Users\\bmounika\\Downloads\\HelloFolder\\06661_Payslip_Aug2021.pdf to C:\\Users\\bmounika\\Downloads\\HelloFolder\n",
      "Coping C:\\Users\\bmounika\\Downloads\\HelloFolder\\06661_Payslip_Jun2021 (1).pdf to C:\\Users\\bmounika\\Downloads\\HelloFolder\n",
      "Coping C:\\Users\\bmounika\\Downloads\\HelloFolder\\06661_Payslip_Jun2021.pdf to C:\\Users\\bmounika\\Downloads\\HelloFolder\n",
      "Coping C:\\Users\\bmounika\\Downloads\\HelloFolder\\106114July.pdf to C:\\Users\\bmounika\\Downloads\\HelloFolder\n",
      "Coping C:\\Users\\bmounika\\Downloads\\HelloFolder\\115613SIS.jpg to C:\\Users\\bmounika\\Downloads\\HelloFolder\n",
      "Coping C:\\Users\\bmounika\\Downloads\\HelloFolder\\115613SISWrong.jpg to C:\\Users\\bmounika\\Downloads\\HelloFolder\n",
      "Coping C:\\Users\\bmounika\\Downloads\\HelloFolder\\11971 (11971)  - Inches Applied by Angle.pdf to C:\\Users\\bmounika\\Downloads\\HelloFolder\n",
      "Coping C:\\Users\\bmounika\\Downloads\\HelloFolder\\185791 PVT 4 camp (185791)  -  millimeters Applied by Angle.pdf to C:\\Users\\bmounika\\Downloads\\HelloFolder\n",
      "Coping C:\\Users\\bmounika\\Downloads\\HelloFolder\\185808 PVT 3 camp (185808)  -  millimeters Applied by Angle (1).pdf to C:\\Users\\bmounika\\Downloads\\HelloFolder\n",
      "Coping C:\\Users\\bmounika\\Downloads\\HelloFolder\\185808 PVT 3 camp (185808)  -  millimeters Applied by Angle (10).pdf to C:\\Users\\bmounika\\Downloads\\HelloFolder\n",
      "Coping C:\\Users\\bmounika\\Downloads\\HelloFolder\\185808 PVT 3 camp (185808)  -  millimeters Applied by Angle (11).pdf to C:\\Users\\bmounika\\Downloads\\HelloFolder\n",
      "Coping C:\\Users\\bmounika\\Downloads\\HelloFolder\\185808 PVT 3 camp (185808)  -  millimeters Applied by Angle (12).pdf to C:\\Users\\bmounika\\Downloads\\HelloFolder\n",
      "Coping C:\\Users\\bmounika\\Downloads\\HelloFolder\\185808 PVT 3 camp (185808)  -  millimeters Applied by Angle (13).pdf to C:\\Users\\bmounika\\Downloads\\HelloFolder\n",
      "Coping C:\\Users\\bmounika\\Downloads\\HelloFolder\\185808 PVT 3 camp (185808)  -  millimeters Applied by Angle (14).pdf to C:\\Users\\bmounika\\Downloads\\HelloFolder\n",
      "Coping C:\\Users\\bmounika\\Downloads\\HelloFolder\\185808 PVT 3 camp (185808)  -  millimeters Applied by Angle (15).pdf to C:\\Users\\bmounika\\Downloads\\HelloFolder\n",
      "Coping C:\\Users\\bmounika\\Downloads\\HelloFolder\\185808 PVT 3 camp (185808)  -  millimeters Applied by Angle (16).pdf to C:\\Users\\bmounika\\Downloads\\HelloFolder\n",
      "Coping C:\\Users\\bmounika\\Downloads\\HelloFolder\\185808 PVT 3 camp (185808)  -  millimeters Applied by Angle (17).pdf to C:\\Users\\bmounika\\Downloads\\HelloFolder\n",
      "Coping C:\\Users\\bmounika\\Downloads\\HelloFolder\\185808 PVT 3 camp (185808)  -  millimeters Applied by Angle (18).pdf to C:\\Users\\bmounika\\Downloads\\HelloFolder\n",
      "Coping C:\\Users\\bmounika\\Downloads\\HelloFolder\\185808 PVT 3 camp (185808)  -  millimeters Applied by Angle (19).pdf to C:\\Users\\bmounika\\Downloads\\HelloFolder\n",
      "Coping C:\\Users\\bmounika\\Downloads\\HelloFolder\\185808 PVT 3 camp (185808)  -  millimeters Applied by Angle (2).pdf to C:\\Users\\bmounika\\Downloads\\HelloFolder\n",
      "Coping C:\\Users\\bmounika\\Downloads\\HelloFolder\\185808 PVT 3 camp (185808)  -  millimeters Applied by Angle (3).pdf to C:\\Users\\bmounika\\Downloads\\HelloFolder\n",
      "Coping C:\\Users\\bmounika\\Downloads\\HelloFolder\\185808 PVT 3 camp (185808)  -  millimeters Applied by Angle (4).pdf to C:\\Users\\bmounika\\Downloads\\HelloFolder\n",
      "Coping C:\\Users\\bmounika\\Downloads\\HelloFolder\\185808 PVT 3 camp (185808)  -  millimeters Applied by Angle (5).pdf to C:\\Users\\bmounika\\Downloads\\HelloFolder\n",
      "Coping C:\\Users\\bmounika\\Downloads\\HelloFolder\\185808 PVT 3 camp (185808)  -  millimeters Applied by Angle (6).pdf to C:\\Users\\bmounika\\Downloads\\HelloFolder\n",
      "Coping C:\\Users\\bmounika\\Downloads\\HelloFolder\\185808 PVT 3 camp (185808)  -  millimeters Applied by Angle (7).pdf to C:\\Users\\bmounika\\Downloads\\HelloFolder\n",
      "Coping C:\\Users\\bmounika\\Downloads\\HelloFolder\\185808 PVT 3 camp (185808)  -  millimeters Applied by Angle (8).pdf to C:\\Users\\bmounika\\Downloads\\HelloFolder\n",
      "Coping C:\\Users\\bmounika\\Downloads\\HelloFolder\\185808 PVT 3 camp (185808)  -  millimeters Applied by Angle (9).pdf to C:\\Users\\bmounika\\Downloads\\HelloFolder\n",
      "Coping C:\\Users\\bmounika\\Downloads\\HelloFolder\\185808 PVT 3 camp (185808)  -  millimeters Applied by Angle.pdf to C:\\Users\\bmounika\\Downloads\\HelloFolder\n",
      "Coping C:\\Users\\bmounika\\Downloads\\HelloFolder\\536509598_2021_M04.pdf to C:\\Users\\bmounika\\Downloads\\HelloFolder\n",
      "Coping C:\\Users\\bmounika\\Downloads\\HelloFolder\\882109063859650.pdf to C:\\Users\\bmounika\\Downloads\\HelloFolder\n",
      "Coping C:\\Users\\bmounika\\Downloads\\HelloFolder\\apitestcases-200822060622.pdf to C:\\Users\\bmounika\\Downloads\\HelloFolder\n",
      "Coping C:\\Users\\bmounika\\Downloads\\HelloFolder\\Ayaan Aadhya.pdf to C:\\Users\\bmounika\\Downloads\\HelloFolder\n",
      "Coping C:\\Users\\bmounika\\Downloads\\HelloFolder\\Flow Summaries.pdf to C:\\Users\\bmounika\\Downloads\\HelloFolder\n",
      "Coping C:\\Users\\bmounika\\Downloads\\HelloFolder\\Intacct Timesheet Submission Instructions.pdf to C:\\Users\\bmounika\\Downloads\\HelloFolder\n",
      "Coping C:\\Users\\bmounika\\Downloads\\HelloFolder\\Notes_200729_235848_1a9.pdf to C:\\Users\\bmounika\\Downloads\\HelloFolder\n",
      "Coping C:\\Users\\bmounika\\Downloads\\HelloFolder\\Old Old Old 172838 (172838)  - Inches Applied by Angle.pdf to C:\\Users\\bmounika\\Downloads\\HelloFolder\n",
      "Coping C:\\Users\\bmounika\\Downloads\\HelloFolder\\pexels-eberhard-grossgasteiger-1624256.jpg to C:\\Users\\bmounika\\Downloads\\HelloFolder\n",
      "Coping C:\\Users\\bmounika\\Downloads\\HelloFolder\\Rain142274.jpg to C:\\Users\\bmounika\\Downloads\\HelloFolder\n",
      "Coping C:\\Users\\bmounika\\Downloads\\HelloFolder\\Rain142274readings.jpg to C:\\Users\\bmounika\\Downloads\\HelloFolder\n"
     ]
    }
   ],
   "source": [
    "import os, shutil, sys\n",
    "\n",
    "def copyfiles_with_given_ext(folder, extensions, destFolder):\n",
    "    folder = os.path.abspath(folder)\n",
    "    \n",
    "    destFolder = os.path.abspath(destFolder)\n",
    "    #os.mkdir(destFolder)\n",
    "    os.makedirs(destFolder,exist_ok=True)\n",
    "    print('Looking in', folder, 'for files with extensions ', ', '.join(extensions))\n",
    "    for foldername, subfolders, filenames in os.walk(folder):\n",
    "        for filename in filenames:\n",
    "            name, extension = os.path.splitext(filename)\n",
    "            if extension in extensions:\n",
    "                fileAbsPath = foldername + os.path.sep + filename\n",
    "                print('Coping', fileAbsPath, 'to', destFolder)\n",
    "                try:\n",
    "                    shutil.copy(fileAbsPath, destFolder)\n",
    "                except:\n",
    "                    pass\n",
    "\n",
    "extensions = ['.pdf', '.jpg']\n",
    "folder = 'Downloads'\n",
    "destFolder = 'Downloads\\HelloFolder'\n",
    "copyfiles_with_given_ext(folder, extensions, destFolder)"
   ]
  },
  {
   "cell_type": "code",
   "execution_count": null,
   "id": "704a9bd0",
   "metadata": {},
   "outputs": [],
   "source": []
  }
 ],
 "metadata": {
  "kernelspec": {
   "display_name": "Python 3",
   "language": "python",
   "name": "python3"
  },
  "language_info": {
   "codemirror_mode": {
    "name": "ipython",
    "version": 3
   },
   "file_extension": ".py",
   "mimetype": "text/x-python",
   "name": "python",
   "nbconvert_exporter": "python",
   "pygments_lexer": "ipython3",
   "version": "3.8.8"
  }
 },
 "nbformat": 4,
 "nbformat_minor": 5
}
