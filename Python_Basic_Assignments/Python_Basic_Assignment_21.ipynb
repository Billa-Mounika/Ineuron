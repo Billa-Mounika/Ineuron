{
 "cells": [
  {
   "cell_type": "code",
   "execution_count": null,
   "id": "0f525b03",
   "metadata": {},
   "outputs": [],
   "source": [
    "1. Add the current date to the text file today.txt as a string.\n",
    "Ans. created today.txt\n"
   ]
  },
  {
   "cell_type": "code",
   "execution_count": 17,
   "id": "696e68f3",
   "metadata": {},
   "outputs": [
    {
     "data": {
      "text/plain": [
       "'current_date = \"Feb 18 2022 7:40AM\"'"
      ]
     },
     "execution_count": 17,
     "metadata": {},
     "output_type": "execute_result"
    }
   ],
   "source": [
    "#2. Read the text file today.txt into the string today_string\n",
    "\n",
    "f = open('today.txt','r')\n",
    "today_string = f.read()\n",
    "today_string"
   ]
  },
  {
   "cell_type": "code",
   "execution_count": 33,
   "id": "852bd4b1",
   "metadata": {},
   "outputs": [
    {
     "name": "stdout",
     "output_type": "stream",
     "text": [
      "The date is 2022-02-18 07:40:00\n"
     ]
    }
   ],
   "source": [
    "#3. Parse the date from today_string.\n",
    "\n",
    "from datetime import datetime\n",
    "import re\n",
    "\n",
    "\n",
    "data_string = re.findall('\"([^\"]*)\"', today_string)\n",
    "\n",
    "date_time_obj = datetime.strptime(data_string[0], '%b %d %Y %I:%M%p')\n",
    "print (\"The date is\", date_time_obj)\n"
   ]
  },
  {
   "cell_type": "code",
   "execution_count": 31,
   "id": "c3d0d2bf",
   "metadata": {},
   "outputs": [
    {
     "data": {
      "text/plain": [
       "[' Dummy Variables & One Hot Encoding.ipynb',\n",
       " ' Dummy Variables_exercise.ipynb',\n",
       " ' Naive Bayes Classifier Algorithm.ipynb',\n",
       " '.android',\n",
       " '.bash_history',\n",
       " '.conda',\n",
       " '.condarc',\n",
       " '.config',\n",
       " '.continuum',\n",
       " '.eclipse',\n",
       " '.gitconfig',\n",
       " '.idlerc',\n",
       " '.ipynb_checkpoints',\n",
       " '.ipython',\n",
       " '.jupyter',\n",
       " '.lesshst',\n",
       " '.matplotlib',\n",
       " '.nbi',\n",
       " '.p2',\n",
       " '.python_history',\n",
       " '.sonarlint',\n",
       " '.spyder-py3',\n",
       " '.vscode',\n",
       " '0 test',\n",
       " '1 test',\n",
       " '2 test',\n",
       " '3 test',\n",
       " '3D Objects',\n",
       " '4 test',\n",
       " '5 test',\n",
       " '6 test',\n",
       " '7 test',\n",
       " '8 test',\n",
       " '9 test',\n",
       " 'Anaconda3',\n",
       " 'AppData',\n",
       " 'Application Data',\n",
       " 'books.csv',\n",
       " 'books.db',\n",
       " 'Contacts',\n",
       " 'Cookies',\n",
       " 'd4ac4633ebd6440fa397b84f1bc94a3c.7z',\n",
       " 'Desktop',\n",
       " 'destFolder',\n",
       " 'django_first_project',\n",
       " 'Documents',\n",
       " 'Downloads',\n",
       " 'eclipse',\n",
       " 'Favorites',\n",
       " 'inittk.ini',\n",
       " 'inst.ini',\n",
       " 'IntelGraphicsProfiles',\n",
       " 'K-MeansClusteringAlgorithm.ipynb',\n",
       " 'K-MeansClusteringAlgorithm_Exersice.ipynb',\n",
       " 'KFold Cross Validation.ipynb',\n",
       " 'linear_regression_example.ipynb',\n",
       " 'linear_regression_multiple_example.ipynb',\n",
       " 'Links',\n",
       " 'lin_reg.ipynb',\n",
       " 'lin_reg_exercise.ipynb',\n",
       " 'Local Settings',\n",
       " 'logistics_reg_example_exersize.ipynb',\n",
       " 'logistics_reg_multiclass_example_exersize.ipynb',\n",
       " 'logistic_regression_multiple_exercise.ipynb',\n",
       " 'mercurial.ini',\n",
       " 'MicrosoftEdgeBackups',\n",
       " 'Mounika_Dir',\n",
       " 'Music',\n",
       " 'My Documents',\n",
       " 'NetHood',\n",
       " 'newfile.log',\n",
       " 'newfilecreated.txt',\n",
       " 'Nox_share',\n",
       " 'NTUSER.DAT',\n",
       " 'ntuser.dat.LOG1',\n",
       " 'ntuser.dat.LOG2',\n",
       " 'NTUSER.DAT{53b39e87-18c4-11ea-a811-000d3aa4692b}.TxR.0.regtrans-ms',\n",
       " 'NTUSER.DAT{53b39e87-18c4-11ea-a811-000d3aa4692b}.TxR.1.regtrans-ms',\n",
       " 'NTUSER.DAT{53b39e87-18c4-11ea-a811-000d3aa4692b}.TxR.2.regtrans-ms',\n",
       " 'NTUSER.DAT{53b39e87-18c4-11ea-a811-000d3aa4692b}.TxR.blf',\n",
       " 'NTUSER.DAT{53b39e88-18c4-11ea-a811-000d3aa4692b}.TM.blf',\n",
       " 'NTUSER.DAT{53b39e88-18c4-11ea-a811-000d3aa4692b}.TMContainer00000000000000000001.regtrans-ms',\n",
       " 'NTUSER.DAT{53b39e88-18c4-11ea-a811-000d3aa4692b}.TMContainer00000000000000000002.regtrans-ms',\n",
       " 'ntuser.ini',\n",
       " 'ntuser.pol',\n",
       " 'nuuid.ini',\n",
       " 'OneDrive',\n",
       " 'Pictures',\n",
       " 'Postman',\n",
       " 'PrintHood',\n",
       " 'PycharmProjects',\n",
       " 'Python Advanced Assignment1.ipynb',\n",
       " 'Python Basic Assignment1.ipynb',\n",
       " 'Python_Basic_Assignment_10.ipynb',\n",
       " 'Python_Basic_Assignment_11.ipynb',\n",
       " 'Python_Basic_Assignment_12.ipynb',\n",
       " 'Python_Basic_Assignment_13.ipynb',\n",
       " 'Python_Basic_Assignment_14.ipynb',\n",
       " 'Python_Basic_Assignment_16.ipynb',\n",
       " 'Python_Basic_Assignment_2-Copy1.ipynb',\n",
       " 'Python_Basic_Assignment_2.ipynb',\n",
       " 'Python_Basic_Assignment_20.ipynb',\n",
       " 'Python_Basic_Assignment_21.ipynb',\n",
       " 'Python_Basic_Assignment_3.ipynb',\n",
       " 'Python_Basic_Assignment_4.ipynb',\n",
       " 'Python_Basic_Assignment_5.ipynb',\n",
       " 'Python_Basic_Assignment_6.ipynb',\n",
       " 'Python_Basic_Assignment_8.ipynb',\n",
       " 'Python_Basic_Assignment_9.ipynb',\n",
       " 'Recent',\n",
       " 'Saved Games',\n",
       " 'Searches',\n",
       " 'SendTo',\n",
       " 'Start Menu',\n",
       " 'Templates',\n",
       " 'test.db',\n",
       " 'test.log',\n",
       " 'test.txt',\n",
       " 'test1',\n",
       " 'testlog.log',\n",
       " 'today.txt',\n",
       " 'Untitled Folder',\n",
       " 'Untitled Folder 1',\n",
       " 'Untitled Folder 2',\n",
       " 'Untitled.ipynb',\n",
       " 'Untitled1.ipynb',\n",
       " 'Untitled10.ipynb',\n",
       " 'Untitled11.ipynb',\n",
       " 'Untitled2.ipynb',\n",
       " 'Untitled3.ipynb',\n",
       " 'Untitled4.ipynb',\n",
       " 'Untitled5.ipynb',\n",
       " 'Untitled6.ipynb',\n",
       " 'Untitled7.ipynb',\n",
       " 'Untitled8.ipynb',\n",
       " 'Untitled9.ipynb',\n",
       " 'useruid.ini',\n",
       " 'Videos',\n",
       " 'vmlogs',\n",
       " 'zoo.py',\n",
       " '__pycache__']"
      ]
     },
     "execution_count": 31,
     "metadata": {},
     "output_type": "execute_result"
    }
   ],
   "source": [
    "#4. List the files in your current directory\n",
    "import os\n",
    "os.listdir(os.getcwd())"
   ]
  },
  {
   "cell_type": "code",
   "execution_count": 38,
   "id": "bcc94b44",
   "metadata": {},
   "outputs": [],
   "source": [
    "#5. Use multiprocessing to create three separate processes. Make each one wait a random number of\n",
    "#seconds between one and five, print the current time, and then exit.\n",
    "\n",
    "\n",
    "\n",
    "import multiprocessing\n",
    "\n",
    "def printsec(seconds):\n",
    "    from datetime import datetime\n",
    "    from time import sleep\n",
    "    sleep(seconds)\n",
    "    print('wait', seconds, 'seconds, time is', datetime.utcnow())\n",
    "    \n",
    "if __name__ == '__main__':\n",
    "    import random    \n",
    "    for n in range(3):\n",
    "        seconds = random.random()\n",
    "        proc = multiprocessing.Process(target=printsec, args=(seconds,))\n",
    "        proc.start()\n",
    "\n"
   ]
  },
  {
   "cell_type": "code",
   "execution_count": 42,
   "id": "01a578a8",
   "metadata": {},
   "outputs": [
    {
     "name": "stdout",
     "output_type": "stream",
     "text": [
      "1993-05-31 00:00:00\n"
     ]
    }
   ],
   "source": [
    "#6. Create a date object of your day of birth.\n",
    "\n",
    "\n",
    "import datetime\n",
    "\n",
    "mydob = datetime.datetime(1993, 5, 31)\n",
    "\n",
    "print(mydob)\n"
   ]
  },
  {
   "cell_type": "code",
   "execution_count": 44,
   "id": "0d566f88",
   "metadata": {},
   "outputs": [
    {
     "data": {
      "text/plain": [
       "5"
      ]
     },
     "execution_count": 44,
     "metadata": {},
     "output_type": "execute_result"
    }
   ],
   "source": [
    "#7. What day of the week was your day of birth?\n",
    "mydob.today().weekday()"
   ]
  },
  {
   "cell_type": "code",
   "execution_count": 45,
   "id": "9413a69a",
   "metadata": {},
   "outputs": [
    {
     "data": {
      "text/plain": [
       "datetime.datetime(2020, 10, 16, 0, 0)"
      ]
     },
     "execution_count": 45,
     "metadata": {},
     "output_type": "execute_result"
    }
   ],
   "source": [
    "#9. When will you be (or when were you) 10,000 days old?\n",
    "\n",
    "from datetime import timedelta\n",
    "day10000 = mydob + timedelta(days=10000)\n",
    "day10000\n",
    "\n"
   ]
  },
  {
   "cell_type": "code",
   "execution_count": null,
   "id": "1336c2bc",
   "metadata": {},
   "outputs": [],
   "source": []
  }
 ],
 "metadata": {
  "kernelspec": {
   "display_name": "Python 3",
   "language": "python",
   "name": "python3"
  },
  "language_info": {
   "codemirror_mode": {
    "name": "ipython",
    "version": 3
   },
   "file_extension": ".py",
   "mimetype": "text/x-python",
   "name": "python",
   "nbconvert_exporter": "python",
   "pygments_lexer": "ipython3",
   "version": "3.8.8"
  }
 },
 "nbformat": 4,
 "nbformat_minor": 5
}
