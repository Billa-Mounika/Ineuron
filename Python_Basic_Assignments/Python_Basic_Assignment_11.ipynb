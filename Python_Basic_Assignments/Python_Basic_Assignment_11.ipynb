{
 "cells": [
  {
   "cell_type": "markdown",
   "id": "aab30ca4",
   "metadata": {},
   "source": [
    "1. Create an assert statement that throws an AssertionError if the variable spam is a negative integer.\n",
    "Ans. Solution in below cell. "
   ]
  },
  {
   "cell_type": "code",
   "execution_count": 7,
   "id": "a5b7bc21",
   "metadata": {},
   "outputs": [
    {
     "ename": "AssertionError",
     "evalue": "The spam variable is a negative integer.",
     "output_type": "error",
     "traceback": [
      "\u001b[1;31m---------------------------------------------------------------------------\u001b[0m",
      "\u001b[1;31mAssertionError\u001b[0m                            Traceback (most recent call last)",
      "\u001b[1;32m<ipython-input-7-1e9c26ab49e0>\u001b[0m in \u001b[0;36m<module>\u001b[1;34m\u001b[0m\n\u001b[0;32m      1\u001b[0m \u001b[0mspam\u001b[0m\u001b[1;33m=\u001b[0m\u001b[1;33m-\u001b[0m\u001b[1;36m145\u001b[0m\u001b[1;33m\u001b[0m\u001b[1;33m\u001b[0m\u001b[0m\n\u001b[1;32m----> 2\u001b[1;33m \u001b[1;32massert\u001b[0m \u001b[0mspam\u001b[0m \u001b[1;33m>=\u001b[0m \u001b[1;36m0\u001b[0m\u001b[1;33m,\u001b[0m \u001b[1;34m'The spam variable is a negative integer.'\u001b[0m\u001b[1;33m\u001b[0m\u001b[1;33m\u001b[0m\u001b[0m\n\u001b[0m",
      "\u001b[1;31mAssertionError\u001b[0m: The spam variable is a negative integer."
     ]
    }
   ],
   "source": [
    "spam=-145\n",
    "assert spam >= 0, 'The spam variable is a negative integer.'"
   ]
  },
  {
   "cell_type": "markdown",
   "id": "11f66e18",
   "metadata": {},
   "source": [
    "2. Write an assert statement that triggers an AssertionError if the variables eggs and bacon contain\n",
    "strings that are the same as each other, even if their cases are different (that is, 'hello' and 'hello' are\n",
    "considered the same, and 'goodbye' and 'GOODbye' are also considered the same).\n",
    "Ans. Solution in below cell.                                                                        "
   ]
  },
  {
   "cell_type": "code",
   "execution_count": 12,
   "id": "9a163ed8",
   "metadata": {},
   "outputs": [
    {
     "ename": "AssertionError",
     "evalue": "eggs and bacon contain strings that are the same as each other",
     "output_type": "error",
     "traceback": [
      "\u001b[1;31m---------------------------------------------------------------------------\u001b[0m",
      "\u001b[1;31mAssertionError\u001b[0m                            Traceback (most recent call last)",
      "\u001b[1;32m<ipython-input-12-93ac35ea7bde>\u001b[0m in \u001b[0;36m<module>\u001b[1;34m\u001b[0m\n\u001b[0;32m      1\u001b[0m \u001b[0meggs\u001b[0m\u001b[1;33m=\u001b[0m\u001b[1;34m'goodbye'\u001b[0m\u001b[1;33m\u001b[0m\u001b[1;33m\u001b[0m\u001b[0m\n\u001b[0;32m      2\u001b[0m \u001b[0mbacon\u001b[0m \u001b[1;33m=\u001b[0m\u001b[1;34m'GOODbye'\u001b[0m\u001b[1;33m\u001b[0m\u001b[1;33m\u001b[0m\u001b[0m\n\u001b[1;32m----> 3\u001b[1;33m \u001b[1;32massert\u001b[0m \u001b[0meggs\u001b[0m\u001b[1;33m.\u001b[0m\u001b[0mlower\u001b[0m\u001b[1;33m(\u001b[0m\u001b[1;33m)\u001b[0m \u001b[1;33m!=\u001b[0m \u001b[0mbacon\u001b[0m\u001b[1;33m.\u001b[0m\u001b[0mlower\u001b[0m\u001b[1;33m(\u001b[0m\u001b[1;33m)\u001b[0m\u001b[1;33m,\u001b[0m \u001b[1;34m'eggs and bacon contain strings that are the same as each other'\u001b[0m\u001b[1;33m\u001b[0m\u001b[1;33m\u001b[0m\u001b[0m\n\u001b[0m",
      "\u001b[1;31mAssertionError\u001b[0m: eggs and bacon contain strings that are the same as each other"
     ]
    }
   ],
   "source": [
    "eggs='goodbye'\n",
    "bacon ='GOODbye'\n",
    "assert eggs.lower() != bacon.lower(), 'eggs and bacon contain strings that are the same as each other'"
   ]
  },
  {
   "cell_type": "markdown",
   "id": "72ebff12",
   "metadata": {},
   "source": [
    "3. What are the two lines that must be present in your software in order to call logging.debug()?\n",
    "Ans. \n",
    "import logging\n",
    "logging.basicConfig(level=logging.DEBUG)"
   ]
  },
  {
   "cell_type": "markdown",
   "id": "18d9b18b",
   "metadata": {},
   "source": [
    "4. Send a logging message to a file named programLog.txt?\n",
    "Ans. Program in below cell."
   ]
  },
  {
   "cell_type": "code",
   "execution_count": 16,
   "id": "5166282c",
   "metadata": {},
   "outputs": [
    {
     "name": "stderr",
     "output_type": "stream",
     "text": [
      "2022-01-27 15:16:08,495:root:INFO - this is debug message\n"
     ]
    }
   ],
   "source": [
    "import logging as lg\n",
    "FORMAT = '%(asctime)s:%(name)s:%(levelname)s - %(message)s'\n",
    "lg.basicConfig(filename = \"programLog.txt\" , format=FORMAT, level=logging.INFO)\n",
    "lg.info('this is debug message')"
   ]
  },
  {
   "cell_type": "markdown",
   "id": "e298acb1",
   "metadata": {},
   "source": [
    "5. What are the five levels of logging?\n",
    "Ans. DEBUG,INFO,WARNING,ERROR,CRITICAL"
   ]
  },
  {
   "cell_type": "markdown",
   "id": "c716d5a6",
   "metadata": {},
   "source": [
    "6. What line of code would you add to your software to disable all logging messages?\n",
    "Ans. \n",
    "import logging\n",
    "logging.getLogger().disabled = True"
   ]
  },
  {
   "cell_type": "markdown",
   "id": "c28587fd",
   "metadata": {},
   "source": [
    "7.Why is using logging messages better than using print() to display the same message?\n",
    "Ans. \n",
    "\n",
    "1.Easy to see where and when (even what line no.) a logging call is being made from.\n",
    "2.We can differentiate logging based on severity.\n",
    "Print doesn't have any of these."
   ]
  },
  {
   "cell_type": "markdown",
   "id": "730c7785",
   "metadata": {},
   "source": [
    "8. What are the differences between the Step Over, Step In, and Step Out buttons in the debugger?\n",
    "Ans. \n",
    "**Step in:** means that if there is a function call, it goes inside the function and you can see how the function is executing line by line till it returns and you go back to the next line right after the function call.\n",
    "\n",
    "**Step over:** means that if there is a function call, it just executes it like a black box and returns the result, but you cannot see how the function was executed.\n",
    "\n",
    "**Step out:** means that if you have Stepped in a function and now you want to skip seeing how the rest of the function is going to execute, you Step out and the function returns. Then, you go back to the next line, that is the line right after the function call."
   ]
  },
  {
   "cell_type": "markdown",
   "id": "610685c4",
   "metadata": {},
   "source": [
    "9.After you click Continue, when will the debugger stop ?\n",
    "Ans. WHen a breakpoint is encountered."
   ]
  },
  {
   "cell_type": "markdown",
   "id": "9e66ecd0",
   "metadata": {},
   "source": [
    "10. What is the concept of a breakpoint?\n",
    "Ans. In software development, a breakpoint is an intentional stopping or pausing place in a program, put in place for debugging purposes."
   ]
  },
  {
   "cell_type": "code",
   "execution_count": null,
   "id": "3bc6743b",
   "metadata": {},
   "outputs": [],
   "source": []
  }
 ],
 "metadata": {
  "kernelspec": {
   "display_name": "Python 3",
   "language": "python",
   "name": "python3"
  },
  "language_info": {
   "codemirror_mode": {
    "name": "ipython",
    "version": 3
   },
   "file_extension": ".py",
   "mimetype": "text/x-python",
   "name": "python",
   "nbconvert_exporter": "python",
   "pygments_lexer": "ipython3",
   "version": "3.8.8"
  }
 },
 "nbformat": 4,
 "nbformat_minor": 5
}
