{
 "cells": [
  {
   "cell_type": "markdown",
   "id": "f6440d3c",
   "metadata": {},
   "source": [
    "1. Why are functions advantageous to have in your programs?\n",
    "Ans. Functions reduce the need for duplicate code. This makes programs shorter, easier to read, and easier to update."
   ]
  },
  {
   "cell_type": "markdown",
   "id": "17b4ab1a",
   "metadata": {},
   "source": [
    "2. When does the code in a function run: when its specified or when its called?\n",
    "Ans. when its called."
   ]
  },
  {
   "cell_type": "markdown",
   "id": "7c71e9de",
   "metadata": {},
   "source": [
    "3. What statement creates a function?\n",
    "Ans. The “def” keyword is a statement for defining a function in Python.\n",
    "Ex : def functionname:\n",
    "        body"
   ]
  },
  {
   "cell_type": "markdown",
   "id": "cb702ef0",
   "metadata": {},
   "source": [
    "4. What is the difference between a function and a function call?\n",
    "Ans. A function is procedure to achieve a particular result while function call is using this function or invoking or calling to achive that task."
   ]
  },
  {
   "cell_type": "markdown",
   "id": "02a5f250",
   "metadata": {},
   "source": [
    "5. How many global scopes are there in a Python program? How many local scopes?\n",
    "Ans. 4. (Local, Global, Enclosing/non-local, Built-in)\n",
    "**Local** : Whenever you define a variable within a function, its scope lies ONLY within the function. It is accessible from the point at which it is defined until the end of the function and exists for as long as the function is executing (Source). Which means its value cannot be changed or even accessed from outside the function.\n",
    "Ex :\n",
    "b=8\n",
    "def func():\n",
    "    a=7\n",
    "    print(a)\n",
    "    print(b)              \n",
    "func()\n",
    "Above code works fine. But below code will throw error (local variable ‘a’ referenced before assignment).\n",
    "a=0\n",
    "def func():\n",
    "   print(a)\n",
    "   a=1\n",
    "   print(a)            \n",
    "func()\n",
    "**Global** : Whenever a variable is defined outside any function, it becomes a global variable, and its scope is anywhere within the program. Which means it can be used by any function.\n",
    "**Enclosing** : \n",
    "def red():\n",
    "    a=1\n",
    "    def blue():\n",
    "       b=2\n",
    "       print(a)\n",
    "       print(b)\n",
    "    blue()\n",
    "    print(b)\n",
    "red()\n",
    "\n",
    "This gives error because you cannot access b from red(). It is not defined within that function. However, you can access a from blue(), because the scope of a is larger, it is within red().\n",
    "This is an enclosing scope. red's variables have a larger scope and can be accessed from the enclosed function blue().\n",
    "**Built in** : All the special reserved keywords fall under this scope. We can call the keywords anywhere within our program without having to define them before use."
   ]
  },
  {
   "cell_type": "markdown",
   "id": "9dab8545",
   "metadata": {},
   "source": [
    "6. What happens to variables in a local scope when the function call returns?\n",
    "Ans. Local variables are destroyed."
   ]
  },
  {
   "cell_type": "markdown",
   "id": "f2d87cc3",
   "metadata": {},
   "source": [
    "7. What is the concept of a return value? Is it possible to have a return value in an expression?\n",
    "Ans. A return statement is used to end the execution of the function call and “returns” the result (value of the expression following the return keyword) to the caller. The statements after the return statements are not executed. If the return statement is without any expression, then the special value None is returned."
   ]
  },
  {
   "cell_type": "markdown",
   "id": "37c9266e",
   "metadata": {},
   "source": [
    "8. If a function does not have a return statement, what is the return value of a call to that function?\n",
    "Ans. It returns None"
   ]
  },
  {
   "cell_type": "markdown",
   "id": "f0b1be7c",
   "metadata": {},
   "source": [
    "9. How do you make a function variable refer to the global variable?\n",
    "Ans. To create a global variable inside a function, you can use the global keyword."
   ]
  },
  {
   "cell_type": "markdown",
   "id": "12612ddf",
   "metadata": {},
   "source": [
    "10. What is the data type of None?\n",
    "Ans. None is a data type of its own (NoneType)"
   ]
  },
  {
   "cell_type": "markdown",
   "id": "86ce639c",
   "metadata": {},
   "source": [
    "11. What does the sentence import areallyourpetsnamederic do?\n",
    "Ans. This import statement imports a module named areallyourpetsnamederic.but this module actually does not exists "
   ]
  },
  {
   "cell_type": "markdown",
   "id": "7279e481",
   "metadata": {},
   "source": [
    "12. If you had a bacon() feature in a spam module, what would you call it after importing spam?\n",
    "Ans. function can be called with spam. bacon()."
   ]
  },
  {
   "cell_type": "markdown",
   "id": "706de370",
   "metadata": {},
   "source": [
    "13. What can you do to save a programme from crashing if it encounters an error?\n",
    "Ans. Use exception handling and place the line of code that might cause an error in a try clause.."
   ]
  },
  {
   "cell_type": "markdown",
   "id": "cd728cf8",
   "metadata": {},
   "source": [
    "14. What is the purpose of the try clause? What is the purpose of the except clause?\n",
    "Ans. The try block lets you test a block of code for errors. The except block lets you handle the error. "
   ]
  }
 ],
 "metadata": {
  "kernelspec": {
   "display_name": "Python 3 (ipykernel)",
   "language": "python",
   "name": "python3"
  },
  "language_info": {
   "codemirror_mode": {
    "name": "ipython",
    "version": 3
   },
   "file_extension": ".py",
   "mimetype": "text/x-python",
   "name": "python",
   "nbconvert_exporter": "python",
   "pygments_lexer": "ipython3",
   "version": "3.9.6"
  }
 },
 "nbformat": 4,
 "nbformat_minor": 5
}
