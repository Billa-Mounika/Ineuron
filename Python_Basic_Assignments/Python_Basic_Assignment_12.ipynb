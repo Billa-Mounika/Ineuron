{
 "cells": [
  {
   "cell_type": "markdown",
   "id": "40ab0379",
   "metadata": {},
   "source": [
    "1. In what modes should the PdfFileReader() and PdfFileWriter() File objects will be opened?\n",
    "Ans. Read-binary mode by passing 'rb' as the second argument to open()for PdfFileReader(). Likewise write-binary mode with 'wb' for PdfFileWriter()."
   ]
  },
  {
   "cell_type": "markdown",
   "id": "9ad75b45",
   "metadata": {},
   "source": [
    "2. From a PdfFileReader object, how do you get a Page object for page 5?\n",
    "Ans. with getpage(pagenumber-1) function : as it starts from 0\n",
    "i.e.\n",
    "getPage(4)"
   ]
  },
  {
   "cell_type": "markdown",
   "id": "07fb3b52",
   "metadata": {},
   "source": [
    "3. What PdfFileReader variable stores the number of pages in the PDF document?\n",
    "Ans. numPages attribute of a PdfFileReader object.."
   ]
  },
  {
   "cell_type": "markdown",
   "id": "d135adae",
   "metadata": {},
   "source": [
    "4. If a PdfFileReader object’s PDF is encrypted with the password swordfish, what must you do\n",
    "before you can obtain Page objects from it?\n",
    "Ans. call decrypt('swordfish')"
   ]
  },
  {
   "cell_type": "markdown",
   "id": "e28d9cd0",
   "metadata": {},
   "source": [
    "5. What methods do you use to rotate a page?\n",
    "Ans. rotateClockwise() , rotateCounterClockwise()"
   ]
  },
  {
   "cell_type": "markdown",
   "id": "dfe11581",
   "metadata": {},
   "source": [
    "6. What is the difference between a Run object and a Paragraph object?\n",
    "Ans. Paragraph object contains list of Run obejetcs.\n",
    "A run oject is contiguoes run of text with the same style. A new run object is needed whenever the text style changes.\n"
   ]
  },
  {
   "cell_type": "markdown",
   "id": "abdd3ea6",
   "metadata": {},
   "source": [
    "7. How do you obtain a list of Paragraph objects for a Document object that’s stored in a variable named doc?\n",
    "Ans. doc.paragraphs"
   ]
  },
  {
   "cell_type": "markdown",
   "id": "9e3daf49",
   "metadata": {},
   "source": [
    "8. What type of object has bold, underline, italic, strike, and outline variables?\n",
    "Ans. Run"
   ]
  },
  {
   "cell_type": "markdown",
   "id": "cf532905",
   "metadata": {},
   "source": [
    "9. What is the difference between False, True, and None for the bold variable?\n",
    "Ans. True will make the Run object bold and False makes it not bolded, irrespective of style's bold setting. None will make the Run object  use the style's bold setting."
   ]
  },
  {
   "cell_type": "markdown",
   "id": "64ff9923",
   "metadata": {},
   "source": [
    "10. How do you create a Document object for a new Word document?\n",
    "Ans. docx.Document()"
   ]
  },
  {
   "cell_type": "markdown",
   "id": "beff63ca",
   "metadata": {},
   "source": [
    "11. How do you add a paragraph with the text 'Hello, there!' to a Document object stored in a\n",
    "variable named doc?\n",
    "Ans. doc.add_paragraph('Hello there!')"
   ]
  },
  {
   "cell_type": "markdown",
   "id": "ad1f221e",
   "metadata": {},
   "source": [
    "12. What integers represent the levels of headings available in Word documents?\n",
    "Ans. 0,1,2,3, and 4"
   ]
  }
 ],
 "metadata": {
  "kernelspec": {
   "display_name": "Python 3",
   "language": "python",
   "name": "python3"
  },
  "language_info": {
   "codemirror_mode": {
    "name": "ipython",
    "version": 3
   },
   "file_extension": ".py",
   "mimetype": "text/x-python",
   "name": "python",
   "nbconvert_exporter": "python",
   "pygments_lexer": "ipython3",
   "version": "3.8.8"
  }
 },
 "nbformat": 4,
 "nbformat_minor": 5
}
