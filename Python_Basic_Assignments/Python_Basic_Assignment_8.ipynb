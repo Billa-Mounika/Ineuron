{
 "cells": [
  {
   "cell_type": "markdown",
   "id": "a29577b9",
   "metadata": {},
   "source": [
    "1. Is the Python Standard Library included with PyInputPlus?\n",
    "Ans. No"
   ]
  },
  {
   "cell_type": "markdown",
   "id": "e9dfecbe",
   "metadata": {},
   "source": [
    "2. Why is PyInputPlus commonly imported with import pyinputplus as pypi?\n",
    "Ans.Its an alias. we can enter a shorter name when calling the module's functions. "
   ]
  },
  {
   "cell_type": "markdown",
   "id": "9d8c2957",
   "metadata": {},
   "source": [
    "3. How do you distinguish between inputInt() and inputFloat()?\n",
    "Ans. The inputInt() : function is used to take integer inputs. \n",
    "inputFloat() : Accepts a floating-point numeric value"
   ]
  },
  {
   "cell_type": "markdown",
   "id": "4727313c",
   "metadata": {},
   "source": [
    "4. Using PyInputPlus, how do you ensure that the user enters a whole number between 0 and 99?\n",
    "Ans. \n",
    "import pyinputplus as pyip\n",
    "pyip.inputInt(min=1, max=100)"
   ]
  },
  {
   "cell_type": "markdown",
   "id": "d294e764",
   "metadata": {},
   "source": [
    "5. What is transferred to the keyword arguments allowRegexes and blockRegexes?\n",
    "Ans. \n",
    "**allowRegexes** :\n",
    "We can set a list of regex strings to the allowRegexes parameter to the PyInputPlus functions.\n",
    "**blockRegexes**:\n",
    "Certain inputs can be blocked (that is, these values are invalidated) by setting the blockRegexes parameter’s value as the regex pattern we want to invalidate."
   ]
  },
  {
   "cell_type": "markdown",
   "id": "45f59897",
   "metadata": {},
   "source": [
    "6. If a blank input is entered three times, what does inputStr(limit=3) do?\n",
    "Ans. It gives RetryLimitException:  exception."
   ]
  },
  {
   "cell_type": "markdown",
   "id": "d1b636cc",
   "metadata": {},
   "source": [
    "7. If blank input is entered three times, what does inputStr(limit=3, default='hello') do?\n",
    "Ans. it will return default value i.e hello                                         "
   ]
  }
 ],
 "metadata": {
  "kernelspec": {
   "display_name": "Python 3",
   "language": "python",
   "name": "python3"
  },
  "language_info": {
   "codemirror_mode": {
    "name": "ipython",
    "version": 3
   },
   "file_extension": ".py",
   "mimetype": "text/x-python",
   "name": "python",
   "nbconvert_exporter": "python",
   "pygments_lexer": "ipython3",
   "version": "3.8.8"
  }
 },
 "nbformat": 4,
 "nbformat_minor": 5
}
