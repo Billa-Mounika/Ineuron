{
 "cells": [
  {
   "cell_type": "markdown",
   "id": "e71606d8",
   "metadata": {},
   "source": [
    "1. What exactly is []?\n",
    "Ans. [] is an empty list. "
   ]
  },
  {
   "cell_type": "markdown",
   "id": "7302632a",
   "metadata": {},
   "source": [
    "2. In a list of values stored in a variable called spam, how would you assign the value 'hello' as the third value? (Assume [2, 4, 6, 8, 10] are in spam.)\n",
    "Ans. spam[2] = 'hello' "
   ]
  },
  {
   "cell_type": "markdown",
   "id": "72ff846c",
   "metadata": {},
   "source": [
    "Let's pretend the spam includes the list ['a','b','c','d'] for the next three queries.\n",
    "3. What is the value of spam[int(int('3' * 2) / 11)]?\n",
    "Ans. '3' * 3 returns 33. so value is 3."
   ]
  },
  {
   "cell_type": "markdown",
   "id": "e98fa97a",
   "metadata": {},
   "source": [
    "4. What is the value of spam[-1]?\n",
    "Ans. d"
   ]
  },
  {
   "cell_type": "markdown",
   "id": "b4bf9afb",
   "metadata": {},
   "source": [
    "5. What is the value of spam[:2]?\n",
    "Ans.['a', 'b']"
   ]
  },
  {
   "cell_type": "markdown",
   "id": "c9832880",
   "metadata": {},
   "source": [
    "Let's pretend bacon has the list [3.14, 'cat,' 11, 'cat,' True] for the next three questions.\n",
    "6. What is the value of bacon.index('cat')?\n",
    "Ans. returns index value ie, 1"
   ]
  },
  {
   "cell_type": "markdown",
   "id": "26094fd4",
   "metadata": {},
   "source": [
    "7. How does bacon.append(99) change the look of the list value in bacon?\n",
    "Ans. [3.14, 'cat,' 11, 'cat,' True,99]"
   ]
  },
  {
   "cell_type": "markdown",
   "id": "6a85425c",
   "metadata": {},
   "source": [
    "8. How does bacon.remove('cat') change the look of the list in bacon?\n",
    "Ans. [3.14, 11, 'cat,' True]"
   ]
  },
  {
   "cell_type": "markdown",
   "id": "ae5bacdc",
   "metadata": {},
   "source": [
    "9. What are the list concatenation and list replication operators?\n",
    "Ans. The operator for list concatenation is +, while the operator for replication is *."
   ]
  },
  {
   "cell_type": "markdown",
   "id": "a9bf5f07",
   "metadata": {},
   "source": [
    "10. What is difference between the list methods append() and insert()?\n",
    "Ans. he only difference between append() and insert() is that insert function allows us to add a specific element at a specified index of the list unlike append() where we can add the element only at end of the list"
   ]
  },
  {
   "cell_type": "markdown",
   "id": "bf7ee740",
   "metadata": {},
   "source": [
    "11. What are the two methods for removing items from a list?\n",
    "Ans. \n",
    "**remove()** :It helps to remove the very first given element matching from the list.\n",
    "**pop()** :removes an element from the list based on the index given\n"
   ]
  },
  {
   "cell_type": "markdown",
   "id": "7b82d7ed",
   "metadata": {},
   "source": [
    "12. Describe how list values and string values are identical.\n",
    "Ans. \n",
    "1.Strings can only consist of characters, while lists can contain any data type.\n",
    "\n",
    "2.most important differences is mutability. Strings are immutable, meaning that we cannot update them. We could update values in a list however quite easily.\n",
    "\n",
    "a=\"my name is mounika\"\n",
    "a[0] = 'x' -> this gives error as strings are not changable.\n",
    "\n",
    "l = ['cat','dog','horse','goat']\n",
    "l[0] = lion  -> this is possible as lists are changable.\n"
   ]
  },
  {
   "cell_type": "markdown",
   "id": "13b51bb6",
   "metadata": {},
   "source": [
    "13. What's the difference between tuples and lists?\n",
    "Ans. The key difference between the tuples and lists is that while the tuples are immutable objects the lists are mutable. This means that tuples cannot be changed while the lists can be modified. If you have data which is not meant to be changed in the first place, you should choose tuple data type over lists.\n"
   ]
  },
  {
   "cell_type": "markdown",
   "id": "9fd8b799",
   "metadata": {},
   "source": [
    "14. How do you type a tuple value that only contains the integer 42?\n",
    "Ans. To create a tuple with only one item, you have add a comma after the item, unless Python will not recognize the variable as a tuple.\n",
    "thistuple = (\"apple\",)\n",
    "print(type(thistuple)) - > <class 'tuple'>\n",
    "\n",
    "thistuple = (\"apple\")\n",
    "print(type(thistuple)) -> <class 'str'>\n"
   ]
  },
  {
   "cell_type": "markdown",
   "id": "adb69b6e",
   "metadata": {},
   "source": [
    "15. How do you get a list valuess tuple form? How do you get a tuple value's list form?\n",
    "Ans. **Converting a list into a tuple : **\n",
    "def convert(list):\n",
    "    return tuple(list)\n",
    "\n",
    "list = [1, 2, 3, 4]\n",
    "print(convert(list))\n",
    "\n",
    "**Converting a tuple into a list :**\n",
    "\n",
    "Tuple = (True, 28, 'Tiger')\n",
    " \n",
    "#tuple to list\n",
    "List = list(aTuple)\n",
    " \n",
    "print(type(aList))\n",
    "print(aList)"
   ]
  },
  {
   "cell_type": "markdown",
   "id": "8a627b65",
   "metadata": {},
   "source": [
    "16. Variables that \"contain\" list values are not necessarily lists themselves. Instead, what do they contain?\n",
    "Ans. Variables will contain references to list values rather than list values themselves. But for strings and integer values, variables simply contain the string or integer value."
   ]
  },
  {
   "cell_type": "markdown",
   "id": "33e7cc14",
   "metadata": {},
   "source": [
    "17. How do you distinguish between copy.copy() and copy.deepcopy()?\n",
    "Ans. **copy.copy() :**  used for shallow copy.\n",
    "A copy of object is copied in other object. It means that any changes made to a copy of object do not reflect in the original object. \n",
    "**copy.deepcopy() :** used for deep copy. \n",
    "A reference of object is copied in other object. It means that any changes made to a copy of object do reflect in the original object. "
   ]
  }
 ],
 "metadata": {
  "kernelspec": {
   "display_name": "Python 3",
   "language": "python",
   "name": "python3"
  },
  "language_info": {
   "codemirror_mode": {
    "name": "ipython",
    "version": 3
   },
   "file_extension": ".py",
   "mimetype": "text/x-python",
   "name": "python",
   "nbconvert_exporter": "python",
   "pygments_lexer": "ipython3",
   "version": "3.8.8"
  }
 },
 "nbformat": 4,
 "nbformat_minor": 5
}
