{
 "cells": [
  {
   "cell_type": "code",
   "execution_count": null,
   "id": "6457b46a",
   "metadata": {},
   "outputs": [],
   "source": [
    "#Q1. What is a probability distribution, exactly? If the values are meant to be random, how can you\n",
    "#predict them at all?\n",
    "\n",
    "A probability distribution describes how a random variable is distributed.\n",
    "\n",
    "It tells us which values a random variable is most likely to take on and which values are less likely. \n",
    "Based on the previous data and the occurences of the random event, we can predict the outcome in terms of \n",
    "probabilities.\n"
   ]
  },
  {
   "cell_type": "code",
   "execution_count": 1,
   "id": "7094250c",
   "metadata": {},
   "outputs": [],
   "source": [
    "#Q2. Is there a distinction between true random numbers and pseudo-random numbers, if there is\n",
    "#one? Why are the latter considered “good enough”?\n",
    "\n",
    "True Random Numbers are true physical values while pseudo-random numbers are generated internally by a program . \n",
    "Latter is considered good enough as they have sort of uniform distribution.\n"
   ]
  },
  {
   "cell_type": "code",
   "execution_count": null,
   "id": "15d24987",
   "metadata": {},
   "outputs": [],
   "source": [
    "#Q3. What are the two main factors that influence the behaviour of a &quot;normal&quot; probability distribution?\n",
    "\n",
    "mean and the variance."
   ]
  },
  {
   "cell_type": "code",
   "execution_count": null,
   "id": "e89f0ce5",
   "metadata": {},
   "outputs": [],
   "source": [
    "#Q4. Provide a real-life example of a normal distribution.\n",
    "\n",
    "heights or blood pressure measurements"
   ]
  },
  {
   "cell_type": "code",
   "execution_count": null,
   "id": "d48a63e7",
   "metadata": {},
   "outputs": [],
   "source": [
    "#Q5. In the short term, how can you expect a probability distribution to behave? What do you think will\n",
    "#happen as the number of trials grows?\n",
    "\n",
    "Variance will decrease with number of trials"
   ]
  },
  {
   "cell_type": "code",
   "execution_count": null,
   "id": "d1a93ee2",
   "metadata": {},
   "outputs": [],
   "source": [
    "#Q6. What kind of object can be shuffled by using random.shuffle?\n",
    " lists (list), strings (str) and tuples (tuple) objects can be shuffled by using random.shuffle."
   ]
  },
  {
   "cell_type": "code",
   "execution_count": null,
   "id": "bd58af98",
   "metadata": {},
   "outputs": [],
   "source": [
    "#Q7. Describe the math package&#39;s general categories of functions.\n",
    "\n",
    "Math package's general categories of functions are:\n",
    "\n",
    "    Trigonometric functions\n",
    "    Quadratic functions\n",
    "    Exponential functions\n",
    "    Hyperbolic functions\n",
    "    Periodic functions\n",
    "    Arithmetic functions\n",
    "    Logarithimic functions\n",
    "    Conversions to Integer\n"
   ]
  },
  {
   "cell_type": "code",
   "execution_count": null,
   "id": "d3b66fe0",
   "metadata": {},
   "outputs": [],
   "source": [
    "#Q8. What is the relationship between exponentiation and logarithms?\n",
    "\n",
    "Exponentiation and logarithms are inverse of each other."
   ]
  },
  {
   "cell_type": "code",
   "execution_count": null,
   "id": "6c6fe53b",
   "metadata": {},
   "outputs": [],
   "source": [
    "#Q9. What are the three logarithmic functions that Python supports?\n",
    "\n",
    "\n",
    "    log2(x) - logarithmic value of x to base 2\n",
    "    log10(x) - logarithmic value of x to base 10\n",
    "    log1p(a) - This function is used to compute logarithm(1+a) .\n"
   ]
  },
  {
   "cell_type": "code",
   "execution_count": null,
   "id": "b8c598d9",
   "metadata": {},
   "outputs": [],
   "source": []
  }
 ],
 "metadata": {
  "kernelspec": {
   "display_name": "Python 3",
   "language": "python",
   "name": "python3"
  },
  "language_info": {
   "codemirror_mode": {
    "name": "ipython",
    "version": 3
   },
   "file_extension": ".py",
   "mimetype": "text/x-python",
   "name": "python",
   "nbconvert_exporter": "python",
   "pygments_lexer": "ipython3",
   "version": "3.8.8"
  }
 },
 "nbformat": 4,
 "nbformat_minor": 5
}
