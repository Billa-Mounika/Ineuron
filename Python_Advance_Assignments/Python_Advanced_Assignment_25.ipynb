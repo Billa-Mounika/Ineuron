{
 "cells": [
  {
   "cell_type": "code",
   "execution_count": null,
   "id": "e2666280",
   "metadata": {},
   "outputs": [],
   "source": [
    "#Q1. What is the distinction between a numpy array and a pandas data frame? Is there a way to\n",
    "#convert between the two if there is?\n",
    "Numpy Ndarray provides a lot of convenient and optimized methods for performing several mathematical operations on vectors.\n",
    "\n",
    "Pandas Dataframe is an in-memory 2-dimensional tabular representation of data. In simpler words, it can be seen as a \n",
    "spreadsheet having rows and columns.\n",
    "\n",
    "Conversion : Dataframe=pandas.DataFrame(array)"
   ]
  },
  {
   "cell_type": "code",
   "execution_count": null,
   "id": "51a20314",
   "metadata": {},
   "outputs": [],
   "source": [
    "#Q2. Identify some of the plotting techniques that are used to produce a stock-market chart.\n",
    "Bar chart, Line Chart are used for plotting."
   ]
  },
  {
   "cell_type": "code",
   "execution_count": null,
   "id": "981ef600",
   "metadata": {},
   "outputs": [],
   "source": [
    "#Q3. Why is it essential to print a legend on a stock market chart?\n",
    "Legend will help comparison between different stocks, so will be essential on a stock market chart"
   ]
  },
  {
   "cell_type": "code",
   "execution_count": null,
   "id": "931fe1ba",
   "metadata": {},
   "outputs": [],
   "source": [
    "#Q4. What is the best way to limit the length of a pandas data frame to less than a year?\n",
    "We can use start and end parameters for that. In start we write the date from where we are starting and at the end we \n",
    "write the end date. SO within this span we can restric the duration.Also we can use the parameters like periods for how \n",
    "much times we need the duration and we can also use the frequency parameter."
   ]
  },
  {
   "cell_type": "markdown",
   "id": "e2e0a389",
   "metadata": {},
   "source": [
    "#Q5. What is the definition of a 180-day moving average\n",
    "n-day moving average :\n",
    "    N stands for the number of periods for which average is required to be calculated.\n",
    "A moving average is a technique to get an overall idea of the trends in a data set; it is an average of any subset of numbers. The moving average is extremely useful for forecasting long-term trends. You can calculate it for any period of time. For example, if you have sales data for a twenty-year period, you can calculate a five-year moving average, a four-year moving average, a three-year moving average and so on. Stock market analysts will often use a 50 or 200 day moving average to help them see trends in the stock market and (hopefully) forecast where the stocks are headed.    "
   ]
  }
 ],
 "metadata": {
  "kernelspec": {
   "display_name": "Python 3",
   "language": "python",
   "name": "python3"
  },
  "language_info": {
   "codemirror_mode": {
    "name": "ipython",
    "version": 3
   },
   "file_extension": ".py",
   "mimetype": "text/x-python",
   "name": "python",
   "nbconvert_exporter": "python",
   "pygments_lexer": "ipython3",
   "version": "3.8.8"
  }
 },
 "nbformat": 4,
 "nbformat_minor": 5
}
