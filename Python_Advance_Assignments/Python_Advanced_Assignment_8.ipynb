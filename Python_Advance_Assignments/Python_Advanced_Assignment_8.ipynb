{
 "cells": [
  {
   "cell_type": "code",
   "execution_count": null,
   "id": "51a31100",
   "metadata": {},
   "outputs": [],
   "source": [
    "#Q1. What are the two latest user-defined exception constraints in Python 3.X?\n",
    "raise and assert are the two latest user-defined exception constraints in Python 3.X\n"
   ]
  },
  {
   "cell_type": "code",
   "execution_count": null,
   "id": "aedcec96",
   "metadata": {},
   "outputs": [],
   "source": [
    "#Q2. How are class-based exceptions that have been raised matched to handlers?\n",
    "#In python, Users can define custom exceptions by creating a new class. This exception class has to be derived, \n",
    "#either directly or indirectly from built-in Exception class. This new exception class like other exceptions can be raised using the raise statement with an optional error message.\n",
    "class ToYoungException(Exception):\n",
    "    def __init__(self,msg):\n",
    "        self.msg = msg\n",
    "age = 12\n",
    "if age <= 18: raise ToYoungException('To Young For Voting')"
   ]
  },
  {
   "cell_type": "code",
   "execution_count": null,
   "id": "10db9f49",
   "metadata": {},
   "outputs": [],
   "source": [
    "#Q3. Describe two methods for attaching context information to exception artefacts.\n",
    "The process() method of LoggerAdapter is where the contextual information is added to the logging output. its \n",
    "passes the message and keyword arguments of the logging call, and it passes back modified versions of these to use in the call to the underlying logger.\n",
    "\n",
    "Other method that can be used is exception(), Logs a messgae with level ERROR on this logger. The arguments are \n",
    "interpreted as for debug(). Exception info is added to the logging message."
   ]
  },
  {
   "cell_type": "code",
   "execution_count": null,
   "id": "f4abf9b9",
   "metadata": {},
   "outputs": [],
   "source": [
    "#Q4. Describe two methods for specifying the text of an exception object's error message.\n",
    "raise and assert are two methods for specifying the text of an exception object's error message.raise statement is \n",
    "used to trigger explicit exception, if certain condition is not as per requirement of programmer. it helps in \n",
    "triggering exception as per need of programmer and logic.\n",
    "\n",
    "There are few assertions that programmer always want to be True to avoid code failure. This type of requirment is\n",
    "fullfilled by assert statement. This statement takes a Boolean Condition output of which if True, further program \n",
    "executes. if output of assert statement is False it raises an Assertion Error."
   ]
  },
  {
   "cell_type": "code",
   "execution_count": null,
   "id": "8145f83f",
   "metadata": {},
   "outputs": [],
   "source": [
    "#Q5. Why do you no longer use string-based exceptions?\n",
    "String-based Exceptions doesn't inherit from Exceptions. so plain exceptions catch all exceptions and not only system."
   ]
  }
 ],
 "metadata": {
  "kernelspec": {
   "display_name": "Python 3",
   "language": "python",
   "name": "python3"
  },
  "language_info": {
   "codemirror_mode": {
    "name": "ipython",
    "version": 3
   },
   "file_extension": ".py",
   "mimetype": "text/x-python",
   "name": "python",
   "nbconvert_exporter": "python",
   "pygments_lexer": "ipython3",
   "version": "3.8.8"
  }
 },
 "nbformat": 4,
 "nbformat_minor": 5
}
