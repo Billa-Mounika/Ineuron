{
 "cells": [
  {
   "cell_type": "code",
   "execution_count": null,
   "id": "d0969fb6",
   "metadata": {},
   "outputs": [],
   "source": [
    "Q1. Describe the differences between text and binary files in a single paragraph?\n",
    "\n",
    "Text files are special subset of binary files that are used to store human readable characters as a rich text \n",
    "document or plain text document. Text files also store data in sequential bytes but bits in text file represents\n",
    "characters.\n",
    "\n",
    "Binary files are those typical files that store data in the form of sequence of bytes grouped into eight bits\n",
    "or sometimes sixteen bits. These bits represent custom data and such files can store multiple types of data \n",
    "(images, audio, text, etc) under a single file."
   ]
  },
  {
   "cell_type": "code",
   "execution_count": null,
   "id": "ef98dba8",
   "metadata": {},
   "outputs": [],
   "source": [
    "Q2. What are some scenarios where using text files will be the better option? When would you like to\n",
    "use binary files instead of text files\n",
    "\n",
    "Text files are less prone to get corrupted as any undesired change may just show up once the file is opened \n",
    "and then can easily be removed. Whereas Use binary files instead of text files for image data."
   ]
  },
  {
   "cell_type": "code",
   "execution_count": null,
   "id": "6a2c7a24",
   "metadata": {},
   "outputs": [],
   "source": [
    "Q3. What are some of the issues with using binary operations to read and write a Python integer\n",
    "directly to disc?\n",
    "\n",
    "When we read or write a python integer using binary operations\n",
    "\n",
    "    Binary operations deal with raw data\n",
    "    One needs to identify how many bytes one would read or write.\n"
   ]
  },
  {
   "cell_type": "code",
   "execution_count": null,
   "id": "a858b253",
   "metadata": {},
   "outputs": [],
   "source": [
    "Q4. Describe a benefit of using the with keyword instead of explicitly opening a file.\n",
    "\n",
    "When a file is opened using the with keyword, if some exceptions occur after opening a file, or at the end of the \n",
    "file it automatically does the closing of the file. There by not leaving an file in open mode and there would no \n",
    "need to explicitly close a file."
   ]
  },
  {
   "cell_type": "code",
   "execution_count": null,
   "id": "36cf4395",
   "metadata": {},
   "outputs": [],
   "source": [
    "Q5. Does Python have the trailing newline while reading a line of text? Does Python append a\n",
    "newline when you write a line of text?\n",
    "\n",
    "Yes, Python have the trailing newline while reading a line of text. When we write a newline has to be provided in \n",
    "python excpicitly."
   ]
  },
  {
   "cell_type": "code",
   "execution_count": null,
   "id": "833bfd3d",
   "metadata": {},
   "outputs": [],
   "source": [
    "#Q6. What file operations enable for random-access operation?\n",
    "\n",
    "The file operations enable for random-access operation are seek() and tell()"
   ]
  },
  {
   "cell_type": "code",
   "execution_count": null,
   "id": "81a71e80",
   "metadata": {},
   "outputs": [],
   "source": [
    "#Q7. When do you think you'll use the struct package the most?\n",
    "\n",
    "The struct package is mostly used while converting a common python types into C language types."
   ]
  },
  {
   "cell_type": "code",
   "execution_count": null,
   "id": "0080fa55",
   "metadata": {},
   "outputs": [],
   "source": [
    "Q8. When is pickling the best option?\n",
    "\n",
    "Pickling is best option for creating a new binary file using python."
   ]
  },
  {
   "cell_type": "code",
   "execution_count": null,
   "id": "fec8f1a4",
   "metadata": {},
   "outputs": [],
   "source": [
    "Q9. When will it be best to use the shelve package?\n",
    "\n",
    "Shelve package is used to pickle data but treats the entire file as dictionary."
   ]
  },
  {
   "cell_type": "code",
   "execution_count": null,
   "id": "2174d616",
   "metadata": {},
   "outputs": [],
   "source": [
    "Q10. What is a special restriction when using the shelve package, as opposed to using other data\n",
    "dictionaries?\n",
    "\n",
    "Only string data type can be used as key in this special dictionary object, whereas any picklable \n",
    "Python object can be used as value."
   ]
  }
 ],
 "metadata": {
  "kernelspec": {
   "display_name": "Python 3",
   "language": "python",
   "name": "python3"
  },
  "language_info": {
   "codemirror_mode": {
    "name": "ipython",
    "version": 3
   },
   "file_extension": ".py",
   "mimetype": "text/x-python",
   "name": "python",
   "nbconvert_exporter": "python",
   "pygments_lexer": "ipython3",
   "version": "3.8.8"
  }
 },
 "nbformat": 4,
 "nbformat_minor": 5
}
