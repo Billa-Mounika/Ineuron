{
 "cells": [
  {
   "cell_type": "code",
   "execution_count": null,
   "id": "c86a3729",
   "metadata": {},
   "outputs": [],
   "source": [
    "Q1. Define the relationship between a class and its instances. Is it a one-to-one or a one-to-many\n",
    "partnership, for example?\n",
    "\n",
    "Relationship between a class and its instances is a one to many partnership.\n"
   ]
  },
  {
   "cell_type": "code",
   "execution_count": null,
   "id": "5d9c402e",
   "metadata": {},
   "outputs": [],
   "source": [
    "Q2. What kind of data is held only in an instance?\n",
    "Instance objects contains the Instance variables which are specific to that specific Instance object."
   ]
  },
  {
   "cell_type": "code",
   "execution_count": null,
   "id": "1414e903",
   "metadata": {},
   "outputs": [],
   "source": [
    "Q3. What kind of knowledge is stored in a class?\n",
    "Class creates a user-defined data structure, which holds its own data members and member functions, \n",
    "which can be accessed and used by creating an instance of that class. A class is like a blueprint for an object."
   ]
  },
  {
   "cell_type": "code",
   "execution_count": null,
   "id": "9065fc45",
   "metadata": {},
   "outputs": [],
   "source": [
    "Q4. What exactly is a method, and how is it different from a regular function?\n",
    "\n",
    "Python Method\n",
    "\n",
    "    Method is called by its name, but it is associated to an object (dependent).\n",
    "    A method is implicitly passed the object on which it is invoked.\n",
    "    It may or may not return any data.\n",
    "    A method can operate on the data (instance variables) that is contained by the corresponding class\n",
    "# Python 3  User-Defined  Method\n",
    "class ABC :\n",
    "    def method_abc (self):\n",
    "        print(\"I am in method_abc of ABC class. \")\n",
    "  \n",
    "class_ref = ABC() # object of ABC class\n",
    "class_ref.method_abc()\n",
    "\n",
    "Functions\n",
    "\n",
    "    Function is block of code that is also called by its name. (independent)\n",
    "    The function can have different parameters or may not have any at all. If any data (parameters) are passed, they are passed explicitly.\n",
    "    It may or may not return any data.\n",
    "    Function does not deal with Class and its instance concept.    \n",
    "    \n",
    "def Subtract (a, b):\n",
    "    return (a-b)\n",
    "  \n",
    "print( Subtract(10, 12) ) # prints -2\n",
    "print( Subtract(15, 6) ) # prints 9   "
   ]
  },
  {
   "cell_type": "code",
   "execution_count": null,
   "id": "d1dd4801",
   "metadata": {},
   "outputs": [],
   "source": [
    "Q5. Is inheritance supported in Python, and if so, what is the syntax?\n",
    "\n",
    " Yes,Python supports inheritance. The Types of Inheritence Supported by Python are:\n",
    "\n",
    "    Simple Inheritence\n",
    "    Multiple Inheritence\n",
    "    Multilevel lInheritence\n",
    "    Hybrid Inheritence\n",
    "    Hierracial Inheritence\n"
   ]
  },
  {
   "cell_type": "code",
   "execution_count": null,
   "id": "8c8390ad",
   "metadata": {},
   "outputs": [],
   "source": [
    "Q6. How much encapsulation (making instance or class variables private) does Python support?\n",
    "\n",
    "Encapsulation describes the idea of wrapping data and the methods that work on data within one unit. \n",
    "This puts restrictions on accessing variables and methods directly and can prevent the accidental modification \n",
    "of data. To prevent accidental change, an objects variable can only be changed by an objects method."
   ]
  },
  {
   "cell_type": "code",
   "execution_count": null,
   "id": "e3b6dea4",
   "metadata": {},
   "outputs": [],
   "source": [
    "Q7. How do you distinguish between a class variable and an instance variable?\n",
    "\n",
    "Encapsulation describes the idea of wrapping data and the methods that work on data within one unit. \n",
    "This puts restrictions on accessing variables and methods directly and can prevent the accidental modification \n",
    "of data. To prevent accidental change, an objects variable can only be changed by an objects method."
   ]
  },
  {
   "cell_type": "code",
   "execution_count": null,
   "id": "29a81950",
   "metadata": {},
   "outputs": [],
   "source": [
    "Q8. When, if ever, can self be included in a class's method definitions?\n",
    "\n",
    "Yes, self can included in class method definations to access the instance variables inside class methods."
   ]
  },
  {
   "cell_type": "code",
   "execution_count": null,
   "id": "e26a0fee",
   "metadata": {},
   "outputs": [],
   "source": [
    "Q9. What is the difference between the _ _add_ _ and the _ _radd_ _ methods?\n",
    "\n",
    "Entering __radd__ Python will first try __add__(), and if that returns Not Implemented Python will check if the \n",
    "right-hand operand implements __radd__, and if it does, it will call __radd__() rather than raising a TypeError"
   ]
  },
  {
   "cell_type": "code",
   "execution_count": null,
   "id": "fe3f43ce",
   "metadata": {},
   "outputs": [],
   "source": [
    "Q10. When is it necessary to use a reflection method? When do you not need it, even though you\n",
    "support the operation in question?"
   ]
  },
  {
   "cell_type": "code",
   "execution_count": null,
   "id": "03cbe931",
   "metadata": {},
   "outputs": [],
   "source": [
    "Q11. What is the _ _iadd_ _ method called?\n",
    "\n",
    "__iadd__ method is called when we use implementation like a+=b which is a.__iadd__(b)"
   ]
  },
  {
   "cell_type": "code",
   "execution_count": null,
   "id": "4df0d3ab",
   "metadata": {},
   "outputs": [],
   "source": [
    "Q12. Is the _ _init_ _ method inherited by subclasses? What do you do if you need to customize its\n",
    "behavior within a subclass?\n",
    "\n",
    "Yes, __init__ method will be inherited by subclasses. if we want to customize its behaviour within a subclass we can use super() method."
   ]
  }
 ],
 "metadata": {
  "kernelspec": {
   "display_name": "Python 3",
   "language": "python",
   "name": "python3"
  },
  "language_info": {
   "codemirror_mode": {
    "name": "ipython",
    "version": 3
   },
   "file_extension": ".py",
   "mimetype": "text/x-python",
   "name": "python",
   "nbconvert_exporter": "python",
   "pygments_lexer": "ipython3",
   "version": "3.8.8"
  }
 },
 "nbformat": 4,
 "nbformat_minor": 5
}
