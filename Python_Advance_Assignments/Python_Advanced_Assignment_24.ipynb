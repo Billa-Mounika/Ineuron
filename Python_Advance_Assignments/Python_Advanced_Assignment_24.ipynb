{
 "cells": [
  {
   "cell_type": "code",
   "execution_count": null,
   "id": "b7bc0ff9",
   "metadata": {},
   "outputs": [],
   "source": [
    "#Q1. Is it permissible to use several import statements to import the same module? What would the\n",
    "#goal be? Can you think of a situation where it would be beneficial?\n",
    "Yes, it is permissible to use several import statements to import the same module. It is used in case when we have to \n",
    "import multiple functions from same module."
   ]
  },
  {
   "cell_type": "code",
   "execution_count": null,
   "id": "19573088",
   "metadata": {},
   "outputs": [],
   "source": [
    "#Q2. What are some of a module's characteristics? (Name at least one.)\n",
    "The following are some of a module's characteristics:\n",
    "\n",
    "    __name__ : It returns the name of the module\n",
    "    __doc__ : It denotes the documentation string line written in a module code.\n",
    "    __file__ : It holds the name and path of the module file from which it is loaded\n",
    "    __dict__ : It return a dictionary object of module attributes, functions and other definitions and their respective values\n"
   ]
  },
  {
   "cell_type": "code",
   "execution_count": null,
   "id": "5db0e5f3",
   "metadata": {},
   "outputs": [],
   "source": [
    "#Q3. Circular importing, such as when two modules import each other, can lead to dependencies and\n",
    "#bugs that aren't visible. How can you go about creating a program that avoids mutual importing?\n",
    "Circular importing means importing the two modules in each other. If suppose we are wokring in MOD1.py file and it is \n",
    "importing some function say F2() from some other module say MOD2.PY file or we can do vice-versa. What will happen is: \n",
    "    This will give an import error.\n",
    "\n",
    "This is because when we import F2() function from module MOD2.py, then this will execute MOD2.py file. And in MOD2.py file \n",
    "there is an another statement of importing MOD1.py module.\n",
    "\n",
    "This will result in endless loop. To avoid this error just do one thingWe can use if __name__ == '__main__'\n",
    "\n",
    "In the function, you cant directly refer to the function in the program. The addition of this sentence avoids the endless \n",
    "loop of the program ."
   ]
  },
  {
   "cell_type": "code",
   "execution_count": null,
   "id": "22bc5cf4",
   "metadata": {},
   "outputs": [],
   "source": [
    "#Q4. Why is _ _all_ _ in Python?\n",
    "It provides list of all modules present in a library."
   ]
  },
  {
   "cell_type": "code",
   "execution_count": null,
   "id": "e4e7d30b",
   "metadata": {},
   "outputs": [],
   "source": [
    "#Q5. In what situation is it useful to refer to the _ _name_ _ attribute or the string '_ _main_ _'?\n",
    "The __name__ == \"__main__\" runs blocks of code only when our Python script is being executed directly from a user. \n",
    "This is powerful as it allows our code to have different behavior when its being executed as a program instead of being \n",
    "imported as a module."
   ]
  },
  {
   "cell_type": "code",
   "execution_count": null,
   "id": "dc934934",
   "metadata": {},
   "outputs": [],
   "source": [
    "#Q6. What are the minimum expressions or statements (or both) that you'd need to render a basic\n",
    "#programming language like RPN primitive but complete— that is, capable of carrying out any\n",
    "#computerised task theoretically possible?\n",
    "During the time of execution of the code if we want to refer the module in which we are working on then we uses name \n",
    "attribute. In that case it will return the module in which we are working on. Suppose if that moudle is being imported \n",
    "from some other module then name will have the name of that moudle from where the current module has been imported. \n",
    "The current module in which we are working is refer to the string __main __."
   ]
  }
 ],
 "metadata": {
  "kernelspec": {
   "display_name": "Python 3",
   "language": "python",
   "name": "python3"
  },
  "language_info": {
   "codemirror_mode": {
    "name": "ipython",
    "version": 3
   },
   "file_extension": ".py",
   "mimetype": "text/x-python",
   "name": "python",
   "nbconvert_exporter": "python",
   "pygments_lexer": "ipython3",
   "version": "3.8.8"
  }
 },
 "nbformat": 4,
 "nbformat_minor": 5
}
