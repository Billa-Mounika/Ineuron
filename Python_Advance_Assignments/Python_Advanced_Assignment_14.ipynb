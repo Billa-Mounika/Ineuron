{
 "cells": [
  {
   "cell_type": "code",
   "execution_count": null,
   "id": "b2c3513d",
   "metadata": {},
   "outputs": [],
   "source": [
    "#Q1. Is an assignment operator like += only for show? Is it possible that it would lead to faster results\n",
    "#at the runtime?\n",
    "\n",
    "A=A+1 evaluates to finding A, adding 1 to it. Then storing the value again in variable A. This expression makes \n",
    "Python to look for memory holder of a twice. But A+=1 simply means value of A is to incremented by 1. As memory \n",
    "address has to be identified once, += leads to faster operation."
   ]
  },
  {
   "cell_type": "code",
   "execution_count": null,
   "id": "53115c5d",
   "metadata": {},
   "outputs": [],
   "source": [
    "#Q2. What is the smallest number of statements you'd have to write in most programming languages to\n",
    "#replace the Python expression a, b = a + b, a?\n",
    "\n",
    "Minimum number of lines required to write above code in languages other Python will be 4, two for assigning \n",
    "initial values for variables a and b, and two for reassignment i.e. a=a+b and b=a"
   ]
  },
  {
   "cell_type": "code",
   "execution_count": 1,
   "id": "60964219",
   "metadata": {},
   "outputs": [
    {
     "name": "stdout",
     "output_type": "stream",
     "text": [
      "[0, 0, 0, 0, 0, 0, 0, 0, 0, 0, 0, 0, 0, 0, 0, 0, 0, 0, 0, 0, 0, 0, 0, 0, 0, 0, 0, 0, 0, 0, 0, 0, 0, 0, 0, 0, 0, 0, 0, 0, 0, 0, 0, 0, 0, 0, 0, 0, 0, 0, 0, 0, 0, 0, 0, 0, 0, 0, 0, 0, 0, 0, 0, 0, 0, 0, 0, 0, 0, 0, 0, 0, 0, 0, 0, 0, 0, 0, 0, 0, 0, 0, 0, 0, 0, 0, 0, 0, 0, 0, 0, 0, 0, 0, 0, 0, 0, 0, 0, 0]\n",
      "[0, 0, 0, 0, 0, 0, 0, 0, 0, 0, 0, 0, 0, 0, 0, 0, 0, 0, 0, 0, 0, 0, 0, 0, 0, 0, 0, 0, 0, 0, 0, 0, 0, 0, 0, 0, 0, 0, 0, 0, 0, 0, 0, 0, 0, 0, 0, 0, 0, 0, 0, 0, 0, 0, 0, 0, 0, 0, 0, 0, 0, 0, 0, 0, 0, 0, 0, 0, 0, 0, 0, 0, 0, 0, 0, 0, 0, 0, 0, 0, 0, 0, 0, 0, 0, 0, 0, 0, 0, 0, 0, 0, 0, 0, 0, 0, 0, 0, 0, 0]\n"
     ]
    }
   ],
   "source": [
    "#Q3. In Python, what is the most effective way to set a list of 100 integers to 0?\n",
    "\n",
    "# Method 1\n",
    "list_zero=[0]*100\n",
    "print(list_zero)\n",
    "# Method 2\n",
    "zero_list = [0 for x in range(100)]\n",
    "print(zero_list)"
   ]
  },
  {
   "cell_type": "code",
   "execution_count": 2,
   "id": "6d822b11",
   "metadata": {},
   "outputs": [
    {
     "name": "stdout",
     "output_type": "stream",
     "text": [
      "[1, 2, 3, 1, 2, 3, 1, 2, 3, 1, 2, 3, 1, 2, 3, 1, 2, 3, 1, 2, 3, 1, 2, 3, 1, 2, 3, 1, 2, 3, 1, 2, 3, 1, 2, 3, 1, 2, 3, 1, 2, 3, 1, 2, 3, 1, 2, 3, 1, 2, 3, 1, 2, 3, 1, 2, 3, 1, 2, 3, 1, 2, 3, 1, 2, 3, 1, 2, 3, 1, 2, 3, 1, 2, 3, 1, 2, 3, 1, 2, 3, 1, 2, 3, 1, 2, 3, 1, 2, 3, 1, 2, 3, 1, 2, 3, 1, 2, 3]\n"
     ]
    }
   ],
   "source": [
    "#Q4. What is the most effective way to initialise a list of 99 integers that repeats the sequence 1, 2, 3?\n",
    "#S If necessary, show step-by-step instructions on how to accomplish this.\n",
    "\n",
    "my_list = [1,2,3]*33\n",
    "print(my_list)"
   ]
  },
  {
   "cell_type": "code",
   "execution_count": 3,
   "id": "bdea959f",
   "metadata": {},
   "outputs": [
    {
     "name": "stdout",
     "output_type": "stream",
     "text": [
      "1 1 2 2 3 3 4 4 5 5 "
     ]
    }
   ],
   "source": [
    "#Q5. If you're using IDLE to run a Python application, explain how to print a multidimensional list as\n",
    "#efficiently?\n",
    "\n",
    "my_list = [[1,1],[2,2],[3,3],[4,4],[5,5]] # 2 dimensional List\n",
    "for x in range(len(my_list)):\n",
    "    for y in range(len(my_list[x])):\n",
    "        print(my_list[x][y],end=\" \")"
   ]
  },
  {
   "cell_type": "code",
   "execution_count": 4,
   "id": "7b0875b8",
   "metadata": {},
   "outputs": [
    {
     "name": "stdout",
     "output_type": "stream",
     "text": [
      "['i', 'N', 'e', 'u', 'r', 'o', 'n']\n"
     ]
    }
   ],
   "source": [
    "#Q6. Is it possible to use list comprehension with a string? If so, how can you go about doing it?\n",
    "\n",
    "\n",
    "my_list = [ele for ele in 'iNeuron']\n",
    "print(my_list)"
   ]
  },
  {
   "cell_type": "code",
   "execution_count": null,
   "id": "ec77c14b",
   "metadata": {},
   "outputs": [],
   "source": [
    "#Q7. From the command line, how do you get support with a user-written Python programme? Is this\n",
    "#possible from inside IDLE?\n",
    "Get support with a user-written Python Programme: Start a command prompt (Windows) or terminal window (Linux/Mac). \n",
    "    If the current working directory is the same as the location in which you saved the file, you can simply \n",
    "    specify the filename as a command-line argument to the Python interpreter.\n",
    "\n",
    "Get support with a User-written Python Program from IDLE: You can also create script files and run them in IDLE. \n",
    "    From the Shell window menu, select File → New File. That should open an additional editing window. \n",
    "    Type in the code to be executed. From the menu in that window, select File → Save or File → Save As… and \n",
    "    save the file to disk. Then select Run → Run Module. The output should appear back in the interpreter"
   ]
  },
  {
   "cell_type": "code",
   "execution_count": null,
   "id": "c41db523",
   "metadata": {},
   "outputs": [],
   "source": [
    "#Q8. Functions are said to be “first-class objects” in Python but not in most other languages, such as\n",
    "#C++ or Java. What can you do in Python with a function (callable object) that you can't do in C or C++?\n",
    "\n",
    "\n",
    "1)A function is an instance of the Object type.\n",
    "2)You can store the function in a variable.\n",
    "3)You can pass the function as a parameter to another function.\n",
    "4)You can return the function from a function.\n",
    "5)You can store them in data structures such as hash tables, lists,\n"
   ]
  },
  {
   "cell_type": "code",
   "execution_count": null,
   "id": "4bafa59f",
   "metadata": {},
   "outputs": [],
   "source": [
    "#Q9. How do you distinguish between a wrapper, a wrapped feature, and a decorator?\n",
    "Wrappers Around the functions are known as Decrators."
   ]
  },
  {
   "cell_type": "code",
   "execution_count": null,
   "id": "09bf107e",
   "metadata": {},
   "outputs": [],
   "source": [
    "#Q10. If a function is a generator function, what does it return?\n",
    "Generator functions are a special kind of function that return a lazy iterator. These are objects that you can \n",
    "loop over like a list. However, unlike lists, lazy iterators do not store their contents in memory."
   ]
  },
  {
   "cell_type": "code",
   "execution_count": null,
   "id": "77fcf6c0",
   "metadata": {},
   "outputs": [],
   "source": [
    "#Q11. What is the one improvement that must be made to a function in order for it to become a\n",
    "#generator function in the Python language?\n",
    "Generator is a written as normal function but uses yield keyword to return values instead of return keyword."
   ]
  },
  {
   "cell_type": "code",
   "execution_count": null,
   "id": "1d873681",
   "metadata": {},
   "outputs": [],
   "source": [
    "#Q12. Identify at least one benefit of generators.\n",
    "\n",
    "return statement sends a specified value back to its caller whereas yield statment can produce a sequence of \n",
    "values. We should use generator when we want to iterate over a sequence, but don’t want to store the entire \n",
    "sequence in memory.\n"
   ]
  },
  {
   "cell_type": "code",
   "execution_count": null,
   "id": "9f67bf9e",
   "metadata": {},
   "outputs": [],
   "source": []
  }
 ],
 "metadata": {
  "kernelspec": {
   "display_name": "Python 3",
   "language": "python",
   "name": "python3"
  },
  "language_info": {
   "codemirror_mode": {
    "name": "ipython",
    "version": 3
   },
   "file_extension": ".py",
   "mimetype": "text/x-python",
   "name": "python",
   "nbconvert_exporter": "python",
   "pygments_lexer": "ipython3",
   "version": "3.8.8"
  }
 },
 "nbformat": 4,
 "nbformat_minor": 5
}
