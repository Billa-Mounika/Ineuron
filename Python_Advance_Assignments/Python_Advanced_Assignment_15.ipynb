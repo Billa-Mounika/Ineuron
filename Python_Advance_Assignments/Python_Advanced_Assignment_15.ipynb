{
 "cells": [
  {
   "cell_type": "markdown",
   "id": "6367f902",
   "metadata": {},
   "source": [
    "1. What are the new features added in Python 3.8 version?\n",
    "1)Walrus Operator: This operator is used to assign and return a value in the same expression. This removes the need for initializing the variable upfront. The major benefit of this is it saves some lines of code. It is also known as The Walrus Operator due to its similarity to the eyes and tusks of a walrus.\n",
    "\n",
    "2)yield and return statements do not require parentheses to return multiple values.\n",
    "\n",
    "3)Reversed works with a dictionary. The built-in method reversed() can be used for accessing the elements in the reverse order of insertion\n",
    "\n",
    "4)Dict comprehensions have been modified so that the key is computed first and the value second.\n",
    "\n",
    "5)importlib_metadata is a new library added in the Python’s standard utility modules, that provides an API for accessing an installed package’s metadata, such as its entry points or its top-level name.\n",
    "\n",
    "6)f-strings now support = , to make string interpolation easy. Python 3.8 allows the use of the above-discussed assignment operator and equal sign (=) inside the f-strings.\n",
    "\n",
    "7)In the three-argument form of pow(), when the exponent is -1, it calculates the modular multiplicative inverse of the given value\n",
    "\n",
    "8)The csv.DictReader now returns instances of dictionary instead of a collections.OrderedDict.\n",
    "\n",
    "9)If you miss a comma in your code such as a = [(1, 2) (3, 4)], instead of throwing TypeError, it displays an informative Syntax warning.\n",
    "\n",
    "\n"
   ]
  },
  {
   "cell_type": "code",
   "execution_count": 1,
   "id": "959b62a1",
   "metadata": {},
   "outputs": [
    {
     "name": "stderr",
     "output_type": "stream",
     "text": [
      "<>:26: SyntaxWarning: 'tuple' object is not callable; perhaps you missed a comma?\n",
      "<>:26: SyntaxWarning: 'tuple' object is not callable; perhaps you missed a comma?\n",
      "<ipython-input-1-83a503cb94ed>:26: SyntaxWarning: 'tuple' object is not callable; perhaps you missed a comma?\n",
      "  r_list = [(1,2) (3,4)]\n"
     ]
    },
    {
     "name": "stdout",
     "output_type": "stream",
     "text": [
      "15\n",
      "('Hello', 'Good Morning')\n",
      "(0, 0) (1, 1) (2, 4) (3, 9) (4, 16) \n",
      "Role:\"Data Scientist\"\n",
      "Name:\"Mano Vishnu\"\n",
      "The length of string is len_string = 31\n"
     ]
    },
    {
     "ename": "TypeError",
     "evalue": "'tuple' object is not callable",
     "output_type": "error",
     "traceback": [
      "\u001b[1;31m---------------------------------------------------------------------------\u001b[0m",
      "\u001b[1;31mTypeError\u001b[0m                                 Traceback (most recent call last)",
      "\u001b[1;32m<ipython-input-1-83a503cb94ed>\u001b[0m in \u001b[0;36m<module>\u001b[1;34m\u001b[0m\n\u001b[0;32m     24\u001b[0m \u001b[1;33m\u001b[0m\u001b[0m\n\u001b[0;32m     25\u001b[0m \u001b[1;31m# Example of Infomrative syntax instead of synatx error while missing comma.\u001b[0m\u001b[1;33m\u001b[0m\u001b[1;33m\u001b[0m\u001b[1;33m\u001b[0m\u001b[0m\n\u001b[1;32m---> 26\u001b[1;33m \u001b[0mr_list\u001b[0m \u001b[1;33m=\u001b[0m \u001b[1;33m[\u001b[0m\u001b[1;33m(\u001b[0m\u001b[1;36m1\u001b[0m\u001b[1;33m,\u001b[0m\u001b[1;36m2\u001b[0m\u001b[1;33m)\u001b[0m \u001b[1;33m(\u001b[0m\u001b[1;36m3\u001b[0m\u001b[1;33m,\u001b[0m\u001b[1;36m4\u001b[0m\u001b[1;33m)\u001b[0m\u001b[1;33m]\u001b[0m\u001b[1;33m\u001b[0m\u001b[1;33m\u001b[0m\u001b[0m\n\u001b[0m\u001b[0;32m     27\u001b[0m \u001b[1;33m\u001b[0m\u001b[0m\n",
      "\u001b[1;31mTypeError\u001b[0m: 'tuple' object is not callable"
     ]
    }
   ],
   "source": [
    "# Example of Walrus Operator\n",
    "if (sum := 10 + 5) > 10: # its always recommended to use paranthesis with walrus operator\n",
    "    print(sum) #return 15 \n",
    "\n",
    "# Example of yield and return\n",
    "def hello():\n",
    "    return 'Hello','Good Morning'\n",
    "print(hello())\n",
    "def count():\n",
    "    for i in range(5):\n",
    "        yield i,i**2\n",
    "for ele in count():\n",
    "    print(ele, end=\" \")\n",
    "print()\n",
    "    \n",
    "# Example of Reversed Support for dict\n",
    "t_dict = {\"Name\":\"Mano Vishnu\",\"Role\":\"Data Scientist\"}\n",
    "for ele in reversed(t_dict):\n",
    "    print(f'{ele}:\"{t_dict[ele]}\"')\n",
    "    \n",
    "# Example of using = in F-strings\n",
    "len_string = len(\"Ineuron Full Stack Data Science\")\n",
    "print(f'The length of string is {len_string = }')\n",
    "\n",
    "# Example of Infomrative syntax instead of synatx error while missing comma.\n",
    "r_list = [(1,2) (3,4)]"
   ]
  },
  {
   "cell_type": "code",
   "execution_count": 2,
   "id": "8ef7ec3c",
   "metadata": {},
   "outputs": [],
   "source": [
    "#2. What is monkey patching in Python?\n",
    "\n",
    "#In Python, the term monkey patch refers to dynamic (or run-time) modifications of a class or module. In Python, \n",
    "#we can actually change the behavior of code at run-time.\n",
    "\n",
    "# monk.py\n",
    "class A:\n",
    "     def func(self):\n",
    "          print (\"func() is being called\")\n",
    "        \n",
    "        \n",
    "import monk\n",
    "def monkey_f(self):\n",
    "     print (\"monkey_f() is being called\")\n",
    "   \n",
    "# replacing address of \"func\" with \"monkey_f\"\n",
    "monk.A.func = monkey_f\n",
    "obj = monk.A()\n",
    "  \n",
    "# calling function \"func\" whose address got replaced\n",
    "# with function \"monkey_f()\"\n",
    "obj.func()        "
   ]
  },
  {
   "cell_type": "code",
   "execution_count": null,
   "id": "b9b7bd84",
   "metadata": {},
   "outputs": [],
   "source": [
    "#3. What is the difference between a shallow copy and deep copy?\n",
    "\n",
    "The Differences between a Shallow Copy and deep copy are as follows:\n",
    "\n",
    "When an object is copied using copy(), it is called shallow copy as changes made in copied object will also make \n",
    "corresponding changes in original object, because both the objects will be referencing same address location.\n",
    "\n",
    "When an object is copied using deepcopy(), it is called deep copy as changes made in copied object will not make \n",
    "corresponding changes in original object, because both the objects will not be referencing same address location."
   ]
  },
  {
   "cell_type": "code",
   "execution_count": 3,
   "id": "69e6a98d",
   "metadata": {},
   "outputs": [
    {
     "name": "stdout",
     "output_type": "stream",
     "text": [
      "Original Elements of each List\n",
      "[1, 2, [3, 4], 5, 6]\n",
      "[1, 2, [3, 4], 5, 6]\n",
      "[1, 2, [3, 4], 5, 6]\n",
      "New Elements of each List\n",
      "[1, 2, [3, 4], 5, 20]\n",
      "[10, 2, [3, 4], 5, 6]\n",
      "[1, 2, [3, 4], 5, 20]\n"
     ]
    }
   ],
   "source": [
    "from copy import deepcopy, copy\n",
    "l_one = [1,2,[3,4],5,6]\n",
    "l_two = deepcopy(l_one)\n",
    "l_three = l_one\n",
    "print(f'Original Elements of each List\\n{l_one}\\n{l_two}\\n{l_three}')\n",
    "l_two[0] = 10\n",
    "l_three[-1] = 20\n",
    "print(f'New Elements of each List\\n{l_one}\\n{l_two}\\n{l_three}')"
   ]
  },
  {
   "cell_type": "code",
   "execution_count": null,
   "id": "1ddbbfa0",
   "metadata": {},
   "outputs": [],
   "source": [
    "#4. What is the maximum possible length of an identifier?\n",
    "In Python, the highest possible length of an identifier is 79 characters."
   ]
  },
  {
   "cell_type": "code",
   "execution_count": null,
   "id": "549c2a69",
   "metadata": {},
   "outputs": [],
   "source": [
    "5. What is generator comprehension?\n",
    "A generator comprehension is a single-line specification for defining a generator in Python.\n",
    "\n",
    "It is absolutely essential to learn this syntax in order to write simple and readable code.\n",
    "Generator comprehension uses round bracket unlike square bracket in list comprehension.\n",
    "The generator yields one item at a time and generates item only when in demand. Whereas, in a list comprehension, \n",
    "Python reserves memory for the whole list. Thus we can say that the generator expressions are memory efficient \n",
    "than the lists.\n"
   ]
  },
  {
   "cell_type": "code",
   "execution_count": 4,
   "id": "7440049c",
   "metadata": {},
   "outputs": [
    {
     "name": "stdout",
     "output_type": "stream",
     "text": [
      "[0, 1, 2, 3, 4, 5, 6, 7, 8, 9]\n",
      "<generator object <genexpr> at 0x00000145A92C13C0>\n",
      "0 2 4 6 8 "
     ]
    }
   ],
   "source": [
    "in_list = [x for x in range(10)] # List Comprehension\n",
    "print(in_list)\n",
    "out_gen = (x for x in in_list if x%2 == 0) # Generator Comprehension\n",
    "print(out_gen) # Returns a Generator Object\n",
    "for ele in out_gen:\n",
    "    print(ele, end=\" \")"
   ]
  },
  {
   "cell_type": "code",
   "execution_count": null,
   "id": "c8114354",
   "metadata": {},
   "outputs": [],
   "source": []
  }
 ],
 "metadata": {
  "kernelspec": {
   "display_name": "Python 3",
   "language": "python",
   "name": "python3"
  },
  "language_info": {
   "codemirror_mode": {
    "name": "ipython",
    "version": 3
   },
   "file_extension": ".py",
   "mimetype": "text/x-python",
   "name": "python",
   "nbconvert_exporter": "python",
   "pygments_lexer": "ipython3",
   "version": "3.8.8"
  }
 },
 "nbformat": 4,
 "nbformat_minor": 5
}
