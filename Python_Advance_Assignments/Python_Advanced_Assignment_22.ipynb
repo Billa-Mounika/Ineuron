{
 "cells": [
  {
   "cell_type": "code",
   "execution_count": null,
   "id": "4794c3ab",
   "metadata": {},
   "outputs": [],
   "source": [
    "#Q1. What are the benefits of the built-in array package, if any?\n",
    "Arrays represent multiple data items of the same type using a single name. In arrays, the elements can be \n",
    "accessed randomly by using the index number. Arrays allocate memory in contiguous memory locations for all its \n",
    "elements. Hence there is no chance of extra memory being allocated in case of arrays. This avoids memory overflow\n",
    "or shortage of memory in arrays."
   ]
  },
  {
   "cell_type": "code",
   "execution_count": null,
   "id": "df9efb2d",
   "metadata": {},
   "outputs": [],
   "source": [
    "#Q2. What are some of the array package's limitations?\n",
    " The number of elements to be stored in an array should be known in advance. An array is a static structure \n",
    "(which means the array is of fixed size). Once declared the size of the array cannot be modified. The memory which is allocated to it cannot be increased or decreased.\n",
    "\n",
    "Insertion and deletion are quite difficult in an array as the elements are stored in consecutive memory locations \n",
    "and the shifting operation is costly.\n",
    "\n",
    "Allocating more memory than the requirement leads to wastage of memory space and less allocation of memory also \n",
    "leads to a problem"
   ]
  },
  {
   "cell_type": "code",
   "execution_count": null,
   "id": "2e38cfdb",
   "metadata": {},
   "outputs": [],
   "source": [
    "#Q3. Describe the main differences between the array and numpy packages.\n",
    "The array package doesn't provide any help with numerical calculation with the items insdie it in number form \n",
    "while NumPy give you a wide variety of numerical operations.\n",
    "\n",
    "An array is a single dimensional entity which hold the numerical data, while numpy can have more than 1 \n",
    "dimension.\n",
    "\n",
    "In case of array, item can be accessed by its index position and it is easy task while in numpy item is \n",
    "accessed by its column and row index, which makes it slightly time taking. Same goes with appending operation.\n",
    "\n",
    "In case of array we do not form a tabular structure, while in numpy it forms a tabular structure"
   ]
  },
  {
   "cell_type": "code",
   "execution_count": 1,
   "id": "ed1d94bf",
   "metadata": {},
   "outputs": [
    {
     "ename": "IndentationError",
     "evalue": "unexpected indent (<ipython-input-1-3e8875651d87>, line 2)",
     "output_type": "error",
     "traceback": [
      "\u001b[1;36m  File \u001b[1;32m\"<ipython-input-1-3e8875651d87>\"\u001b[1;36m, line \u001b[1;32m2\u001b[0m\n\u001b[1;33m    The distinctions between the empty, ones, and zero functions are as follows :\u001b[0m\n\u001b[1;37m    ^\u001b[0m\n\u001b[1;31mIndentationError\u001b[0m\u001b[1;31m:\u001b[0m unexpected indent\n"
     ]
    }
   ],
   "source": [
    "#Q4. Explain the distinctions between the empty, ones, and zeros functions.\n",
    " The distinctions between the empty, ones, and zero functions are as follows :\n",
    "\n",
    "Empty function: An empty function is a function that does not contain any statement within its body. If you try to \n",
    "write a function definition without any statement in python ,it will return an error. To avoid this, we use \n",
    "pass statement. pass is a special statement in Python that does nothing. It only works as a dummy statement.\n",
    "\n",
    "Ones: This function returns a new array of given shape and data type, where the element’s value is 1.\n",
    "\n",
    "Zeros: This function returns a new array of given shape and data type, where the element’s value is 0.\n"
   ]
  },
  {
   "cell_type": "code",
   "execution_count": null,
   "id": "41d10a48",
   "metadata": {},
   "outputs": [],
   "source": [
    "#Q5. In the from function function, which is used to construct new arrays, what is the role of the callable\n",
    "#argument?\n",
    "\n",
    "Its function is to execute the function over each coordinate and the resulting array. The function is called \n",
    "with N parameters, where N is the rank of shape. Each parameter represents the coordinates of the array varying \n",
    "along a specific axis."
   ]
  },
  {
   "cell_type": "code",
   "execution_count": null,
   "id": "81ff6f80",
   "metadata": {},
   "outputs": [],
   "source": [
    "#Q6. What happens when a numpy array is combined with a single-value operand (a scalar, such as\n",
    "#an int or a floating-point value) through addition, as in the expression A + n?\n",
    "\n",
    " If any scaler value such as integer is added to the numpy array then all the elements inside the array will \n",
    "add that value in it."
   ]
  },
  {
   "cell_type": "code",
   "execution_count": null,
   "id": "af1579ee",
   "metadata": {},
   "outputs": [],
   "source": [
    "#Q7. Can array-to-scalar operations use combined operation-assign operators (such as += or *=)?\n",
    "#What is the outcome?\n",
    "\n",
    "It will carry out provided operation on all elements of array."
   ]
  },
  {
   "cell_type": "code",
   "execution_count": null,
   "id": "aa2d4427",
   "metadata": {},
   "outputs": [],
   "source": [
    "#Q8. Does a numpy array contain fixed-length strings? What happens if you allocate a longer string to\n",
    "#one of these arrays?\n",
    "Yes, it is possible that we can include a string of fixed length in numpy array. The dtype of any numpy array \n",
    "containing string values is the maximum length of any string present in the array.Once set, it will only be able \n",
    "to store new string having length not more than the maximum length at the time of the creation. If we try to \n",
    "reassign some another string value having length greater than the maximum length of the existing elements, it \n",
    "simply discards all the values beyond the maximum length accept upto those values which are under the limit."
   ]
  },
  {
   "cell_type": "code",
   "execution_count": null,
   "id": "6fd73008",
   "metadata": {},
   "outputs": [],
   "source": [
    "#Q9. What happens when you combine two numpy arrays using an operation like addition (+) or\n",
    "#multiplication (*)? What are the conditions for combining two numpy arrays?\n",
    "It will simply add or multiply element to element at same position."
   ]
  },
  {
   "cell_type": "code",
   "execution_count": null,
   "id": "02d44d35",
   "metadata": {},
   "outputs": [],
   "source": [
    "#Q10. What is the best way to use a Boolean array to mask another array?\n",
    "The best way to use a Boolean array to mask another array is by Using masked_where of numpy package"
   ]
  },
  {
   "cell_type": "code",
   "execution_count": null,
   "id": "e1e5e873",
   "metadata": {},
   "outputs": [],
   "source": [
    "#Q11. What are three different ways to get the standard deviation of a wide collection of data using\n",
    "#both standard Python and its packages? Sort the three of them by how quickly they execute.\n",
    "np.std and math package can be used individually."
   ]
  },
  {
   "cell_type": "code",
   "execution_count": null,
   "id": "e60461df",
   "metadata": {},
   "outputs": [],
   "source": [
    "#Q12. What is the dimensionality of a Boolean mask-generated array?\n",
    " It will have same dimensionality as input array."
   ]
  }
 ],
 "metadata": {
  "kernelspec": {
   "display_name": "Python 3",
   "language": "python",
   "name": "python3"
  },
  "language_info": {
   "codemirror_mode": {
    "name": "ipython",
    "version": 3
   },
   "file_extension": ".py",
   "mimetype": "text/x-python",
   "name": "python",
   "nbconvert_exporter": "python",
   "pygments_lexer": "ipython3",
   "version": "3.8.8"
  }
 },
 "nbformat": 4,
 "nbformat_minor": 5
}
