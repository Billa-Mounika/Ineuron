{
 "cells": [
  {
   "cell_type": "code",
   "execution_count": null,
   "id": "c3adb173",
   "metadata": {},
   "outputs": [],
   "source": [
    "#Q1. What is the benefit of regular expressions?\n",
    "\n",
    "Regular Expressions, also known as regex or regexp, are used to match strings of text such as particular \n",
    "characters, words, or patterns of characters. It means that we can match and extract any string pattern from the \n",
    "text with the help of regular expressions. it helps the programmers to Write less and cleaner code. it also avoids \n",
    "multiple use of if/else statements.\n"
   ]
  },
  {
   "cell_type": "code",
   "execution_count": null,
   "id": "ab6aa922",
   "metadata": {},
   "outputs": [],
   "source": [
    "#Q2. Describe the difference between the effects of '(ab)c+' and 'a(bc)+.' Which of these, if any, is the\n",
    "#unqualified pattern 'abc+'?\n",
    "Both (ab)c+ and a(bc)+ are valid patterns. the difference between both these patterns is in (ab)c+ ab is group \n",
    "whereas in a(bc)+ bc is a group.\n"
   ]
  },
  {
   "cell_type": "code",
   "execution_count": null,
   "id": "d1032b75",
   "metadata": {},
   "outputs": [],
   "source": [
    "#Q3. How much do you need to use the following sentence while using regular expressions? \n",
    "#import re\n",
    "\n",
    "import re statement always has to be imported ONCE before using regular expressions."
   ]
  },
  {
   "cell_type": "code",
   "execution_count": null,
   "id": "fbd19a95",
   "metadata": {},
   "outputs": [],
   "source": [
    "#Q4. Which characters have special significance in square brackets when expressing a range, and\n",
    "#under what circumstances?\n",
    "The Characters .,*,?,^,or,(), have a special signiface when used with square brackets. They need not be be \n",
    "explicitly escaped by \\ as in case of pattern texts in a raw string"
   ]
  },
  {
   "cell_type": "code",
   "execution_count": null,
   "id": "42180fcd",
   "metadata": {},
   "outputs": [],
   "source": [
    "#Q5. How does compiling a regular-expression object benefit you?\n",
    "We can Combine a regular expression pattern into pattern Objects.Which can be used for pattern matching. it also helps to search a pattern again without \n",
    "rewritting it."
   ]
  },
  {
   "cell_type": "code",
   "execution_count": null,
   "id": "9061c1aa",
   "metadata": {},
   "outputs": [],
   "source": [
    "#Q6. What are some examples of how to use the match object returned by re.match and re.search?\n",
    " The re.search() and re.match() both are functions of re module in python. These functions are very efficient and \n",
    "    fast for searching in strings. The function searches for some substring in a string and returns a match object \n",
    "    if found, else it returns none.\n",
    "\n",
    "There is a difference between the use of both functions. Both return the first match of a substring found in the \n",
    "string, but re.match() searches only from the beginning of the string and return match object if found. But if a\n",
    "match of substring is found somewhere in the middle of the string, it returns none.\n",
    "\n",
    "While re.search() searches for the whole string even if the string contains multi-lines and tries to find a match \n",
    "of the substring in all the lines of string"
   ]
  },
  {
   "cell_type": "code",
   "execution_count": 1,
   "id": "ea4fcae4",
   "metadata": {},
   "outputs": [
    {
     "name": "stdout",
     "output_type": "stream",
     "text": [
      "<re.Match object; span=(66, 72), match='string'>\n",
      "None\n",
      "<re.Match object; span=(0, 6), match='string'>\n",
      "<re.Match object; span=(0, 6), match='string'>\n"
     ]
    }
   ],
   "source": [
    "import re\n",
    "Substring ='string' \n",
    "String1 ='We are learning regex with geeksforgeeks regex is very useful for string matching. It is fast too.' \n",
    "String2 ='string We are learning regex with geeksforgeeks regex is very useful for string matching. It is fast too.'\n",
    "print(re.search(Substring, String1, re.IGNORECASE))\n",
    "print(re.match(Substring, String1, re.IGNORECASE))\n",
    "print(re.search(Substring, String2, re.IGNORECASE))\n",
    "print(re.match(Substring, String2, re.IGNORECASE))"
   ]
  },
  {
   "cell_type": "code",
   "execution_count": null,
   "id": "86aeb9c2",
   "metadata": {},
   "outputs": [],
   "source": [
    "#Q7. What is the difference between using a vertical bar (|) as an alteration and using square brackets\n",
    "#as a character set?\n",
    "When | us used then patterns searches for or option. i.e <pattern_1>|<pattern_2> means it searches as \n",
    "<pattern_1>or<<pattern_2> in the searched string. the first occurance of matched string will be returned as the \n",
    "Match Object. Using Character set in square Brackets searches for all the character set in the square bracket and \n",
    "if match is found, it returns it.\n"
   ]
  },
  {
   "cell_type": "code",
   "execution_count": null,
   "id": "067ffd16",
   "metadata": {},
   "outputs": [],
   "source": [
    "#Q8. In regular-expression search patterns, why is it necessary to use the raw-string indicator (r)? In  \n",
    "#replacement strings?\n",
    "Raw Strings are used in the regular-expression search patterns, so that blackslashes donot have to be escaped."
   ]
  },
  {
   "cell_type": "code",
   "execution_count": null,
   "id": "22ef8391",
   "metadata": {},
   "outputs": [],
   "source": []
  }
 ],
 "metadata": {
  "kernelspec": {
   "display_name": "Python 3",
   "language": "python",
   "name": "python3"
  },
  "language_info": {
   "codemirror_mode": {
    "name": "ipython",
    "version": 3
   },
   "file_extension": ".py",
   "mimetype": "text/x-python",
   "name": "python",
   "nbconvert_exporter": "python",
   "pygments_lexer": "ipython3",
   "version": "3.8.8"
  }
 },
 "nbformat": 4,
 "nbformat_minor": 5
}
