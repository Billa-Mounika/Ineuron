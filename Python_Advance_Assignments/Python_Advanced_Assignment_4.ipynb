{
 "cells": [
  {
   "cell_type": "code",
   "execution_count": null,
   "id": "3ac4fcd9",
   "metadata": {},
   "outputs": [],
   "source": [
    "#Q1. Which two operator overloading methods can you use in your classes to support iteration?\n",
    "\n",
    "__iter__ and __next__ are the operator overloading methods in python that support iteration\n",
    "__iter__ returns the iterator object and is called at the start of loop in our respective class.\n",
    "__next__ is called at \n"
   ]
  },
  {
   "cell_type": "code",
   "execution_count": 2,
   "id": "1507dbbb",
   "metadata": {},
   "outputs": [
    {
     "name": "stdout",
     "output_type": "stream",
     "text": [
      "Hello, Geeks.\n",
      "0.18181818181818182\n"
     ]
    }
   ],
   "source": [
    "#Q2. In what contexts do the two operator overloading methods manage printing?\n",
    "\n",
    "#str() and repr() both are used to get a string representation of object.\n",
    "s = 'Hello, Geeks.'\n",
    "print (str(s))\n",
    "print (str(2.0/11.0))"
   ]
  },
  {
   "cell_type": "code",
   "execution_count": 3,
   "id": "fc39087d",
   "metadata": {},
   "outputs": [
    {
     "name": "stdout",
     "output_type": "stream",
     "text": [
      "'Hello, Geeks.'\n",
      "0.18181818181818182\n"
     ]
    }
   ],
   "source": [
    "s = 'Hello, Geeks.'\n",
    "print (repr(s))\n",
    "print (repr(2.0/11.0))"
   ]
  },
  {
   "cell_type": "code",
   "execution_count": null,
   "id": "0cb4b6f3",
   "metadata": {},
   "outputs": [],
   "source": [
    "str() is used for creating output for end user while repr() is mainly used for debugging and development. repr’s \n",
    "goal is to be unambiguous and str’s is to be readable. For example, if we suspect a float has a small rounding \n",
    "error, repr will show us while str may not.\n",
    "\n",
    "The print statement and str() built-in function uses __str__ to display the string representation of the object \n",
    "while the repr() built-in function uses __repr__ to display the object."
   ]
  },
  {
   "cell_type": "code",
   "execution_count": 4,
   "id": "b8d5fcfd",
   "metadata": {},
   "outputs": [
    {
     "name": "stdout",
     "output_type": "stream",
     "text": [
      "300\n"
     ]
    }
   ],
   "source": [
    "#Q4. In a class, how do you capture in-place addition?\n",
    "\n",
    "#a+b is normal addition. Whereas a+=b is inplace addition operation. In this in-place addition a itself will store the value of addition. In a class __iadd__ method is used for this in-place operation\n",
    "\n",
    "class Book:\n",
    "    def __init__(self,pages):\n",
    "        self.pages = pages\n",
    "    def __iadd__(self,other):\n",
    "        self.pages += other.pages\n",
    "        return self.pages\n",
    "        \n",
    "b1 = Book(100)\n",
    "b2 = Book(200)\n",
    "b1+=b2\n",
    "print(b1)\n",
    "\n"
   ]
  },
  {
   "cell_type": "code",
   "execution_count": null,
   "id": "7eee9e43",
   "metadata": {},
   "outputs": [],
   "source": [
    "#Q5. When is it appropriate to use operator overloading?\n",
    "\n",
    "#Operator overloading is used when we want to use an operator other than its normal operation to have different \n",
    "meaning according to the context required in user defined function."
   ]
  }
 ],
 "metadata": {
  "kernelspec": {
   "display_name": "Python 3",
   "language": "python",
   "name": "python3"
  },
  "language_info": {
   "codemirror_mode": {
    "name": "ipython",
    "version": 3
   },
   "file_extension": ".py",
   "mimetype": "text/x-python",
   "name": "python",
   "nbconvert_exporter": "python",
   "pygments_lexer": "ipython3",
   "version": "3.8.8"
  }
 },
 "nbformat": 4,
 "nbformat_minor": 5
}
