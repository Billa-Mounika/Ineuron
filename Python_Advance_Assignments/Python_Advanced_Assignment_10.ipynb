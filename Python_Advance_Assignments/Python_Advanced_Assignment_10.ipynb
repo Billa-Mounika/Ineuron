{
 "cells": [
  {
   "cell_type": "code",
   "execution_count": 3,
   "id": "c459ceb5",
   "metadata": {},
   "outputs": [
    {
     "name": "stdout",
     "output_type": "stream",
     "text": [
      "1\n",
      "10\n"
     ]
    },
    {
     "ename": "AttributeError",
     "evalue": "'Count' object has no attribute 'mycurrent'",
     "output_type": "error",
     "traceback": [
      "\u001b[1;31m---------------------------------------------------------------------------\u001b[0m",
      "\u001b[1;31mAttributeError\u001b[0m                            Traceback (most recent call last)",
      "\u001b[1;32m<ipython-input-3-840b15384cda>\u001b[0m in \u001b[0;36m<module>\u001b[1;34m\u001b[0m\n\u001b[0;32m     16\u001b[0m \u001b[0mprint\u001b[0m\u001b[1;33m(\u001b[0m\u001b[0mobj1\u001b[0m\u001b[1;33m.\u001b[0m\u001b[0mmymin\u001b[0m\u001b[1;33m)\u001b[0m\u001b[1;33m\u001b[0m\u001b[1;33m\u001b[0m\u001b[0m\n\u001b[0;32m     17\u001b[0m \u001b[0mprint\u001b[0m\u001b[1;33m(\u001b[0m\u001b[0mobj1\u001b[0m\u001b[1;33m.\u001b[0m\u001b[0mmymax\u001b[0m\u001b[1;33m)\u001b[0m\u001b[1;33m\u001b[0m\u001b[1;33m\u001b[0m\u001b[0m\n\u001b[1;32m---> 18\u001b[1;33m \u001b[0mprint\u001b[0m\u001b[1;33m(\u001b[0m\u001b[0mobj1\u001b[0m\u001b[1;33m.\u001b[0m\u001b[0mmycurrent\u001b[0m\u001b[1;33m)\u001b[0m  \u001b[1;31m# AttributeError: 'Count' object has no attribute 'mycurrent'\u001b[0m\u001b[1;33m\u001b[0m\u001b[1;33m\u001b[0m\u001b[0m\n\u001b[0m",
      "\u001b[1;31mAttributeError\u001b[0m: 'Count' object has no attribute 'mycurrent'"
     ]
    }
   ],
   "source": [
    "#Q1. What is the difference between __getattr__ and __getattribute__?\n",
    "\n",
    "#Both __getattr__ and __getattribute__ are magic methods.\n",
    "\n",
    "#**__getattr__**\n",
    "#Python will call __getattr__ method whenever you request an attribute that hasn't already been defined. In the \n",
    "#following example my class Count has no __getattr__ method. Now in main when I try to access both obj1.mymin and \n",
    "#obj1.mymax attributes everything works fine. But when I try to access obj1.mycurrent attribute -- Python gives me \n",
    "#AttributeError: 'Count' object has no attribute 'mycurrent'\n",
    "class Count():\n",
    "    def __init__(self,mymin,mymax):\n",
    "        self.mymin=mymin\n",
    "        self.mymax=mymax\n",
    "\n",
    "obj1 = Count(1,10)\n",
    "print(obj1.mymin)\n",
    "print(obj1.mymax)\n",
    "print(obj1.mycurrent)  # AttributeError: 'Count' object has no attribute 'mycurrent'\n"
   ]
  },
  {
   "cell_type": "code",
   "execution_count": 4,
   "id": "2f2a35f4",
   "metadata": {},
   "outputs": [
    {
     "name": "stdout",
     "output_type": "stream",
     "text": [
      "1\n",
      "10\n",
      "0\n"
     ]
    }
   ],
   "source": [
    "#Now my class Count has __getattr__ method. Now when I try to access obj1.mycurrent attribute -- python returns me \n",
    "#whatever I have implemented in my __getattr__ method. In my example whenever I try to call an attribute which \n",
    "#doesn't exist, python creates that attribute and sets it to integer value 0.\n",
    "class Count:\n",
    "    def __init__(self,mymin,mymax):\n",
    "        self.mymin=mymin\n",
    "        self.mymax=mymax    \n",
    "\n",
    "    def __getattr__(self, item):\n",
    "        self.__dict__[item]=0\n",
    "        return 0\n",
    "\n",
    "obj1 = Count(1,10)\n",
    "print(obj1.mymin)\n",
    "print(obj1.mymax)\n",
    "print(obj1.mycurrent1)"
   ]
  },
  {
   "cell_type": "code",
   "execution_count": 7,
   "id": "7411dd1a",
   "metadata": {},
   "outputs": [
    {
     "name": "stdout",
     "output_type": "stream",
     "text": [
      "1\n",
      "10\n"
     ]
    },
    {
     "ename": "AttributeError",
     "evalue": "",
     "output_type": "error",
     "traceback": [
      "\u001b[1;31m---------------------------------------------------------------------------\u001b[0m",
      "\u001b[1;31mAttributeError\u001b[0m                            Traceback (most recent call last)",
      "\u001b[1;32m<ipython-input-7-9d7f94ea4402>\u001b[0m in \u001b[0;36m<module>\u001b[1;34m\u001b[0m\n\u001b[0;32m     24\u001b[0m \u001b[0mprint\u001b[0m\u001b[1;33m(\u001b[0m\u001b[0mobj1\u001b[0m\u001b[1;33m.\u001b[0m\u001b[0mmymin\u001b[0m\u001b[1;33m)\u001b[0m\u001b[1;33m\u001b[0m\u001b[1;33m\u001b[0m\u001b[0m\n\u001b[0;32m     25\u001b[0m \u001b[0mprint\u001b[0m\u001b[1;33m(\u001b[0m\u001b[0mobj1\u001b[0m\u001b[1;33m.\u001b[0m\u001b[0mmymax\u001b[0m\u001b[1;33m)\u001b[0m\u001b[1;33m\u001b[0m\u001b[1;33m\u001b[0m\u001b[0m\n\u001b[1;32m---> 26\u001b[1;33m \u001b[0mprint\u001b[0m\u001b[1;33m(\u001b[0m\u001b[0mobj1\u001b[0m\u001b[1;33m.\u001b[0m\u001b[0mcurrent\u001b[0m\u001b[1;33m)\u001b[0m\u001b[1;33m\u001b[0m\u001b[1;33m\u001b[0m\u001b[0m\n\u001b[0m",
      "\u001b[1;32m<ipython-input-7-9d7f94ea4402>\u001b[0m in \u001b[0;36m__getattribute__\u001b[1;34m(self, item)\u001b[0m\n\u001b[0;32m     17\u001b[0m     \u001b[1;32mdef\u001b[0m \u001b[0m__getattribute__\u001b[0m\u001b[1;33m(\u001b[0m\u001b[0mself\u001b[0m\u001b[1;33m,\u001b[0m \u001b[0mitem\u001b[0m\u001b[1;33m)\u001b[0m\u001b[1;33m:\u001b[0m\u001b[1;33m\u001b[0m\u001b[1;33m\u001b[0m\u001b[0m\n\u001b[0;32m     18\u001b[0m         \u001b[1;32mif\u001b[0m \u001b[0mitem\u001b[0m\u001b[1;33m.\u001b[0m\u001b[0mstartswith\u001b[0m\u001b[1;33m(\u001b[0m\u001b[1;34m'cur'\u001b[0m\u001b[1;33m)\u001b[0m\u001b[1;33m:\u001b[0m\u001b[1;33m\u001b[0m\u001b[1;33m\u001b[0m\u001b[0m\n\u001b[1;32m---> 19\u001b[1;33m             \u001b[1;32mraise\u001b[0m \u001b[0mAttributeError\u001b[0m\u001b[1;33m\u001b[0m\u001b[1;33m\u001b[0m\u001b[0m\n\u001b[0m\u001b[0;32m     20\u001b[0m         \u001b[1;32mreturn\u001b[0m \u001b[0mobject\u001b[0m\u001b[1;33m.\u001b[0m\u001b[0m__getattribute__\u001b[0m\u001b[1;33m(\u001b[0m\u001b[0mself\u001b[0m\u001b[1;33m,\u001b[0m\u001b[0mitem\u001b[0m\u001b[1;33m)\u001b[0m\u001b[1;33m\u001b[0m\u001b[1;33m\u001b[0m\u001b[0m\n\u001b[0;32m     21\u001b[0m         \u001b[1;31m# or you can use ---return super().__getattribute__(item)\u001b[0m\u001b[1;33m\u001b[0m\u001b[1;33m\u001b[0m\u001b[1;33m\u001b[0m\u001b[0m\n",
      "\u001b[1;31mAttributeError\u001b[0m: "
     ]
    }
   ],
   "source": [
    "#__getattribute__\n",
    "\n",
    "#Now lets see the __getattribute__ method. If you have __getattribute__ method in your class, python invokes this \n",
    "#method for every attribute regardless whether it exists or not. So why do we need __getattribute__ method? One \n",
    "#good reason is that you can prevent access to attributes and make them more secure as shown in the following example.\n",
    "\n",
    "\n",
    "#Whenever someone try to access my attributes that starts with substring 'cur' python raises AttributeError \n",
    "#exception. Otherwise it returns that attribute.\n",
    "class Count:\n",
    "\n",
    "    def __init__(self,mymin,mymax):\n",
    "        self.mymin=mymin\n",
    "        self.mymax=mymax\n",
    "        self.current=None\n",
    "   \n",
    "    def __getattribute__(self, item):\n",
    "        if item.startswith('cur'):\n",
    "            raise AttributeError\n",
    "        return object.__getattribute__(self,item) \n",
    "        # or you can use ---return super().__getattribute__(item)\n",
    "\n",
    "obj1 = Count(1,10)\n",
    "print(obj1.mymin)\n",
    "print(obj1.mymax)\n",
    "print(obj1.current)"
   ]
  },
  {
   "cell_type": "code",
   "execution_count": null,
   "id": "3749c785",
   "metadata": {},
   "outputs": [],
   "source": [
    "#Q2. What is the difference between properties and descriptors?\n",
    "\n",
    "# 1) Python descriptors are created to manage the attributes of different classes which use the object as \n",
    "#reference. In descriptors we used three different methods that are __getters__(), __setters__(), and __delete__().\n",
    "#If any of those methods are defined for an object, it can be termed as a descriptor.\n",
    "\n",
    "# 2) Descriptors are invoked automatically whenever it receives the call for a set() method or get() method. \n",
    "\n",
    "# 3) Descriptors are invoked by the __getattribute__() method.\n",
    "\n",
    "\n",
    "\n",
    "\n",
    "# 1)Python property() function returns the object of the property class and it is used to create property of a \n",
    "#class. Syntax: property(fget, fset, fdel, doc)\n",
    "# 2) If no arguments are given, property() method returns a base property attribute that doesn’t contain any getter, setter or deleter."
   ]
  },
  {
   "cell_type": "code",
   "execution_count": null,
   "id": "6a13160c",
   "metadata": {},
   "outputs": [],
   "source": [
    "Q3. What are the key differences in functionality between __getattr__ and __getattribute__, as well as\n",
    "properties and descriptors?\n",
    "\n",
    "#explained clearly in the above 2 questions"
   ]
  }
 ],
 "metadata": {
  "kernelspec": {
   "display_name": "Python 3",
   "language": "python",
   "name": "python3"
  },
  "language_info": {
   "codemirror_mode": {
    "name": "ipython",
    "version": 3
   },
   "file_extension": ".py",
   "mimetype": "text/x-python",
   "name": "python",
   "nbconvert_exporter": "python",
   "pygments_lexer": "ipython3",
   "version": "3.8.8"
  }
 },
 "nbformat": 4,
 "nbformat_minor": 5
}
