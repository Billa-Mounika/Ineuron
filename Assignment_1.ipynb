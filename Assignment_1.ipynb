{
 "cells": [
  {
   "cell_type": "raw",
   "id": "21215e43",
   "metadata": {},
   "source": [
    "1. In the below elements which of them are values or an expression? eg:- values can be\n",
    "integer or string and expressions will be mathematical operators.\n",
    "\n",
    "Ans. \n",
    "\n",
    "Expressions - (* , - , + , /)\n",
    "Values - ('hello' , -87.8 , 6)\n"
   ]
  },
  {
   "cell_type": "raw",
   "id": "02e251ed",
   "metadata": {},
   "source": [
    "2.What is the difference between string and variable?\n",
    "\n",
    "Ans.\n",
    "\n",
    "Variable -\n",
    "A variable is something that holds a value that may change. A variable is just a box(memory) that you can put stuff(different data types) in. \n",
    "Example : lucky_no = 5\n",
    "          print(lucky_5)\n",
    "Strings - \n",
    "Strings are sequences of characters. To create a string, put the sequence of characters inside either single quotes, double quotes, or triple quotes and then assign it to a variable. \n"
   ]
  },
  {
   "cell_type": "raw",
   "id": "f13e9f84",
   "metadata": {},
   "source": [
    "3. Describe three different data types.\n",
    "\n",
    "Ans.\n",
    "\n",
    "1. Numeric Data Type - int \n",
    "Int or integer, is a whole number, positive or negative, without decimals of any length.\n",
    "Example : \n",
    "x = 1\n",
    "y = 35656222554887711\n",
    "z = -3255522\n",
    "\n",
    "print(type(x))\n",
    "print(type(y))\n",
    "print(type(z))\n",
    "\n",
    "2. Text Data Type - float\n",
    "Float, or \"floating point number\" is a number, positive or negative, containing one or more decimals.\n",
    "x = 1.10\n",
    "y = 1.0\n",
    "z = -35.59\n",
    "\n",
    "print(type(x))\n",
    "print(type(y))\n",
    "print(type(z))\n",
    "\n",
    "3. List\n",
    "Lists are used to store multiple items in a single variable.List items are ordered, changeable, and allow duplicate values.List items are indexed, the first item has index [0], the second item has index [1] etc.\n",
    "The list is changeable, meaning that we can change, add, and remove items in a list after it has been created.\n",
    "Example - thislist = [\"apple\", \"banana\", \"cherry\"]\n",
    "          print(thislist)"
   ]
  },
  {
   "cell_type": "raw",
   "id": "26b6499b",
   "metadata": {},
   "source": [
    "4. What is an expression made up of? What do all expressions do?\n",
    "\n",
    "Ans.\n",
    "\n",
    "An expression is a combination of operators and operands.\n",
    "\n",
    "Expressions are interpreted to produce some other value.In any programming language, an expression is evaluated as per the precedence of its operators. So that if there is more than one operator in an expression, their precedence decides which operation will be performed first. \n",
    "Example : a = 10 + 3 * 4\n",
    "          print(a)\n",
    "  "
   ]
  },
  {
   "cell_type": "raw",
   "id": "11c72e7c",
   "metadata": {},
   "source": [
    "5. This assignment statements, like spam = 10. What is the difference between an\n",
    "expression and a statement?\n",
    "\n",
    "Ans.\n",
    "\n",
    "A statement does something. Statements represent an action or command eg print statements, assignment statements. Expression is a combination of variables, operations and values that gets a result value. \n",
    "Explaination : spam = 10. Here we are assigning 10 to spam variable and hence its an assignment statement.\n"
   ]
  },
  {
   "cell_type": "raw",
   "id": "4439d227",
   "metadata": {},
   "source": [
    "6. After running the following code, what does the variable bacon contain?\n",
    "bacon = 22\n",
    "bacon + 1\n",
    "\n",
    "Ans. The bacon variable is set to 22."
   ]
  },
  {
   "cell_type": "raw",
   "id": "7b916a49",
   "metadata": {},
   "source": [
    "7. What should the values of the following two terms be?\n",
    "'spam' + 'spamspam'\n",
    "'spam' * 3\n",
    "\n",
    "Ans : Both expressions evaluate to the string 'spamspamspam'"
   ]
  },
  {
   "cell_type": "raw",
   "id": "c32f3a06",
   "metadata": {},
   "source": [
    "8. Why is eggs a valid variable name while 100 is invalid?\n",
    "\n",
    "Ans. Variable names cannot begin with a number."
   ]
  },
  {
   "cell_type": "raw",
   "id": "cf6edb9b",
   "metadata": {},
   "source": [
    "9. What three functions can be used to get the integer, floating-point number, or string\n",
    "version of a value?\n",
    "\n",
    "Ans. The int(), float(), and str() functions will evaluate to the integer, floating-point number, and string versions of the value passed to them."
   ]
  },
  {
   "cell_type": "raw",
   "id": "5c5dcb6d",
   "metadata": {},
   "source": [
    "10. Why does this expression cause an error? How can you fix it?\n",
    "\n",
    "Ans. The expression causes an error because 99 is an integer and only strings can be concatenated to other strings with the + operator. The correct way is 'I have eaten ' + str(99) + ' burritos' ."
   ]
  }
 ],
 "metadata": {
  "kernelspec": {
   "display_name": "Python 3",
   "language": "python",
   "name": "python3"
  },
  "language_info": {
   "codemirror_mode": {
    "name": "ipython",
    "version": 3
   },
   "file_extension": ".py",
   "mimetype": "text/x-python",
   "name": "python",
   "nbconvert_exporter": "python",
   "pygments_lexer": "ipython3",
   "version": "3.8.8"
  }
 },
 "nbformat": 4,
 "nbformat_minor": 5
}
