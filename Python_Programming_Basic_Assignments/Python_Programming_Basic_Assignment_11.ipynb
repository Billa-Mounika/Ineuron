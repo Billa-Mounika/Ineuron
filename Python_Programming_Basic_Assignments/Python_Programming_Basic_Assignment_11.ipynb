{
 "cells": [
  {
   "cell_type": "code",
   "execution_count": 1,
   "id": "b3e199af",
   "metadata": {},
   "outputs": [
    {
     "name": "stdout",
     "output_type": "stream",
     "text": [
      "Enter the string : my name is mounika billa\n",
      "Enter k  (value for accepting string) : 3\n",
      "All words which are greater than given length  3 are  ['name', 'mounika', 'billa']\n"
     ]
    }
   ],
   "source": [
    "#1. Write a Python program to find words which are greater than given length k?\n",
    "myStr =  input('Enter the string : ')\n",
    "k = int(input('Enter k  (value for accepting string) : '))\n",
    "largerStrings = []\n",
    "\n",
    "# Finding words with length greater than k\n",
    "words = myStr.split(\" \")\n",
    "for word in words:\n",
    "\tif len(word) > k:\n",
    "\t\tlargerStrings.append(word)\n",
    "\t\t\n",
    "# printing values\n",
    "print(\"All words which are greater than given length \", k, \"are \", largerStrings)\n"
   ]
  },
  {
   "cell_type": "code",
   "execution_count": 2,
   "id": "7a7c27b2",
   "metadata": {},
   "outputs": [
    {
     "name": "stdout",
     "output_type": "stream",
     "text": [
      "geeksORgeeks\n"
     ]
    }
   ],
   "source": [
    "#2. Write a Python program for removing i-th character from a string?\n",
    "def remove(string, i): \n",
    "  \n",
    "    for j in range(len(string)):\n",
    "        if j == i:\n",
    "            string = string.replace(string[i], \"\", 1)\n",
    "    return string\n",
    "      \n",
    "# Driver Code\n",
    "if __name__ == '__main__':\n",
    "      \n",
    "    string = \"geeksFORgeeks\"\n",
    "      \n",
    "    # Remove nth index element\n",
    "    i = 5\n",
    "    \n",
    "    # Print the new string\n",
    "    print(remove(string, i))"
   ]
  },
  {
   "cell_type": "code",
   "execution_count": 3,
   "id": "4c9dba40",
   "metadata": {},
   "outputs": [
    {
     "name": "stdout",
     "output_type": "stream",
     "text": [
      "['Geeks', 'for', 'Geeks']\n",
      "Geeks-for-Geeks\n"
     ]
    }
   ],
   "source": [
    "#3. Write a Python program to split and join a string?\n",
    "def split_string(string):\n",
    "  \n",
    "    # Split the string based on space delimiter\n",
    "    list_string = string.split(' ')\n",
    "      \n",
    "    return list_string\n",
    "  \n",
    "def join_string(list_string):\n",
    "  \n",
    "    # Join the string based on '-' delimiter\n",
    "    string = '-'.join(list_string)\n",
    "      \n",
    "    return string\n",
    "  \n",
    "# Driver Function\n",
    "if __name__ == '__main__':\n",
    "    string = 'Geeks for Geeks'\n",
    "      \n",
    "    # Splitting a string\n",
    "    list_string = split_string(string)\n",
    "    print(list_string)\n",
    "  \n",
    "     # Join list of strings into one\n",
    "    new_string = join_string(list_string)\n",
    "    print(new_string)"
   ]
  },
  {
   "cell_type": "code",
   "execution_count": 4,
   "id": "80cd6100",
   "metadata": {},
   "outputs": [
    {
     "name": "stdout",
     "output_type": "stream",
     "text": [
      "Yes\n"
     ]
    }
   ],
   "source": [
    "#4. Write a Python to check if a given string is binary string or not?\n",
    "import re\n",
    " \n",
    "sampleInput = \"1001010\"\n",
    " \n",
    "# regular expression to find the strings\n",
    "# which have characters other than 0 and 1\n",
    "c = re.compile('[^01]')\n",
    " \n",
    "# use findall() to get the list of strings\n",
    "# that have characters other than 0 and 1.\n",
    "if(len(c.findall(sampleInput))):\n",
    "    print(\"No\") # if length of list > 0 then it is not binary\n",
    "else:\n",
    "    print(\"Yes\") # if length of list = 0 then it is binary"
   ]
  },
  {
   "cell_type": "code",
   "execution_count": 11,
   "id": "0829b071",
   "metadata": {},
   "outputs": [
    {
     "name": "stdout",
     "output_type": "stream",
     "text": [
      "['Learning', 'from']\n"
     ]
    }
   ],
   "source": [
    "#5. Write a Python program to find uncommon words from two Strings?\n",
    "def uncommon(A, B):\n",
    "    un_comm = [i for i in B.split() if i not in A.split()]\n",
    "    return un_comm\n",
    "  \n",
    "#Driver code\n",
    "A = \"Geeks for Geeks\" \n",
    "B = \"Learning from Geeks for Geeks\"\n",
    "\n",
    "print(uncommon(A, B))\n"
   ]
  },
  {
   "cell_type": "code",
   "execution_count": 19,
   "id": "51bd1663",
   "metadata": {},
   "outputs": [
    {
     "name": "stdout",
     "output_type": "stream",
     "text": [
      "t o i\n"
     ]
    }
   ],
   "source": [
    "#6. Write a Python to find all duplicate characters in string?\n",
    "# initializing string\n",
    "string = \"tutorialspoint\"\n",
    "## initializing a list to append all the duplicate characters\n",
    "duplicates = []\n",
    "for char in string:\n",
    "    if string.count(char) > 1:\n",
    "        if char not in duplicates:\n",
    "            duplicates.append(char)\n",
    "print(*duplicates)"
   ]
  },
  {
   "cell_type": "code",
   "execution_count": 23,
   "id": "ecff29d9",
   "metadata": {},
   "outputs": [
    {
     "name": "stdout",
     "output_type": "stream",
     "text": [
      "String is not accepted.\n"
     ]
    }
   ],
   "source": [
    "#7. Write a Python Program to check if a string contains any special character?\n",
    "\n",
    "import re\n",
    " \n",
    "def run(string):\n",
    "    regex = re.compile('[@_!#$%^&*()<>?/\\|}{~:]')\n",
    "    if(regex.search(string) == None):\n",
    "        print(\"String is accepted\")\n",
    "         \n",
    "    else:\n",
    "        print(\"String is not accepted.\")\n",
    "     \n",
    "if __name__ == '__main__' :\n",
    "     \n",
    "    string = \"Geeks@For$Geeks\"\n",
    "    run(string)"
   ]
  },
  {
   "cell_type": "code",
   "execution_count": null,
   "id": "9f0d8fc2",
   "metadata": {},
   "outputs": [],
   "source": []
  }
 ],
 "metadata": {
  "kernelspec": {
   "display_name": "Python 3",
   "language": "python",
   "name": "python3"
  },
  "language_info": {
   "codemirror_mode": {
    "name": "ipython",
    "version": 3
   },
   "file_extension": ".py",
   "mimetype": "text/x-python",
   "name": "python",
   "nbconvert_exporter": "python",
   "pygments_lexer": "ipython3",
   "version": "3.8.8"
  }
 },
 "nbformat": 4,
 "nbformat_minor": 5
}
