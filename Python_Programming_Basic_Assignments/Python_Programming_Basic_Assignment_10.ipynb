{
 "cells": [
  {
   "cell_type": "code",
   "execution_count": 3,
   "id": "2002ab3b",
   "metadata": {},
   "outputs": [
    {
     "name": "stdout",
     "output_type": "stream",
     "text": [
      "Sum of all elements in given list:  74\n"
     ]
    }
   ],
   "source": [
    "#1. Write a Python program to find sum of elements in list?\n",
    " \n",
    "# creating a list\n",
    "list1 = [11, 5, 17, 18, 23]\n",
    " \n",
    "# using sum() function\n",
    "total = sum(list1)\n",
    " \n",
    "# printing total value\n",
    "print(\"Sum of all elements in given list: \", total)\n",
    "\n"
   ]
  },
  {
   "cell_type": "code",
   "execution_count": 5,
   "id": "5ef7cd29",
   "metadata": {},
   "outputs": [
    {
     "name": "stdout",
     "output_type": "stream",
     "text": [
      "6\n",
      "24\n",
      "6\n",
      "24\n"
     ]
    }
   ],
   "source": [
    "#2. Write a Python program to Multiply all numbers in the list?\n",
    "from functools import reduce\n",
    "list1 = [1, 2, 3]\n",
    "list2 = [3, 2, 4]\n",
    " \n",
    " \n",
    "result1 = reduce((lambda x, y: x * y), list1)\n",
    "result2 = reduce((lambda x, y: x * y), list2)\n",
    "print(result1)\n",
    "print(result2)\n",
    "\n",
    "\n",
    "#or\n",
    "\n",
    "import numpy\n",
    "list1 = [1, 2, 3]\n",
    "list2 = [3, 2, 4]\n",
    " \n",
    "# using numpy.prod() to get the multiplications\n",
    "result1 = numpy.prod(list1)\n",
    "result2 = numpy.prod(list2)\n",
    "print(result1)\n",
    "print(result2)"
   ]
  },
  {
   "cell_type": "code",
   "execution_count": 6,
   "id": "35bdf9ab",
   "metadata": {},
   "outputs": [
    {
     "name": "stdout",
     "output_type": "stream",
     "text": [
      "Smallest element is: 1\n",
      "Smallest element is: 4\n"
     ]
    }
   ],
   "source": [
    "#3. Write a Python program to find smallest number in a list?\n",
    "\n",
    "# list of numbers\n",
    "list1 = [10, 20, 1, 45, 99]\n",
    " \n",
    " \n",
    "# printing the maximum element\n",
    "print(\"Smallest element is:\", min(list1))\n",
    "\n",
    "#or\n",
    "\n",
    "list1 = [10, 20, 4, 45, 99]\n",
    "# sorting the list\n",
    "list1.sort()\n",
    " \n",
    "# printing the first element\n",
    "print(\"Smallest element is:\", *list1[:1])"
   ]
  },
  {
   "cell_type": "code",
   "execution_count": 8,
   "id": "e9ca9d99",
   "metadata": {},
   "outputs": [
    {
     "name": "stdout",
     "output_type": "stream",
     "text": [
      "Largest element is: 99\n",
      "Largest element is: 99\n"
     ]
    }
   ],
   "source": [
    "#4. Write a Python program to find largest number in a list?\n",
    "\n",
    "list1 = [10, 20, 4, 45, 99]\n",
    "  \n",
    "# sorting the list\n",
    "list1.sort()\n",
    "  \n",
    "# printing the last element\n",
    "print(\"Largest element is:\", list1[-1])\n",
    "\n",
    "#or\n",
    "\n",
    "list1 = [10, 20, 4, 45, 99]\n",
    "  \n",
    "  \n",
    "# printing the maximum element\n",
    "print(\"Largest element is:\", max(list1))"
   ]
  },
  {
   "cell_type": "code",
   "execution_count": 10,
   "id": "b4d48656",
   "metadata": {},
   "outputs": [
    {
     "name": "stdout",
     "output_type": "stream",
     "text": [
      "Second largest element is: 45\n"
     ]
    }
   ],
   "source": [
    "#5. Write a Python program to find second largest number in a list?\n",
    "list1 = [10, 20, 4, 45, 99]\n",
    " \n",
    "# sorting the list\n",
    "list1.sort()\n",
    " \n",
    "# printing the second last element\n",
    "print(\"Second largest element is:\", list1[-2])"
   ]
  },
  {
   "cell_type": "code",
   "execution_count": 15,
   "id": "78bf8aea",
   "metadata": {},
   "outputs": [
    {
     "name": "stdout",
     "output_type": "stream",
     "text": [
      "[298, 900, 1000, 3579]\n"
     ]
    }
   ],
   "source": [
    "#6. Write a Python program to find N largest elements from a list?\n",
    "l = [1000,298,3579,100,200,-45,900]\n",
    "n = 4\n",
    "  \n",
    "l.sort()\n",
    "l\n",
    "\n",
    "print(l[-n:])"
   ]
  },
  {
   "cell_type": "code",
   "execution_count": 16,
   "id": "58b8891a",
   "metadata": {},
   "outputs": [
    {
     "name": "stdout",
     "output_type": "stream",
     "text": [
      "10 4 66 "
     ]
    }
   ],
   "source": [
    "#7. Write a Python program to print even numbers in a list?\n",
    "\n",
    "list1 = [10, 21, 4, 45, 66, 93]\n",
    " \n",
    "# iterating each number in list\n",
    "for num in list1:\n",
    " \n",
    "    # checking condition\n",
    "    if num % 2 == 0:\n",
    "        print(num, end=\" \")"
   ]
  },
  {
   "cell_type": "code",
   "execution_count": 17,
   "id": "77bcd29a",
   "metadata": {},
   "outputs": [
    {
     "name": "stdout",
     "output_type": "stream",
     "text": [
      "21 45 93 "
     ]
    }
   ],
   "source": [
    "#8. Write a Python program to print odd numbers in a List?\n",
    "\n",
    "list1 = [10, 21, 4, 45, 66, 93]\n",
    "  \n",
    "# iterating each number in list\n",
    "for num in list1:\n",
    "      \n",
    "    # checking condition\n",
    "    if num % 2 != 0:\n",
    "       print(num, end = \" \")"
   ]
  },
  {
   "cell_type": "code",
   "execution_count": 18,
   "id": "47d7ab9a",
   "metadata": {},
   "outputs": [
    {
     "name": "stdout",
     "output_type": "stream",
     "text": [
      "The original list is : [5, 6, [], 3, [], [], 9]\n",
      "List after empty list removal : [5, 6, 3, 9]\n"
     ]
    }
   ],
   "source": [
    "#9. Write a Python program to Remove empty List from List?\n",
    "\n",
    "test_list = [5, 6, [], 3, [], [], 9]\n",
    "  \n",
    "# printing original list \n",
    "print(\"The original list is : \" + str(test_list))\n",
    "  \n",
    "# Remove empty List from List\n",
    "# using filter\n",
    "res = list(filter(None, test_list))\n",
    "  \n",
    "# printing result \n",
    "print (\"List after empty list removal : \" + str(res))"
   ]
  },
  {
   "cell_type": "code",
   "execution_count": 19,
   "id": "b49c36fc",
   "metadata": {},
   "outputs": [
    {
     "name": "stdout",
     "output_type": "stream",
     "text": [
      "Original List: [4, 8, 2, 10, 15, 18]\n",
      "After Cloning: [4, 8, 2, 10, 15, 18]\n"
     ]
    }
   ],
   "source": [
    "#10. Write a Python program to Cloning or Copying a list?\n",
    "def Cloning(li1):\n",
    "    li_copy = []\n",
    "    li_copy.extend(li1)\n",
    "    return li_copy\n",
    "   \n",
    "# Driver Code\n",
    "li1 = [4, 8, 2, 10, 15, 18]\n",
    "li2 = Cloning(li1)\n",
    "print(\"Original List:\", li1)\n",
    "print(\"After Cloning:\", li2)"
   ]
  },
  {
   "cell_type": "code",
   "execution_count": 20,
   "id": "b205acc0",
   "metadata": {},
   "outputs": [
    {
     "name": "stdout",
     "output_type": "stream",
     "text": [
      "8 has occurred 5 times\n"
     ]
    }
   ],
   "source": [
    "#11. Write a Python program to Count occurrences of an element in a list?\n",
    "def countX(lst, x):\n",
    "    return lst.count(x)\n",
    " \n",
    "# Driver Code\n",
    "lst = [8, 6, 8, 10, 8, 20, 10, 8, 8]\n",
    "x = 8\n",
    "print('{} has occurred {} times'.format(x, countX(lst, x)))"
   ]
  }
 ],
 "metadata": {
  "kernelspec": {
   "display_name": "Python 3",
   "language": "python",
   "name": "python3"
  },
  "language_info": {
   "codemirror_mode": {
    "name": "ipython",
    "version": 3
   },
   "file_extension": ".py",
   "mimetype": "text/x-python",
   "name": "python",
   "nbconvert_exporter": "python",
   "pygments_lexer": "ipython3",
   "version": "3.8.8"
  }
 },
 "nbformat": 4,
 "nbformat_minor": 5
}
