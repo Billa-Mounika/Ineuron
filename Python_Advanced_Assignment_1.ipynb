{
 "cells": [
  {
   "cell_type": "raw",
   "id": "d68430a1",
   "metadata": {},
   "source": [
    "Q1) What is the purpose of Python's OOP?\n",
    "Ans) In Python,OOPs is a programming paradigm that uses objects and classes in programming. \n",
    "It aims to implement real-world entities like inheritance, polymorphisms, encapsulation, Abstraction etc. in the programming. \n",
    "The main concept of OOPs is to bind the data and the functions that work on that together as a single unit so that no other part of the code can access this data. "
   ]
  },
  {
   "cell_type": "raw",
   "id": "f4f299db",
   "metadata": {},
   "source": [
    "Q2) Where does an inheritance search look for an attribute?\n",
    "Ans) Method Resolution Order(MRO) it denotes the way a programming language resolves a method or attribute. Python supports classes inheriting from other classes. The class being inherited is called the Parent or Superclass, while the class that inherits is called the Child or Subclass. In python, method resolution order defines the order in which the base classes are searched when executing a method. First, the method or attribute is searched within a class and then it follows the order we specified while inheriting. This order is also called Linearization of a class and set of rules are called MRO(Method Resolution Order). We can use either __mro__ attribute or mro() method. "
   ]
  },
  {
   "cell_type": "code",
   "execution_count": 1,
   "id": "11a38c77",
   "metadata": {},
   "outputs": [
    {
     "data": {
      "text/plain": [
       "(__main__.G,\n",
       " __main__.E,\n",
       " __main__.D,\n",
       " __main__.F,\n",
       " __main__.B,\n",
       " __main__.C,\n",
       " __main__.A,\n",
       " object)"
      ]
     },
     "execution_count": 1,
     "metadata": {},
     "output_type": "execute_result"
    }
   ],
   "source": [
    "#Example : \n",
    "class A : pass \n",
    "class B : pass \n",
    "class C(A,object): pass\n",
    "class D: pass\n",
    "class E(D,B): pass\n",
    "class F(B,C): pass\n",
    "class G(E,F): pass\n",
    "\n",
    "g = G()\n",
    "G.__mro__"
   ]
  },
  {
   "cell_type": "raw",
   "id": "adaf2f9a",
   "metadata": {},
   "source": [
    "Q3) How do you distinguish between a class object and an instance object?\n",
    "Ans) \n",
    "\n",
    "Class Object : When we create a class in python then a class object is created so whenever python finds a class statement in the whole program then it creates a class object and assigns a name to that object i.e. class name. \n",
    "class MyClass:\n",
    "    pass\n",
    "Above code will generate a class object and name it ‘MyClass’. From this class object, we will create instance objects.\n",
    "\n",
    "Instance Object : \n",
    "When we call a class, it creates an instance object of that class from which the object has been created. For example when we call the above-created class then it will create an instance object like this.\n",
    "\t\n",
    "Obj1=MyClass()\n",
    "The above statement creates an object and names it to Obj1 which is an instance of MyClass.\n",
    "\n",
    "Instance objects are real objects in your python code process. The instance object has access to attributes of the class from which it is created. For example, Obj1 is the instance of class MyClass so, Now Obj1 can access everything defined in the class, and in the class object, we define the default behavior and properties of objects.\n",
    "  "
   ]
  },
  {
   "cell_type": "raw",
   "id": "c493c6f5",
   "metadata": {},
   "source": [
    "Q4) What makes the first argument in a class’s method function special?\n",
    "Ans)The first argument of every class method, including init, is always a reference to the current instance of the class. By convention, this argument is always named self. In the init method, self refers to the newly created object; in other class methods, it refers to the instance whose method was called"
   ]
  },
  {
   "cell_type": "raw",
   "id": "a8e71b09",
   "metadata": {},
   "source": [
    "Q5) What is the purpose of the __init__ method?\n",
    "Ans) When we create a new object of a class, Python automatically calls the __init__() method to initialize the object’s attributes.\n",
    "Unlike regular methods the __init__() method has two underscores (__) on each side. "
   ]
  },
  {
   "cell_type": "raw",
   "id": "cd2b5554",
   "metadata": {},
   "source": [
    "Q6) What is the process for creating a class instance?\n",
    "Ans) To create class instance, we call the class using class name and pass in whatever arguments its __init__ method accepts."
   ]
  },
  {
   "cell_type": "raw",
   "id": "de2e5515",
   "metadata": {},
   "source": [
    "Q7)What is the process for creating a class?\n",
    "Ans) Just as a function in Python is defined using the def keyword, a class in Python is also defined using the class keyword, followed by the class name.\n",
    "class ClassName:\n",
    "    # Statement-1\n",
    "    .\n",
    "    .\n",
    "    .\n",
    "    # Statement-N\n",
    "Example : class Dog:\n",
    "            pass"
   ]
  },
  {
   "cell_type": "raw",
   "id": "b982c3b8",
   "metadata": {},
   "source": [
    "Q8)How would you define the superclasses of a class in Python?\n",
    "Ans) A superclass is the class from which many subclasses can be created. The subclasses inherit the characteristics of a superclass. The superclass is also known as the parent class or base class.\n"
   ]
  }
 ],
 "metadata": {
  "kernelspec": {
   "display_name": "Python 3",
   "language": "python",
   "name": "python3"
  },
  "language_info": {
   "codemirror_mode": {
    "name": "ipython",
    "version": 3
   },
   "file_extension": ".py",
   "mimetype": "text/x-python",
   "name": "python",
   "nbconvert_exporter": "python",
   "pygments_lexer": "ipython3",
   "version": "3.8.8"
  }
 },
 "nbformat": 4,
 "nbformat_minor": 5
}
